{
 "cells": [
  {
   "cell_type": "markdown",
   "metadata": {},
   "source": [
    "7 countries\n",
    "\n",
    "6 page long policy briefs\n",
    "\n",
    "\n",
    "USA\n",
    "UK\n",
    "\n",
    "EU (28)\n",
    "\n",
    "India\n",
    "France\n",
    "\n",
    "1.1\n",
    "USA\n",
    "India\n",
    "France\n",
    "\n",
    "1.2\n",
    "UK\n",
    "USA (Hawaii? Alaska? -> check with country author)\n",
    "EU(28) (Exclude oversees)\n",
    "India\n",
    "France\n",
    "\n",
    "1.3\n",
    "India\n",
    "\n",
    "\n",
    "Excel spreadsheet\n",
    "\n",
    "Columns -> countries\n",
    "Rows -> years\n",
    "\n",
    "Generate plots anyways\n",
    "\n",
    "Generate maps\n"
   ]
  },
  {
   "cell_type": "code",
   "execution_count": 1,
   "metadata": {
    "collapsed": true
   },
   "outputs": [],
   "source": [
    "%matplotlib inline\n",
    "\n",
    "from pathlib import Path\n",
    "from datetime import date\n",
    "\n",
    "import rasterio\n",
    "import numpy as np\n",
    "import scipy as sp\n",
    "import pandas as pd\n",
    "import xarray as xr\n",
    "import matplotlib.pyplot as plt\n",
    "import cartopy.crs as ccrs\n",
    "import geopandas as gpd\n",
    "\n",
    "\n",
    "import affine\n",
    "# import fiona\n",
    "\n",
    "# from scipy import stats\n",
    "from tqdm import tnrange, tqdm_notebook, tqdm\n",
    "\n",
    "import population_tools\n",
    "\n",
    "from config import (DATA_SRC, POP_DATA_SRC)"
   ]
  },
  {
   "cell_type": "code",
   "execution_count": 2,
   "metadata": {
    "collapsed": true
   },
   "outputs": [],
   "source": [
    "from joblib import Parallel, delayed"
   ]
  },
  {
   "cell_type": "code",
   "execution_count": 20,
   "metadata": {
    "collapsed": true
   },
   "outputs": [],
   "source": [
    "power_level_data = {\n",
    "    200: (35.53,  3.94),\n",
    "    300: (33.49, 3.94),\n",
    "    400: (32.47, 4.16)\n",
    "    }\n",
    "\n",
    "\n",
    "MAX_YEAR = 2017\n",
    "REFERENCE_YEAR_START = 1986\n",
    "REFERENCE_YEAR_END = 2008\n",
    "\n",
    "RESULTS_FOLDER = Path('./results/lancet2018/countries/1.3 labour')\n",
    "\n",
    "COUNTRY_SHAPEFILE = DATA_SRC / 'GIS' / 'world'/ 'ne_50m_admin_0_countries' / 'ne_50m_admin_0_countries.shp'\n",
    "\n",
    "COUNTRY_RASTER_FILES = DATA_SRC/ 'lancet/countries_rasters/*.nc'\n",
    "\n",
    "# LIMIT to the following countries for now\n",
    "# SELECTED_COUNTRIES = ['IND', 'USA', 'GBR', 'FRA', 'SWE', 'AUS']\n",
    "SELECTED_COUNTRIES = ['AUS']"
   ]
  },
  {
   "cell_type": "markdown",
   "metadata": {},
   "source": [
    "## Load country data"
   ]
  },
  {
   "cell_type": "code",
   "execution_count": 17,
   "metadata": {
    "collapsed": true
   },
   "outputs": [],
   "source": [
    "# Load a country shapefile for rasterising\n",
    "COUNTRIES = gpd.read_file(str(COUNTRY_SHAPEFILE))\n",
    "# Translate to match raster coordinates\n",
    "COUNTRIES.geometry = COUNTRIES.translate(xoff=180)\n",
    "\n",
    "# Remove missing UN A3 code fields, convert to int and set as index\n",
    "COUNTRIES.loc[COUNTRIES.un_a3 == '-099', 'un_a3'] = np.nan\n",
    "COUNTRIES.un_a3 = COUNTRIES.un_a3.astype(float)\n",
    "COUNTRIES = COUNTRIES[np.isfinite(COUNTRIES.un_a3)]\n",
    "COUNTRIES.un_a3 = COUNTRIES.un_a3.astype(int)\n",
    "COUNTRIES = COUNTRIES.set_index('un_a3')"
   ]
  },
  {
   "cell_type": "code",
   "execution_count": 29,
   "metadata": {},
   "outputs": [],
   "source": [
    "COUNTRY_RASTER = xr.open_mfdataset(str(COUNTRY_RASTER_FILES))"
   ]
  },
  {
   "cell_type": "code",
   "execution_count": 30,
   "metadata": {},
   "outputs": [
    {
     "data": {
      "text/plain": [
       "<matplotlib.collections.QuadMesh at 0x1293f7978>"
      ]
     },
     "execution_count": 30,
     "metadata": {},
     "output_type": "execute_result"
    },
    {
     "data": {
      "image/png": "[encoded data removed]",
      "text/plain": [
       "<Figure size 432x288 with 2 Axes>"
      ]
     },
     "metadata": {},
     "output_type": "display_data"
    }
   ],
   "source": [
    "COUNTRY_RASTER.sel(iso_a3=36).country_id.plot()"
   ]
  },
  {
   "cell_type": "code",
   "execution_count": 21,
   "metadata": {},
   "outputs": [
    {
     "data": {
      "text/html": [
       "<div>\n",
       "<style scoped>\n",
       "    .dataframe tbody tr th:only-of-type {\n",
       "        vertical-align: middle;\n",
       "    }\n",
       "\n",
       "    .dataframe tbody tr th {\n",
       "        vertical-align: top;\n",
       "    }\n",
       "\n",
       "    .dataframe thead th {\n",
       "        text-align: right;\n",
       "    }\n",
       "</style>\n",
       "<table border=\"1\" class=\"dataframe\">\n",
       "  <thead>\n",
       "    <tr style=\"text-align: right;\">\n",
       "      <th></th>\n",
       "      <th>scalerank</th>\n",
       "      <th>featurecla</th>\n",
       "      <th>labelrank</th>\n",
       "      <th>sovereignt</th>\n",
       "      <th>sov_a3</th>\n",
       "      <th>adm0_dif</th>\n",
       "      <th>level</th>\n",
       "      <th>type</th>\n",
       "      <th>admin</th>\n",
       "      <th>adm0_a3</th>\n",
       "      <th>...</th>\n",
       "      <th>continent</th>\n",
       "      <th>region_un</th>\n",
       "      <th>subregion</th>\n",
       "      <th>region_wb</th>\n",
       "      <th>name_len</th>\n",
       "      <th>long_len</th>\n",
       "      <th>abbrev_len</th>\n",
       "      <th>tiny</th>\n",
       "      <th>homepart</th>\n",
       "      <th>geometry</th>\n",
       "    </tr>\n",
       "    <tr>\n",
       "      <th>un_a3</th>\n",
       "      <th></th>\n",
       "      <th></th>\n",
       "      <th></th>\n",
       "      <th></th>\n",
       "      <th></th>\n",
       "      <th></th>\n",
       "      <th></th>\n",
       "      <th></th>\n",
       "      <th></th>\n",
       "      <th></th>\n",
       "      <th></th>\n",
       "      <th></th>\n",
       "      <th></th>\n",
       "      <th></th>\n",
       "      <th></th>\n",
       "      <th></th>\n",
       "      <th></th>\n",
       "      <th></th>\n",
       "      <th></th>\n",
       "      <th></th>\n",
       "      <th></th>\n",
       "    </tr>\n",
       "  </thead>\n",
       "  <tbody>\n",
       "    <tr>\n",
       "      <th>36</th>\n",
       "      <td>1</td>\n",
       "      <td>Admin-0 country</td>\n",
       "      <td>2.0</td>\n",
       "      <td>Australia</td>\n",
       "      <td>AU1</td>\n",
       "      <td>1.0</td>\n",
       "      <td>2.0</td>\n",
       "      <td>Country</td>\n",
       "      <td>Australia</td>\n",
       "      <td>AUS</td>\n",
       "      <td>...</td>\n",
       "      <td>Oceania</td>\n",
       "      <td>Oceania</td>\n",
       "      <td>Australia and New Zealand</td>\n",
       "      <td>East Asia &amp; Pacific</td>\n",
       "      <td>9.0</td>\n",
       "      <td>9.0</td>\n",
       "      <td>4.0</td>\n",
       "      <td>-99.0</td>\n",
       "      <td>1.0</td>\n",
       "      <td>(POLYGON ((338.87880859375 -54.709765625, 338....</td>\n",
       "    </tr>\n",
       "  </tbody>\n",
       "</table>\n",
       "<p>1 rows × 63 columns</p>\n",
       "</div>"
      ],
      "text/plain": [
       "       scalerank       featurecla  labelrank sovereignt sov_a3  adm0_dif  \\\n",
       "un_a3                                                                      \n",
       "36             1  Admin-0 country        2.0  Australia    AU1       1.0   \n",
       "\n",
       "       level     type      admin adm0_a3  \\\n",
       "un_a3                                      \n",
       "36       2.0  Country  Australia     AUS   \n",
       "\n",
       "                             ...                          continent region_un  \\\n",
       "un_a3                        ...                                                \n",
       "36                           ...                            Oceania   Oceania   \n",
       "\n",
       "                       subregion            region_wb name_len long_len  \\\n",
       "un_a3                                                                     \n",
       "36     Australia and New Zealand  East Asia & Pacific      9.0      9.0   \n",
       "\n",
       "       abbrev_len  tiny homepart  \\\n",
       "un_a3                              \n",
       "36            4.0 -99.0      1.0   \n",
       "\n",
       "                                                geometry  \n",
       "un_a3                                                     \n",
       "36     (POLYGON ((338.87880859375 -54.709765625, 338....  \n",
       "\n",
       "[1 rows x 63 columns]"
      ]
     },
     "execution_count": 21,
     "metadata": {},
     "output_type": "execute_result"
    }
   ],
   "source": [
    "COUNTRIES[COUNTRIES.adm0_a3.isin(SELECTED_COUNTRIES)]"
   ]
  },
  {
   "cell_type": "markdown",
   "metadata": {},
   "source": [
    "## 1.3 Labor capacity change"
   ]
  },
  {
   "cell_type": "code",
   "execution_count": 31,
   "metadata": {
    "collapsed": true
   },
   "outputs": [],
   "source": [
    "hours_lost_200 = xr.open_mfdataset(str(DATA_SRC / 'lancet' / f'monthly_labour_loss_hours_200' / 'loss_hours_*.nc'))\n",
    "hours_lost_300 = xr.open_mfdataset(str(DATA_SRC / 'lancet' / f'monthly_labour_loss_hours_300' / 'loss_hours_*.nc'))\n",
    "hours_lost_400 = xr.open_mfdataset(str(DATA_SRC / 'lancet' / f'monthly_labour_loss_hours_400' / 'loss_hours_*.nc'))\n",
    "\n",
    "# Calculate the yearly total hours lost for each power level\n",
    "hours_lost_200 = hours_lost_200.resample(time='1Y').sum()\n",
    "hours_lost_200 = hours_lost_200.rename({'time': 'year'})\n",
    "hours_lost_200['year'] = hours_lost_200['year.year']\n",
    "\n",
    "hours_lost_300 = hours_lost_300.resample(time='1Y').sum()\n",
    "hours_lost_300 = hours_lost_300.rename({'time': 'year'})\n",
    "hours_lost_300['year'] = hours_lost_300['year.year']\n",
    "\n",
    "hours_lost_400 = hours_lost_400.resample(time='1Y').sum()\n",
    "hours_lost_400 = hours_lost_400.rename({'time': 'year'})\n",
    "hours_lost_400['year'] = hours_lost_400['year.year']\n",
    "\n",
    "\n",
    "pct_working_age = xr.open_mfdataset(str(DATA_SRC / 'lancet' / 'yearly_pct_working_age' / 'pct_working_age_*.nc'))\n",
    "\n",
    "yearly_pct_in_agri = xr.open_mfdataset(str(DATA_SRC / 'lancet' / 'yearly_pct_in_agri' / 'pct_in_sector_*.nc'))\n",
    "\n",
    "yearly_pct_in_indu = xr.open_mfdataset(str(DATA_SRC / 'lancet' / 'yearly_pct_in_indu' / 'pct_in_sector_*.nc'))\n",
    "\n",
    "yearly_pct_in_serv = xr.open_mfdataset(str(DATA_SRC / 'lancet' / 'yearly_pct_in_serv' / 'pct_in_sector_*.nc'))\n",
    "\n",
    "agri_weights = pct_working_age.pct_working_age * yearly_pct_in_agri.pct_in_sector\n",
    "indu_weights = pct_working_age.pct_working_age * yearly_pct_in_indu.pct_in_sector\n",
    "serv_weights = pct_working_age.pct_working_age * yearly_pct_in_serv.pct_in_sector"
   ]
  },
  {
   "cell_type": "code",
   "execution_count": 32,
   "metadata": {},
   "outputs": [],
   "source": []
  },
  {
   "cell_type": "code",
   "execution_count": 33,
   "metadata": {},
   "outputs": [
    {
     "data": {
      "text/html": [
       "<table style=\"border: 2px solid white;\">\n",
       "<tr>\n",
       "<td style=\"vertical-align: top; border: 0px solid white\">\n",
       "<h3>Client</h3>\n",
       "<ul>\n",
       "  <li><b>Scheduler: </b>tcp://127.0.0.1:61716\n",
       "  <li><b>Dashboard: </b><a href='http://127.0.0.1:8787/status' target='_blank'>http://127.0.0.1:8787/status</a>\n",
       "</ul>\n",
       "</td>\n",
       "<td style=\"vertical-align: top; border: 0px solid white\">\n",
       "<h3>Cluster</h3>\n",
       "<ul>\n",
       "  <li><b>Workers: </b>8</li>\n",
       "  <li><b>Cores: </b>8</li>\n",
       "  <li><b>Memory: </b>17.18 GB</li>\n",
       "</ul>\n",
       "</td>\n",
       "</tr>\n",
       "</table>"
      ],
      "text/plain": [
       "<Client: scheduler='tcp://127.0.0.1:61716' processes=8 cores=8>"
      ]
     },
     "execution_count": 33,
     "metadata": {},
     "output_type": "execute_result"
    }
   ],
   "source": [
    "from dask.distributed import Client\n",
    "client = Client()\n",
    "client"
   ]
  },
  {
   "cell_type": "code",
   "execution_count": 36,
   "metadata": {},
   "outputs": [],
   "source": [
    "# Map population in agriculture to 400W loss hours\n",
    "agri = population_tools.project_to_population(hours_lost_400.loss_hours, \n",
    "                                                 agri_weights, end_year=MAX_YEAR, \n",
    "                                              get_ts=False)\n",
    "\n",
    "# Map population in industry to 300W loss hours\n",
    "indu = population_tools.project_to_population(hours_lost_300.loss_hours, \n",
    "                                              indu_weights, end_year=MAX_YEAR, \n",
    "                                              get_ts=False)\n",
    "\n",
    "# Map population in service to 200W loss hours\n",
    "serv = population_tools.project_to_population(hours_lost_200.loss_hours, \n",
    "                                              serv_weights, end_year=MAX_YEAR, \n",
    "                                              get_ts=False)"
   ]
  },
  {
   "cell_type": "code",
   "execution_count": 37,
   "metadata": {},
   "outputs": [],
   "source": [
    "total = agri + indu + serv"
   ]
  },
  {
   "cell_type": "code",
   "execution_count": 51,
   "metadata": {},
   "outputs": [],
   "source": [
    "tmp = COUNTRIES[COUNTRIES.adm0_a3.isin(SELECTED_COUNTRIES)]\n",
    "\n",
    "for iso_as, row in tmp.iterrows():\n",
    "    country_mask = COUNTRY_RASTER.sel(iso_a3=iso_as).country_id\n",
    "    c_total = agri * country_mask\n",
    "    agri_ts = (c_total.drop('iso_a3')\n",
    "                      .sum(dim=['latitude', 'longitude'],skipna=True)\n",
    "                      .compute()\n",
    "                      .to_dataframe('Agriculture'))\n",
    "    c_total = indu * country_mask\n",
    "    indu_ts = (c_total.drop('iso_a3')\n",
    "                      .sum(dim=['latitude', 'longitude'],skipna=True)\n",
    "                      .compute()\n",
    "                      .to_dataframe('Industry'))\n",
    "    \n",
    "    c_total = serv * country_mask\n",
    "    serv_ts = (c_total.drop('iso_a3')\n",
    "                      .sum(dim=['latitude', 'longitude'],skipna=True)\n",
    "                      .compute()\n",
    "                      .to_dataframe('Service'))\n",
    "    \n",
    "    total_loss_sectors = pd.concat([agri_ts, indu_ts, serv_ts], axis=1)\n",
    "    total_loss_sectors['Total'] = total_loss_sectors.sum(axis=1)\n",
    "\n",
    "#     c_total = total * country_mask\n",
    "#     ttl_ts = (c_total.drop('iso_a3')\n",
    "#                       .sum(dim=['latitude', 'longitude'],skipna=True)\n",
    "#                       .compute()\n",
    "#                       .to_dataframe('Total'))\n",
    "    \n",
    "    total_loss_sectors.to_excel(RESULTS_FOLDER / f'{row.adm0_a3}_loss_hours.xlsx')"
   ]
  },
  {
   "cell_type": "code",
   "execution_count": 56,
   "metadata": {},
   "outputs": [],
   "source": [
    "agri_ts = agri_ts.rename(columns={'Total': 'Agriculture'})\n",
    "indu_ts = indu_ts.rename(columns={'Total': 'Industry'})\n",
    "serv_ts = serv_ts.rename(columns={'Total': 'Service'})"
   ]
  },
  {
   "cell_type": "code",
   "execution_count": 58,
   "metadata": {},
   "outputs": [],
   "source": [
    "total_loss_sectors = pd.concat([agri_ts, indu_ts, serv_ts], axis=1)\n",
    "total_loss_sectors['Total'] = total_loss_sectors.sum(axis=1)"
   ]
  },
  {
   "cell_type": "code",
   "execution_count": 60,
   "metadata": {},
   "outputs": [],
   "source": [
    "total_loss_sectors.to_excel(RESULTS_FOLDER / f'{row.adm0_a3}_loss_hours.xlsx')"
   ]
  },
  {
   "cell_type": "code",
   "execution_count": 62,
   "metadata": {},
   "outputs": [
    {
     "data": {
      "image/png": "[encoded data removed]",
      "text/plain": [
       "<Figure size 432x288 with 1 Axes>"
      ]
     },
     "metadata": {},
     "output_type": "display_data"
    }
   ],
   "source": [
    "t = total_loss_sectors / 1_000_000\n",
    "ax = t[['Agriculture', 'Industry', 'Service']].plot.area()\n",
    "ax.set_ylabel('million hours')\n",
    "\n",
    "plt.title('Total hours of labour lost by sector')\n",
    "plt.xlim(2000, 2017)\n",
    "plt.xticks(t.index, rotation=90);\n",
    "plt.savefig(RESULTS_FOLDER / f'{row.adm0_a3}_total_labour_loss_by_sector_area.png', bbox_inches='tight', dpi=300)\n",
    "\n"
   ]
  },
  {
   "cell_type": "markdown",
   "metadata": {},
   "source": [
    "### Labour capacity by country"
   ]
  },
  {
   "cell_type": "code",
   "execution_count": 14,
   "metadata": {
    "collapsed": true
   },
   "outputs": [],
   "source": [
    "countries_raster_anom = rasterize_countries(countries, labour_delta)"
   ]
  },
  {
   "cell_type": "code",
   "execution_count": 15,
   "metadata": {},
   "outputs": [
    {
     "data": {
      "application/vnd.jupyter.widget-view+json": {
       "model_id": "07a0611baf5646cfbf08db39b22b2c65"
      }
     },
     "metadata": {},
     "output_type": "display_data"
    },
    {
     "name": "stdout",
     "output_type": "stream",
     "text": [
      "\n"
     ]
    }
   ],
   "source": [
    "results = [do_selection(row, labour_delta, countries_raster_anom) \n",
    "           for idx, row in tqdm_notebook(countries.iterrows(), total=len(countries)) if row.iso_a2]\n",
    "\n",
    "anom_by_country = pd.concat(results, axis=1)"
   ]
  },
  {
   "cell_type": "markdown",
   "metadata": {},
   "source": [
    "### Exposures by country\n",
    "\n",
    "\n"
   ]
  },
  {
   "cell_type": "code",
   "execution_count": 28,
   "metadata": {
    "collapsed": true
   },
   "outputs": [],
   "source": [
    "def do_exposure(row, data, country_da, norm=True):\n",
    "    country_num = row.index_number\n",
    "    exposures_ts = _project_to_population(data, country_da, country_num, norm=norm)\n",
    "    exposures_ts.name = row.iso_a2\n",
    "    exposures_ts = exposures_ts.to_dataframe()\n",
    "    return exposures_ts\n"
   ]
  },
  {
   "cell_type": "code",
   "execution_count": 17,
   "metadata": {
    "collapsed": true
   },
   "outputs": [],
   "source": [
    "with population_tools.PopulationProjector('population_count_2000-2020.nc') as pop:\n",
    "    countries_raster_expo = pop.rasterize_data(countries, 'index_number', \n",
    "                                               affine=affine.Affine.translation(-180, 0) * pop.affine)"
   ]
  },
  {
   "cell_type": "code",
   "execution_count": 30,
   "metadata": {
    "collapsed": true
   },
   "outputs": [],
   "source": [
    "country_da = countries_raster_expo.copy()\n",
    "country_num = 99\n",
    "country_da.shape = (*country_da.shape, 1)\n",
    "with population_tools.PopulationProjector('population_count_2000-2020.nc') as pop:\n",
    "    pop_sel = (pop.data * pct_rural_rasters).where(country_da == country_num).compute()\n",
    "    pop_sum = pop_sel.sum(dim=['latitude', 'longitude'], skipna=True)"
   ]
  },
  {
   "cell_type": "code",
   "execution_count": 14,
   "metadata": {
    "collapsed": true
   },
   "outputs": [],
   "source": [
    "select_country = ['IN']"
   ]
  },
  {
   "cell_type": "code",
   "execution_count": null,
   "metadata": {
    "collapsed": true
   },
   "outputs": [],
   "source": [
    "# do_exposure(row, labour_capacity, countries_raster_expo, norm=True) "
   ]
  },
  {
   "cell_type": "code",
   "execution_count": 31,
   "metadata": {
    "collapsed": true
   },
   "outputs": [],
   "source": [
    "labour_change_exposure_ts = _project_to_population(labour_delta, country_da, country_num, norm=True)"
   ]
  },
  {
   "cell_type": "code",
   "execution_count": 32,
   "metadata": {
    "collapsed": true
   },
   "outputs": [],
   "source": [
    "labour_change_exposure_ts.to_dataframe(\n",
    "    name='labour_capacity_change').to_csv(COUNTRY_BRIEFS / 'labour_capacity'\n",
    "                                        / 'IN_labour_capacity_change.csv')"
   ]
  },
  {
   "cell_type": "code",
   "execution_count": 34,
   "metadata": {
    "collapsed": true
   },
   "outputs": [],
   "source": [
    "global_capacity_ts = xr.open_dataarray(str(DATA_SRC/'lancet'/'labour_capacity.nc'))"
   ]
  },
  {
   "cell_type": "code",
   "execution_count": 37,
   "metadata": {},
   "outputs": [
    {
     "data": {
      "image/png": "[encoded data removed]",
      "text/plain": [
       "<matplotlib.figure.Figure at 0x12a3719e8>"
      ]
     },
     "metadata": {},
     "output_type": "display_data"
    }
   ],
   "source": [
    "# labour_capacity_loss_ts.plot(label='Global')\n",
    "global_capacity_ts.plot(color='C0',label='Global')\n",
    "labour_change_exposure_ts.plot(color='C1', label='India')\n",
    "plt.title('''Comparison between labour capacity loss\n",
    "for India and the world\n",
    "''')\n",
    "plt.ylabel('Labour capacity loss (%)')\n",
    "plt.legend()\n",
    "plt.savefig(str(COUNTRY_BRIEFS / 'labour_capacity' / 'IN_labour_capacity.png'), bbox_inches='tight')"
   ]
  },
  {
   "cell_type": "code",
   "execution_count": null,
   "metadata": {},
   "outputs": [
    {
     "name": "stderr",
     "output_type": "stream",
     "text": [
      "  0%|          | 0/241 [00:00<?, ?it/s]"
     ]
    }
   ],
   "source": [
    "results = [do_exposure(row, labour_capacity, countries_raster_expo, norm=True) \n",
    "           for idx, row in tqdm(countries.iterrows(), total=len(countries)) if row.iso_a2 in select_country]\n",
    "\n",
    "capacity_by_country = pd.concat(results, axis=1)"
   ]
  },
  {
   "cell_type": "code",
   "execution_count": null,
   "metadata": {
    "collapsed": true
   },
   "outputs": [],
   "source": [
    "results = [do_exposure(row, labour_delta, countries_raster_expo, norm=True) \n",
    "           for idx, row in tqdm(countries.iterrows(), total=len(countries)) if row.iso_a2 in select_country]\n",
    "\n",
    "delta_by_country = pd.concat(results, axis=1)"
   ]
  },
  {
   "cell_type": "code",
   "execution_count": 37,
   "metadata": {
    "collapsed": true
   },
   "outputs": [],
   "source": [
    "capacity_by_country.to_csv(COUNTRY_BRIEFS / 'india'/ 'labour_capacity.csv')"
   ]
  },
  {
   "cell_type": "code",
   "execution_count": 48,
   "metadata": {
    "collapsed": true
   },
   "outputs": [],
   "source": [
    "capacity_by_country = pd.read_csv(COUNTRY_BRIEFS / 'india'/ 'labour_capacity.csv', index_col='year')"
   ]
  },
  {
   "cell_type": "code",
   "execution_count": 21,
   "metadata": {
    "collapsed": true
   },
   "outputs": [],
   "source": [
    "from cartopy.io import shapereader"
   ]
  },
  {
   "cell_type": "code",
   "execution_count": 22,
   "metadata": {
    "collapsed": true
   },
   "outputs": [],
   "source": [
    "import cartopy"
   ]
  },
  {
   "cell_type": "code",
   "execution_count": 24,
   "metadata": {},
   "outputs": [
    {
     "name": "stderr",
     "output_type": "stream",
     "text": [
      "/Users/jonathanchambers/miniconda3/envs/lancet/lib/python3.6/site-packages/cartopy/mpl/geoaxes.py:1539: RuntimeWarning: invalid value encountered in greater\n",
      "  to_mask = ((np.abs(dx_horizontal) > np.pi / 2) |\n"
     ]
    },
    {
     "data": {
      "image/png": "[encoded data removed]",
      "text/plain": [
       "<matplotlib.figure.Figure at 0x12bccbba8>"
      ]
     },
     "metadata": {},
     "output_type": "display_data"
    }
   ],
   "source": [
    "year_data = labour_delta.sel(year=2016) - labour_delta.sel(year=2000)\n",
    "year_data = year_data * population_tools.get_water_mask(year_data)\n",
    "f = plt.figure(figsize=(6,3))\n",
    "\n",
    "ax = plt.axes(projection=ccrs.PlateCarree())\n",
    "year_data.plot.pcolormesh(ax=ax,\n",
    "                          transform=ccrs.PlateCarree(),\n",
    "                          cbar_kwargs=dict(label='Change in labour capacity (%)'),\n",
    "                          cmap='RdBu'\n",
    "                         )\n",
    "ax.add_feature(cartopy.feature.BORDERS, linestyle=':')\n",
    "\n",
    "ax.set_extent((66.18,98.3,5.32, 36.91))\n",
    "ax.coastlines()\n",
    "plt.tight_layout()\n",
    "plt.title('''Change in Labour capacity \n",
    "Indian subcontinent 2000 to 2016''')\n",
    "\n",
    "\n",
    "f.savefig(COUNTRY_BRIEFS / 'india'/ 'labour_capacity_delta_change_2000-2016.png', dpi=300, bbox_inches='tight')\n",
    "# f.savefig('labour_capacity_delta_change_2000-2016.pdf')"
   ]
  },
  {
   "cell_type": "markdown",
   "metadata": {},
   "source": [
    "## Calculate lost labour in terms of equivalent number of people removed"
   ]
  },
  {
   "cell_type": "code",
   "execution_count": 18,
   "metadata": {},
   "outputs": [],
   "source": [
    "def get_lost_population(labour_capacity):\n",
    "\n",
    "    with population_tools.PopulationProjector() as pop:\n",
    "        rural_pop_sum = (pop.data * pct_rural_rasters).sum(dim=['latitude', 'longitude'])\n",
    "            \n",
    "        def _gen():\n",
    "            for year in tnrange(2000,2017):\n",
    "                yield pop.project(year, (100 - labour_capacity.sel(year=year))) * pct_rural_rasters.sel(year=year)\n",
    "                \n",
    "        global_capacity = xr.concat(_gen(), dim='year')\n",
    "\n",
    "        global_capacity_ts = global_capacity.sum(dim=['latitude', 'longitude'])\n",
    "        global_capacity_ts.name = 'lost_capacity'\n",
    "    return global_capacity_ts.compute() / 100\n",
    "\n",
    "# lost_capacity_ts = get_lost_population(labour_delta)"
   ]
  },
  {
   "cell_type": "code",
   "execution_count": 24,
   "metadata": {},
   "outputs": [],
   "source": [
    "labour_delta_frac = (labour_delta / 100).copy()"
   ]
  },
  {
   "cell_type": "code",
   "execution_count": 37,
   "metadata": {
    "collapsed": true
   },
   "outputs": [],
   "source": [
    "select_country_a3 = ['IND']"
   ]
  },
  {
   "cell_type": "code",
   "execution_count": 39,
   "metadata": {
    "collapsed": true
   },
   "outputs": [],
   "source": [
    "def _project_to_population(anom_data, country_da, country_num):\n",
    "    \"\"\"Wrap in function to control memory use\"\"\"\n",
    "    country_da = country_da.copy()\n",
    "    country_da.shape = (*country_da.shape, 1)\n",
    "    \n",
    "    with population_tools.PopulationProjector('population_count_2000-2020.nc') as pop:\n",
    "        pop_sel = (pop.data * pct_rural_rasters).where(country_da == country_num).compute()\n",
    "        pop_sum = pop_sel.sum(dim=['latitude', 'longitude'], skipna=True)\n",
    "\n",
    "\n",
    "        def _gen():\n",
    "            for year in tnrange(2000,2017):\n",
    "                        \n",
    "                                 \n",
    "                proj = pop.project_param(anom_data.sel(year=year))\n",
    "                \n",
    "                proj = proj * pop_sel.sel(year=year)\n",
    "\n",
    "                proj.compute()\n",
    "                yield proj\n",
    "                \n",
    "        exposures = xr.concat(_gen(), dim='year')   \n",
    "        exposures_ts = (exposures ).sum(dim=['latitude', 'longitude'], \n",
    "                                                 skipna=True).compute()\n",
    "        return exposures_ts\n",
    "\n",
    "\n",
    "def calc_num_lost(row, data, country_da):\n",
    "    country_num = row.index_number\n",
    "    exposures_ts = _project_to_population(data, country_da, country_num)\n",
    "    exposures_ts.name = row.iso_a2\n",
    "    exposures_ts = exposures_ts.to_dataframe()\n",
    "    return exposures_ts\n",
    "\n",
    "\n"
   ]
  },
  {
   "cell_type": "code",
   "execution_count": 40,
   "metadata": {},
   "outputs": [
    {
     "data": {
      "application/vnd.jupyter.widget-view+json": {
       "model_id": "55112811a84c4e9c8ad9e26d0469883a"
      }
     },
     "metadata": {},
     "output_type": "display_data"
    },
    {
     "data": {
      "application/vnd.jupyter.widget-view+json": {
       "model_id": "20973f000c674e308d64ebf7ff8c5ada"
      }
     },
     "metadata": {},
     "output_type": "display_data"
    }
   ],
   "source": [
    "results = [calc_num_lost(row, labour_delta_frac, countries_raster_expo) \n",
    "           for idx, row in tqdm_notebook(countries.iterrows(), total=len(countries)) if row.iso_a3 in select_country_a3]"
   ]
  },
  {
   "cell_type": "code",
   "execution_count": 48,
   "metadata": {},
   "outputs": [],
   "source": [
    "labour_persons_change = pd.concat(results)"
   ]
  },
  {
   "cell_type": "code",
   "execution_count": 52,
   "metadata": {},
   "outputs": [
    {
     "data": {
      "image/png": "[encoded data removed]",
      "text/plain": [
       "<matplotlib.figure.Figure at 0x12a9c1b38>"
      ]
     },
     "metadata": {},
     "output_type": "display_data"
    }
   ],
   "source": [
    "\n",
    "labour_persons_change.plot()\n",
    "plt.ylabel('''Change in equivalent number of labourers''')\n",
    "plt.savefig(str(COUNTRY_BRIEFS / 'labour_capacity' /'IN_labourer_number_change.png'), bbox_inches='tight')"
   ]
  },
  {
   "cell_type": "code",
   "execution_count": 50,
   "metadata": {
    "collapsed": true
   },
   "outputs": [],
   "source": [
    "labour_persons_change.to_csv(COUNTRY_BRIEFS / 'labour_capacity' /'IN_labourer_number_change.csv')"
   ]
  },
  {
   "cell_type": "code",
   "execution_count": null,
   "metadata": {
    "collapsed": true
   },
   "outputs": [],
   "source": []
  }
 ],
 "metadata": {
  "kernelspec": {
   "display_name": "Python [conda env:lancet]",
   "language": "python",
   "name": "conda-env-lancet-py"
  },
  "language_info": {
   "codemirror_mode": {
    "name": "ipython",
    "version": 3
   },
   "file_extension": ".py",
   "mimetype": "text/x-python",
   "name": "python",
   "nbconvert_exporter": "python",
   "pygments_lexer": "ipython3",
   "version": "3.6.4"
  },
  "notify_time": "30"
 },
 "nbformat": 4,
 "nbformat_minor": 2
}
