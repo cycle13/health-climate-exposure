{
 "cells": [
  {
   "cell_type": "markdown",
   "metadata": {},
   "source": [
    "# Change in labor capacity\n",
    "\n",
    "\n",
    "The fraction of the total capacity lost is given by\n",
    "\n",
    "$$\n",
    "Loss = \\tfrac{1}{2}(1+ERF \\left( \\frac{WBGT-Prod_{mean}}{Prod_{SD} * \\sqrt{2}} \\right))\n",
    "$$\n",
    "\n",
    "Where WBGT is WBGTmax, WBGTmean or WBGThalf.  \n",
    "\n",
    "| Work level | $Prod_{mean}$ | $Prod_{SD}$ |\n",
    "|------------|---------------|-------------|\n",
    "| 200        | 35.53         | 3.94        |\n",
    "| 300        | 33.49         | 3.94        |\n",
    "| 400        | 32.47         | 4.16        |\n",
    "\n"
   ]
  },
  {
   "cell_type": "code",
   "execution_count": 5,
   "metadata": {
    "collapsed": true
   },
   "outputs": [],
   "source": [
    "%matplotlib inline\n",
    "\n",
    "from pathlib import Path\n",
    "\n",
    "\n",
    "import numpy as np\n",
    "import scipy as sp\n",
    "import pandas as pd\n",
    "# import geopandas as gpd\n",
    "import xarray as xr\n",
    "import matplotlib.pyplot as plt\n",
    "import cartopy.crs as ccrs\n",
    "\n",
    "from numba import jit\n",
    "from scipy import stats\n",
    "from scipy.special import erf\n",
    "# from math import erf\n",
    "\n",
    "from tqdm import tnrange, tqdm_notebook\n",
    "from config import DATA_SRC, WEATHER_SRC\n",
    "\n",
    "import population_tools"
   ]
  },
  {
   "cell_type": "code",
   "execution_count": 74,
   "metadata": {},
   "outputs": [],
   "source": [
    "# @jit(nopython=True, nogil=True)\n",
    "def labour_loss(wbgt, prod_mean, prod_sd):\n",
    "    '''\n",
    "    ..math:\n",
    "        Loss = (1+ERF((WBGT-Prod_{mean})/(Prod_{SD} * \\sqrt{2})))/2\n",
    "\n",
    "    Args:\n",
    "         WBGT is WBGTmax, WBGTmean or WBGThalf in Kelvin\n",
    "         prod_mean is the mean productivity coefficient for a given power level\n",
    "         prod_sd is the standard deviation coefficient for a given power level\n",
    "    \n",
    "    '''\n",
    "    root2 = 1.4142135623730951 # np.sqrt(2)\n",
    "    return (1 + erf(((wbgt - 273.15) - prod_mean) / (prod_sd * root2))) / 2\n",
    "\n"
   ]
  },
  {
   "cell_type": "code",
   "execution_count": 75,
   "metadata": {},
   "outputs": [],
   "source": [
    "power_level_data = {\n",
    "    200: (35.53,  3.94),\n",
    "    300: (33.49, 3.94),\n",
    "    400: (32.47, 4.16)\n",
    "    }"
   ]
  },
  {
   "cell_type": "markdown",
   "metadata": {},
   "source": [
    "## Plot the labour capacity function"
   ]
  },
  {
   "cell_type": "code",
   "execution_count": 76,
   "metadata": {},
   "outputs": [
    {
     "data": {
      "text/plain": [
       "<matplotlib.legend.Legend at 0x1c273c23c8>"
      ]
     },
     "execution_count": 76,
     "metadata": {},
     "output_type": "execute_result"
    },
    {
     "data": {
      "image/png": "[encoded data removed]",
      "text/plain": [
       "<matplotlib.figure.Figure at 0x1c273c2400>"
      ]
     },
     "metadata": {},
     "output_type": "display_data"
    }
   ],
   "source": [
    "_wbgt = np.arange(20, 50, 1) + 273.15\n",
    "labourcapacity = labour_loss(_wbgt, 35.53, 3.94)\n",
    "plt.plot(_wbgt - 273.15, labourcapacity, label='200W')\n",
    "labourcapacity = labour_loss(_wbgt, 33.49, 3.94)\n",
    "plt.plot(_wbgt- 273.15, labourcapacity, label='300W')\n",
    "labourcapacity = labour_loss(_wbgt, 32.47, 4.16)\n",
    "plt.plot(_wbgt- 273.15, labourcapacity, label='400W')\n",
    "plt.xlabel('WBGT (˚C)')\n",
    "plt.ylabel('Loss')\n",
    "plt.legend()"
   ]
  },
  {
   "cell_type": "markdown",
   "metadata": {},
   "source": [
    "## Apply to WBGT mean, max, half"
   ]
  },
  {
   "cell_type": "code",
   "execution_count": 97,
   "metadata": {
    "collapsed": true
   },
   "outputs": [],
   "source": [
    "wbgt_mean = xr.open_mfdataset(\n",
    "    str(WEATHER_SRC / 'ecmwf' / 'daily_wbgtmean'/ 'wbgt_mean_*.nc'),\n",
    "    chunks={'time':100}\n",
    "                             )\n",
    "wbgt_max = xr.open_mfdataset(\n",
    "    str(WEATHER_SRC / 'ecmwf' / 'daily_wbgtmax'/ 'wbgt_max_*.nc'),\n",
    "    chunks={'time':100}\n",
    ")\n",
    "\n",
    "wbgt_half = xr.open_mfdataset(\n",
    "    str(WEATHER_SRC / 'ecmwf' / 'daily_wbgthalf'/ 'wbgt_half_*.nc'),\n",
    "    chunks={'time':100}\n",
    ")"
   ]
  },
  {
   "cell_type": "code",
   "execution_count": 96,
   "metadata": {},
   "outputs": [],
   "source": [
    "# wbgt_mean = xr.open_mfdataset(\n",
    "#     str(WEATHER_SRC / 'ecmwf' / 'daily_wbgtmean'/ 'wbgt_mean_20*.nc'),\n",
    "#     chunks={'time':100}\n",
    "#                              )\n",
    "# wbgt_max = xr.open_mfdataset(\n",
    "#     str(WEATHER_SRC / 'ecmwf' / 'daily_wbgtmax'/ 'wbgt_max_20*.nc'),\n",
    "#     chunks={'time':100}\n",
    "# )\n",
    "\n",
    "# wbgt_half = xr.open_mfdataset(\n",
    "#     str(WEATHER_SRC / 'ecmwf' / 'daily_wbgthalf'/ 'wbgt_half_20*.nc'),\n",
    "#     chunks={'time':100}\n",
    "# )"
   ]
  },
  {
   "cell_type": "code",
   "execution_count": 49,
   "metadata": {},
   "outputs": [],
   "source": [
    "def hours_capacity_loss_ufunc(wbgt_mean, wbgt_max, wbgt_half, power_level):\n",
    "    \"\"\"\n",
    "    model hourly WBGT using the 4+4+4 method giving a close approximation \n",
    "    to the hourly WBGT during the day. 4 hours per day at WBGTmax, 4 hours \n",
    "    at WBGThalf, and 4 hours at WBGTmean.\n",
    "    \n",
    "    2 extra conditions:  \n",
    "    as people take micro-breaks during the hour we assume any work hours\n",
    "    lost less than 10% is no work hours lost, and as everyone can do at \n",
    "    least 6 minutes/hour work even under extreme conditions, we assume 90% \n",
    "    work hours lost is a maximum.\n",
    "    \n",
    "    \"\"\"\n",
    "    power_level_data = {\n",
    "        200: (35.53,  3.94),\n",
    "        300: (33.49, 3.94),\n",
    "        400: (32.47, 4.16)\n",
    "        }\n",
    "    \n",
    "    prod_mean, prod_sd = power_level_data[float(power_level)]\n",
    "    \n",
    "    \n",
    "    # Calculate the labour loss and clip it.\n",
    "    loss_mean = labour_loss(wbgt_mean, prod_mean, prod_sd)\n",
    "    loss_mean = xr.where(loss_mean < 0.1, 0, loss_mean)\n",
    "    loss_mean = xr.where(loss_mean > 0.9, 0.9,  loss_mean)\n",
    "    \n",
    "    \n",
    "    loss_max = labour_loss(wbgt_max, prod_mean, prod_sd)\n",
    "    loss_max = xr.where(loss_max < 0.1, 0, loss_max)\n",
    "    loss_max = xr.where(loss_max > 0.9, 0.9, loss_max)\n",
    "    \n",
    "    \n",
    "    loss_half = labour_loss(wbgt_half, prod_mean, prod_sd)\n",
    "    loss_half = xr.where(loss_half < 0.1, 0, loss_half)\n",
    "    loss_half = xr.where(loss_half > 0.9, 0.9, loss_half)\n",
    "    \n",
    "    loss_hours = 4 * loss_mean + 4 * loss_max + 4 * loss_half\n",
    "    return loss_hours\n",
    "    \n",
    "    "
   ]
  },
  {
   "cell_type": "code",
   "execution_count": 112,
   "metadata": {},
   "outputs": [],
   "source": [
    "def save_loss_hours_for_power(power_level):\n",
    "    loss_hours = xr.apply_ufunc(hours_capacity_loss_ufunc,\n",
    "                     wbgt_mean.wbgt, wbgt_max.wbgt, wbgt_half.wbgt, power_level,\n",
    "                     output_dtypes=[np.dtype(wbgt_mean.wbgt)],\n",
    "                     dask='parallelized'\n",
    "                    )\n",
    "\n",
    "    loss_hours.name = 'loss_hours'\n",
    "    loss_hours = loss_hours.resample(time='1M').sum(dim='time')\n",
    "    loss_hours = loss_hours.to_dataset()\n",
    "    years, datasets = zip(*loss_hours.groupby('time.year'))\n",
    "    paths = [DATA_SRC / 'lancet' / f'monthly_labour_loss_hours_{power_level}'/ f'loss_hours_{y}.nc' for y in years]\n",
    "    xr.save_mfdataset(datasets, paths)\n",
    "    "
   ]
  },
  {
   "cell_type": "code",
   "execution_count": 113,
   "metadata": {},
   "outputs": [],
   "source": [
    "power_level = 200\n",
    "\n",
    "save_loss_hours_for_power(power_level)"
   ]
  },
  {
   "cell_type": "code",
   "execution_count": 54,
   "metadata": {},
   "outputs": [],
   "source": [
    "power_level = 300\n",
    "\n",
    "save_loss_hours_for_power(power_level)"
   ]
  },
  {
   "cell_type": "code",
   "execution_count": 114,
   "metadata": {},
   "outputs": [],
   "source": [
    "power_level = 400\n",
    "\n",
    "save_loss_hours_for_power(power_level)"
   ]
  },
  {
   "cell_type": "code",
   "execution_count": null,
   "metadata": {},
   "outputs": [],
   "source": []
  },
  {
   "cell_type": "code",
   "execution_count": 11,
   "metadata": {
    "collapsed": true
   },
   "outputs": [],
   "source": [
    "# cos_lat = xr.ufuncs.cos(xr.ufuncs.radians(labour_delta.latitude))\n",
    "# labour_capacity_ts = (labour_delta.sel(year=slice(2000,2016))).mean(dim=['latitude', 'longitude'])"
   ]
  }
 ],
 "metadata": {
  "hide_input": false,
  "kernelspec": {
   "display_name": "Python [conda env:lancet]",
   "language": "python",
   "name": "conda-env-lancet-py"
  },
  "language_info": {
   "codemirror_mode": {
    "name": "ipython",
    "version": 3
   },
   "file_extension": ".py",
   "mimetype": "text/x-python",
   "name": "python",
   "nbconvert_exporter": "python",
   "pygments_lexer": "ipython3",
   "version": "3.6.2"
  },
  "notify_time": "30"
 },
 "nbformat": 4,
 "nbformat_minor": 2
}
