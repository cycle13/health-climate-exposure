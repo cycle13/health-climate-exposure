{
 "cells": [
  {
   "cell_type": "markdown",
   "metadata": {},
   "source": [
    "# Exposure to drought\n",
    "\n",
    "We use the SPI drought index as an indicator of exposure to drought risk. Similar to indicators 1.1 and 1.2, this indicator is not a direct measure of health impacts of drought, but rather a measure of the risk factor, which is mediated by a range of complicated causes to health. In general, the claim is that increase in this indicator represents an increased risk, which may lead directly to negative impacts on health or require adaptation measures to mitigate negative impacts.\n",
    "\n",
    "## TODO literature on selection of drought index (over how many months do we take SPI?)\n",
    "\n",
    "In 2009, the World Meteorological Organization (WMO) approved the Lincoln Declaration on Drought Indices (LDDI). The LDDI recommends that \"the Standardized Precipitation Index (SPI) be used to characterize the meteorological droughts around the world\", in addition to other drought indices that were in use in their service. In support of this recommendation, it was suggested that a \"comprehensive user manual\" describing the SPI should be developed. The manual provides a description of the index, the computation methods, specific examples of where it is currently being used, the strengths and limitations and mapping capabilities.\n",
    "\n",
    "https://www.ncl.ucar.edu/Applications/spi.shtml\n",
    "\n",
    "https://climatedataguide.ucar.edu/climate-data/standardized-precipitation-index-spi\n",
    "\n",
    "\n",
    "Note this one also good for extreme rain\n",
    "\n",
    "https://link.springer.com/chapter/10.1007/978-94-015-9265-9_2\n",
    "\n",
    "## TODO formula for SPI drought index\n",
    "\n",
    "Python code:\n",
    "\n",
    "https://www.drought.gov/drought/python-climate-indices\n",
    "\n",
    "\n",
    "Also an implementation in NCL\n",
    "https://www.ncl.ucar.edu/Applications/spi.shtml\n",
    "\n",
    "Could apply directly to source files\n",
    "\n",
    "https://www.ncl.ucar.edu/Document/Functions/Built-in/dim_spi_n.shtml\n",
    "\n",
    "\n",
    "> NOTE the implementation from drought.gov looks modern and good (built with Numba, which suggests they know what they are doing and like modern approaches which should make life easier). Should be able to run directly on netCDF files from ECMWF.\n",
    "\n",
    "\n",
    "## TODO data for SPI\n",
    "\n",
    "Need to add to ECMWF fetch code. Want monthly summary data for PPT\n",
    "\n",
    "NOTE that I have already a 1949-2012 summary of SPI. Do I really need to build my own? The main advantage is to ensure coherance across indicators and that they can be easily updated.\n",
    "\n",
    "> TODO do I need daily accumulation? Monthly means? Monthly means of daily?"
   ]
  },
  {
   "cell_type": "code",
   "execution_count": 2,
   "metadata": {},
   "outputs": [],
   "source": [
    "%matplotlib inline\n",
    "\n",
    "from pathlib import Path\n",
    "from datetime import date\n",
    "\n",
    "import rasterio\n",
    "import numpy as np\n",
    "import scipy as sp\n",
    "import pandas as pd\n",
    "import xarray as xr\n",
    "import matplotlib.pyplot as plt\n",
    "import cartopy.crs as ccrs\n",
    "\n",
    "from scipy import stats\n",
    "from tqdm import tnrange, tqdm_notebook\n",
    "\n",
    "\n",
    "import weather_ecmwf\n",
    "import population_tools\n",
    "\n",
    "from config import DATA_SRC"
   ]
  },
  {
   "cell_type": "code",
   "execution_count": null,
   "metadata": {},
   "outputs": [],
   "source": []
  }
 ],
 "metadata": {
  "kernelspec": {
   "display_name": "Python [conda env:lancet]",
   "language": "python",
   "name": "conda-env-lancet-py"
  },
  "language_info": {
   "codemirror_mode": {
    "name": "ipython",
    "version": 3
   },
   "file_extension": ".py",
   "mimetype": "text/x-python",
   "name": "python",
   "nbconvert_exporter": "python",
   "pygments_lexer": "ipython3",
   "version": "3.6.2"
  }
 },
 "nbformat": 4,
 "nbformat_minor": 2
}
