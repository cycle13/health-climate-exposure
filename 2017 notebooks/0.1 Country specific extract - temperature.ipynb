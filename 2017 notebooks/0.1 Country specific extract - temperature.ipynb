{
 "cells": [
  {
   "cell_type": "markdown",
   "metadata": {},
   "source": [
    "7 countries\n",
    "\n",
    "6 page long policy briefs\n",
    "\n",
    "\n",
    "USA\n",
    "UK\n",
    "\n",
    "EU (28)\n",
    "\n",
    "India\n",
    "France\n",
    "\n",
    "1.1\n",
    "USA\n",
    "India\n",
    "France\n",
    "\n",
    "1.2\n",
    "UK\n",
    "USA (Hawaii? Alaska? -> check with country author)\n",
    "EU(28) (Exclude oversees)\n",
    "India\n",
    "France\n",
    "\n",
    "1.3\n",
    "India\n",
    "\n",
    "\n",
    "Excel spreadsheet\n",
    "\n",
    "Columns -> countries\n",
    "Rows -> years\n",
    "\n",
    "Generate plots anyways\n",
    "\n",
    "Generate maps\n"
   ]
  },
  {
   "cell_type": "code",
   "execution_count": 1,
   "metadata": {
    "collapsed": true
   },
   "outputs": [],
   "source": [
    "%matplotlib inline\n",
    "\n",
    "from pathlib import Path\n",
    "from datetime import date\n",
    "\n",
    "import rasterio\n",
    "import numpy as np\n",
    "import scipy as sp\n",
    "import pandas as pd\n",
    "import xarray as xr\n",
    "import matplotlib.pyplot as plt\n",
    "import cartopy.crs as ccrs\n",
    "import geopandas\n",
    "import affine\n",
    "import fiona\n",
    "\n",
    "from scipy import stats\n",
    "from tqdm import tnrange, tqdm_notebook, tqdm\n",
    "\n",
    "\n",
    "import weather_ecmwf\n",
    "import population_tools\n",
    "\n",
    "from config import (DATA_SRC, ERA_MONTHLY_FILE, \n",
    "                    CLIMATOLOGY_FILE_MONTHLY, POP_DATA_SRC)"
   ]
  },
  {
   "cell_type": "code",
   "execution_count": 2,
   "metadata": {
    "collapsed": true
   },
   "outputs": [],
   "source": [
    "from joblib import Parallel, delayed"
   ]
  },
  {
   "cell_type": "code",
   "execution_count": 3,
   "metadata": {
    "collapsed": true
   },
   "outputs": [],
   "source": [
    "COUNTRY_BRIEFS = Path('./country_briefs')"
   ]
  },
  {
   "cell_type": "markdown",
   "metadata": {},
   "source": [
    "## Load country data"
   ]
  },
  {
   "cell_type": "code",
   "execution_count": 4,
   "metadata": {
    "collapsed": true
   },
   "outputs": [],
   "source": [
    "countries = geopandas.read_file(str(DATA_SRC / 'GIS' / 'world' / 'ne_50m_admin_0_countries' / 'ne_50m_admin_0_countries.shp'))\n",
    "\n",
    "countries.loc[countries.iso_a2 == '-99', 'iso_a2'] = None\n",
    "countries['index_number'] = countries.index  + 1\n",
    "# countries.set_index('iso_')"
   ]
  },
  {
   "cell_type": "markdown",
   "metadata": {},
   "source": [
    "### Load EU data"
   ]
  },
  {
   "cell_type": "code",
   "execution_count": 5,
   "metadata": {
    "collapsed": true
   },
   "outputs": [],
   "source": [
    "eu_nuts = geopandas.read_file(str(DATA_SRC / 'GIS' / 'NUTS_2013_10M_SH' / 'data' / 'NUTS_RG_10M_2013.shp'))\n",
    "eu_nuts = eu_nuts[eu_nuts.STAT_LEVL_ == 0]\n",
    "eu_codes = pd.read_csv('eu_country_codes.csv').set_index('Code')\n",
    "\n",
    "eu_nuts = eu_codes.join(eu_nuts.set_index('NUTS_ID'))\n",
    "eu_nuts['index_number'] = np.arange(len(eu_nuts))\n",
    "eu_nuts = eu_nuts.reset_index().set_index('index_number', drop=False)"
   ]
  },
  {
   "cell_type": "code",
   "execution_count": 6,
   "metadata": {
    "collapsed": true
   },
   "outputs": [],
   "source": [
    "def do_selection(row, data, country_da):\n",
    "    country_num = row.index_number\n",
    "    selection = data.where(country_da == country_num)\n",
    "    selection_ts = selection.mean(dim=['latitude', 'longitude'])\n",
    "    selection_ts.name = row.iso_a2\n",
    "    selection_ts = selection_ts.to_dataframe()\n",
    "    return selection_ts\n",
    "\n",
    "def get_template(data):\n",
    "    template = data.sel(year=2000).copy()\n",
    "    template = template.drop('year')\n",
    "    return template\n",
    "\n",
    "def rasterize_countries(countries, target_data):\n",
    "    country_raster = get_template(target_data)\n",
    "\n",
    "    base_affine = population_tools.get_affine(country_raster)\n",
    "\n",
    "    _country_raster = rasterio.features.rasterize(\n",
    "        [(g, v) for v, g in countries.set_index('index_number').geometry.iteritems()],\n",
    "        country_raster.shape,\n",
    "        transform=affine.Affine.translation(-180, 0) * base_affine,\n",
    "    )\n",
    "\n",
    "    country_raster.name = 'countries_id'\n",
    "    country_raster.values = np.roll(_country_raster, -_country_raster.shape[1] // 2, axis=1)\n",
    "    return country_raster\n",
    "\n",
    "def rasterize_eu(countries, target_data):\n",
    "    country_raster = get_template(target_data)\n",
    "\n",
    "    base_affine = population_tools.get_affine(country_raster)\n",
    "\n",
    "    _country_raster = rasterio.features.rasterize(countries.geometry.values, \n",
    "                                          country_raster.shape,\n",
    "                                          transform=affine.Affine.translation(-180, 0) * base_affine,\n",
    "                                          fill=0,\n",
    "                                 default_value=1\n",
    "                                        )\n",
    "\n",
    "    country_raster.values = np.roll(_country_raster, -_country_raster.shape[1] // 2, axis=1)\n",
    "    return country_raster\n"
   ]
  },
  {
   "cell_type": "markdown",
   "metadata": {},
   "source": [
    "## 1.1 Temperature change\n",
    "\n",
    "USA\n",
    "\n",
    "India\n",
    "\n",
    "France\n"
   ]
  },
  {
   "cell_type": "code",
   "execution_count": 7,
   "metadata": {
    "collapsed": true
   },
   "outputs": [],
   "source": [
    "summer_anom = xr.open_dataarray(str(DATA_SRC /'lancet' / 'summer_global.nc')).load()\n",
    "summer_exposures = xr.open_dataarray(str(DATA_SRC /'lancet' / 'summer_exposure.nc')).load()"
   ]
  },
  {
   "cell_type": "code",
   "execution_count": 8,
   "metadata": {
    "collapsed": true
   },
   "outputs": [],
   "source": [
    "cos_lat = xr.ufuncs.cos(xr.ufuncs.radians(summer_anom.latitude))\n",
    "summer_anom_ts = (summer_anom.sel(year=slice('2000','2016')) * cos_lat).mean(dim=['latitude', 'longitude'])"
   ]
  },
  {
   "cell_type": "code",
   "execution_count": 47,
   "metadata": {},
   "outputs": [],
   "source": [
    "summer_anom_ts.to_dataframe(name='summer_temperature_anomaly').to_csv(COUNTRY_BRIEFS/'summer_temperature_anomaly_global.csv')"
   ]
  },
  {
   "cell_type": "markdown",
   "metadata": {},
   "source": [
    "### Anomaly by country\n",
    "\n",
    "TODO need to figure out what to do about latitude weighting? Problem is that when you take a subset of the global, the weights no longer sum to 1. Could simply assume that the difference across a single country isn't going to be be big enough to make this an issue."
   ]
  },
  {
   "cell_type": "code",
   "execution_count": 8,
   "metadata": {
    "collapsed": true
   },
   "outputs": [],
   "source": [
    "countries_raster_anom = rasterize_countries(countries, summer_anom)"
   ]
  },
  {
   "cell_type": "code",
   "execution_count": 9,
   "metadata": {},
   "outputs": [
    {
     "name": "stderr",
     "output_type": "stream",
     "text": [
      "100%|██████████| 241/241 [00:05<00:00, 45.70it/s]\n"
     ]
    }
   ],
   "source": [
    "results = [do_selection(row, summer_anom, countries_raster_anom) \n",
    "           for idx, row in tqdm_notebook(countries.iterrows(), total=len(countries)) if row.iso_a2]\n",
    "\n",
    "anom_by_country = pd.concat(results, axis=1)"
   ]
  },
  {
   "cell_type": "markdown",
   "metadata": {},
   "source": [
    "### Exposures by country\n",
    "\n",
    "- Annoyingly, actually have to do the selection of population per country every time - can't just select from the overall exposure because the population won't be normalised (I think)...\n",
    "\n"
   ]
  },
  {
   "cell_type": "code",
   "execution_count": 9,
   "metadata": {
    "collapsed": true
   },
   "outputs": [],
   "source": [
    "def _project_to_population(anom_data, country_da, country_num):\n",
    "    \"\"\"Wrap in function to control memory use\"\"\"\n",
    "#     country_da = country_da.copy()\n",
    "#     country_da.shape = (*country_da.shape, 1)\n",
    "    \n",
    "    with population_tools.PopulationProjector('population_count_2000-2020.nc') as pop:\n",
    "#         pop_mean = pop.data.where(country_da == country_num).mean(dim=['latitude', 'longitude'], skipna=True)\n",
    "        pop_sel = pop.data.where(country_da == country_num).compute()\n",
    "        pop_sum = pop_sel.sum(dim=['latitude', 'longitude'], skipna=True)\n",
    "\n",
    "        def _gen():\n",
    "            for year in range(2000,2017):\n",
    "                proj = pop.project_param(anom_data.sel(year=year))\n",
    "                proj = proj * pop_sel.sel(year=year) / pop_sum.sel(year=year)\n",
    "                proj.compute()\n",
    "                yield proj\n",
    "                \n",
    "        exposures = xr.concat(_gen(), dim='year')   \n",
    "        exposures_ts = (exposures ).sum(dim=['latitude', 'longitude'], \n",
    "                                                 skipna=True).compute()\n",
    "#         exposures = (exposures / pop_mean).compute()\n",
    "        return exposures_ts\n",
    "#         return exposures, exposures_ts\n",
    "\n",
    "def do_selection(row, data, country_da):\n",
    "    country_num = row.index_number\n",
    "    selection = data.where(country_da == country_num)\n",
    "    selection_ts = selection.mean(dim=['latitude', 'longitude'])\n",
    "    selection_ts.name = row.iso_a2\n",
    "    selection_ts = selection_ts.to_dataframe()\n",
    "    return selection_ts\n",
    "\n",
    "def do_exposure(row, data, country_da):\n",
    "    country_num = row.index_number\n",
    "    exposures_ts = _project_to_population(data, country_da, country_num)\n",
    "    exposures_ts.name = row.iso_a2\n",
    "    exposures_ts = exposures_ts.to_dataframe()\n",
    "    return exposures_ts"
   ]
  },
  {
   "cell_type": "code",
   "execution_count": 10,
   "metadata": {
    "collapsed": true
   },
   "outputs": [],
   "source": [
    "with population_tools.PopulationProjector('population_count_2000-2020.nc') as pop:\n",
    "    countries_raster_expo = pop.rasterize_data(countries, 'index_number', \n",
    "                                               affine=affine.Affine.translation(-180, 0) * pop.affine)"
   ]
  },
  {
   "cell_type": "code",
   "execution_count": 11,
   "metadata": {},
   "outputs": [],
   "source": [
    "# NOTE: selecting from summer exposures will give the wrong answer. Only useful for vis...\n",
    "# results = [do_selection(row, summer_exposures, countries_raster_expo) \n",
    "#            for idx, row in tqdm(countries.iterrows(), total=len(countries)) if row.iso_a2]\n",
    "# exposure_by_country = pd.concat(results, axis=1)\n",
    "# expo_by_country.to_csv('exposure_by_country.csv')"
   ]
  },
  {
   "cell_type": "code",
   "execution_count": null,
   "metadata": {
    "collapsed": true
   },
   "outputs": [],
   "source": []
  },
  {
   "cell_type": "code",
   "execution_count": 40,
   "metadata": {
    "scrolled": true
   },
   "outputs": [
    {
     "name": "stderr",
     "output_type": "stream",
     "text": [
      "\n",
      "\n",
      "  0%|          | 0/241 [00:00<?, ?it/s]\u001b[A\u001b[A\n",
      "\n",
      "  0%|          | 1/241 [00:14<56:51, 14.21s/it]\u001b[A\u001b[A\n",
      "\n",
      "  1%|          | 2/241 [00:29<57:58, 14.56s/it]\u001b[A\u001b[A\n",
      "\n",
      "  1%|          | 3/241 [00:43<56:56, 14.36s/it]\u001b[A\u001b[A\n",
      "\n",
      "  2%|▏         | 4/241 [00:57<56:16, 14.25s/it]\u001b[A\u001b[A\n",
      "\n",
      "  2%|▏         | 5/241 [01:11<55:23, 14.08s/it]\u001b[A\u001b[A\n",
      "\n",
      "  2%|▏         | 6/241 [01:25<54:54, 14.02s/it]\u001b[A\u001b[A\n",
      "\n",
      "  3%|▎         | 7/241 [01:38<54:36, 14.00s/it]\u001b[A\u001b[A\n",
      "\n",
      "  3%|▎         | 8/241 [01:53<54:23, 14.01s/it]\u001b[A\u001b[A\n",
      "\n",
      "  4%|▎         | 9/241 [02:07<54:29, 14.09s/it]\u001b[A\u001b[A\n",
      "\n",
      "  4%|▍         | 10/241 [02:21<54:04, 14.04s/it]\u001b[A\u001b[A\n",
      "\n",
      "\n",
      "  5%|▍         | 11/241 [02:35<53:57, 14.08s/it]\u001b[A\u001b[A\n",
      "\n",
      "  5%|▍         | 12/241 [02:49<53:31, 14.02s/it]\u001b[A\u001b[A\n",
      "\n",
      "  6%|▌         | 14/241 [03:02<44:32, 11.77s/it]\u001b[A\u001b[A\n",
      "\n",
      "  6%|▌         | 15/241 [03:15<45:45, 12.15s/it]\u001b[A\u001b[A\n",
      "\n",
      "  7%|▋         | 16/241 [03:29<47:24, 12.64s/it]\u001b[A\u001b[A\n",
      "\n",
      "  7%|▋         | 17/241 [03:43<49:03, 13.14s/it]\u001b[A\u001b[A\n",
      "\n",
      "  7%|▋         | 18/241 [03:57<50:09, 13.50s/it]\u001b[A\u001b[A\n",
      "\n",
      "  8%|▊         | 19/241 [04:10<49:22, 13.35s/it]\u001b[A\u001b[A\n",
      "\n",
      "  8%|▊         | 20/241 [04:24<49:40, 13.49s/it]\u001b[A\u001b[A\n",
      "\n",
      "  9%|▊         | 21/241 [04:38<50:18, 13.72s/it]\u001b[A\u001b[A\n",
      "\n",
      "  9%|▉         | 22/241 [04:52<50:05, 13.72s/it]\u001b[A\u001b[A\n",
      "\n",
      " 10%|▉         | 23/241 [05:06<49:52, 13.73s/it]\u001b[A\u001b[A\n",
      "\n",
      " 10%|▉         | 24/241 [05:19<49:09, 13.59s/it]\u001b[A\u001b[A\n",
      "\n",
      " 10%|█         | 25/241 [05:32<48:30, 13.47s/it]\u001b[A\u001b[A\n",
      "\n",
      " 11%|█         | 26/241 [05:46<48:05, 13.42s/it]\u001b[A\u001b[A\n",
      "\n",
      " 11%|█         | 27/241 [05:59<48:01, 13.47s/it]\u001b[A\u001b[A\n",
      "\n",
      " 12%|█▏        | 28/241 [06:13<48:19, 13.61s/it]\u001b[A\u001b[A\n",
      "\n",
      " 12%|█▏        | 29/241 [06:27<48:52, 13.83s/it]\u001b[A\u001b[A\n",
      "\n",
      " 12%|█▏        | 30/241 [06:41<48:28, 13.79s/it]\u001b[A\u001b[A\n",
      "\n",
      " 13%|█▎        | 31/241 [06:54<47:26, 13.55s/it]\u001b[A\u001b[A\n",
      "\n",
      " 13%|█▎        | 32/241 [07:08<47:25, 13.62s/it]\u001b[A\u001b[A\n",
      "\n",
      " 14%|█▎        | 33/241 [07:21<47:03, 13.57s/it]\u001b[A\u001b[A\n",
      "\n",
      " 14%|█▍        | 34/241 [07:36<47:30, 13.77s/it]\u001b[A\u001b[A\n",
      "\n",
      " 15%|█▍        | 35/241 [07:50<47:27, 13.82s/it]\u001b[A\u001b[A\n",
      "\n",
      " 15%|█▍        | 36/241 [08:05<48:42, 14.26s/it]\u001b[A\u001b[A\n",
      "\n",
      " 15%|█▌        | 37/241 [08:20<49:42, 14.62s/it]\u001b[A\u001b[A\n",
      "\n",
      " 16%|█▌        | 38/241 [08:36<50:11, 14.84s/it]\u001b[A\u001b[A\n",
      "\n",
      " 16%|█▌        | 39/241 [08:50<49:35, 14.73s/it]\u001b[A\u001b[A\n",
      "\n",
      " 17%|█▋        | 40/241 [09:04<48:43, 14.55s/it]\u001b[A\u001b[A\n",
      "\n",
      " 17%|█▋        | 41/241 [09:18<47:15, 14.18s/it]\u001b[A\u001b[A\n",
      "\n",
      " 17%|█▋        | 42/241 [09:31<46:08, 13.91s/it]\u001b[A\u001b[A\n",
      "\n",
      " 18%|█▊        | 43/241 [09:45<46:14, 14.01s/it]\u001b[A\u001b[A\n",
      "\n",
      " 18%|█▊        | 44/241 [09:59<46:18, 14.11s/it]\u001b[A\u001b[A\n",
      "\n",
      " 19%|█▊        | 45/241 [10:15<47:35, 14.57s/it]\u001b[A\u001b[A\n",
      "\n",
      " 19%|█▉        | 46/241 [10:30<47:48, 14.71s/it]\u001b[A\u001b[A\n",
      "\n",
      " 20%|█▉        | 47/241 [10:44<46:49, 14.48s/it]\u001b[A\u001b[A\n",
      "\n",
      " 20%|█▉        | 48/241 [10:57<45:12, 14.05s/it]\u001b[A\u001b[A\n",
      "\n",
      " 20%|██        | 49/241 [11:10<43:57, 13.74s/it]\u001b[A\u001b[A\n",
      "\n",
      " 21%|██        | 50/241 [11:23<43:00, 13.51s/it]\u001b[A\u001b[A\n",
      "\n",
      " 21%|██        | 51/241 [11:36<41:45, 13.18s/it]\u001b[A\u001b[A\n",
      "\n",
      " 22%|██▏       | 52/241 [11:47<40:21, 12.81s/it]\u001b[A\u001b[A\n",
      "\n",
      " 22%|██▏       | 53/241 [12:00<39:35, 12.63s/it]\u001b[A\u001b[A\n",
      "\n",
      " 22%|██▏       | 54/241 [12:13<39:38, 12.72s/it]\u001b[A\u001b[A\n",
      "\n",
      " 23%|██▎       | 56/241 [12:27<34:19, 11.13s/it]\u001b[A\u001b[A\n",
      "\n",
      " 24%|██▎       | 57/241 [12:41<36:45, 11.99s/it]\u001b[A\u001b[A\n",
      "\n",
      " 24%|██▍       | 58/241 [12:56<38:42, 12.69s/it]\u001b[A\u001b[A\n",
      "\n",
      " 24%|██▍       | 59/241 [13:11<41:13, 13.59s/it]\u001b[A\u001b[A\n",
      "\n",
      " 25%|██▍       | 60/241 [13:25<41:03, 13.61s/it]\u001b[A\u001b[A\n",
      "\n",
      " 25%|██▌       | 61/241 [13:38<40:12, 13.40s/it]\u001b[A\u001b[A\n",
      "\n",
      " 26%|██▌       | 62/241 [13:51<39:31, 13.25s/it]\u001b[A\u001b[A\n",
      "\n",
      " 26%|██▌       | 63/241 [14:04<39:05, 13.18s/it]\u001b[A\u001b[A\n",
      "\n",
      " 27%|██▋       | 64/241 [14:17<38:39, 13.10s/it]\u001b[A\u001b[A\n",
      "\n",
      " 27%|██▋       | 65/241 [14:29<37:37, 12.83s/it]\u001b[A\u001b[A\n",
      "\n",
      " 27%|██▋       | 66/241 [14:42<37:31, 12.87s/it]\u001b[A\u001b[A\n",
      "\n",
      " 28%|██▊       | 67/241 [14:55<37:19, 12.87s/it]\u001b[A\u001b[A\n",
      "\n",
      " 28%|██▊       | 68/241 [15:08<37:07, 12.88s/it]\u001b[A\u001b[A\n",
      "\n",
      " 29%|██▊       | 69/241 [15:21<36:59, 12.90s/it]\u001b[A\u001b[A\n",
      "\n",
      " 29%|██▉       | 70/241 [15:34<36:44, 12.89s/it]\u001b[A\u001b[A\n",
      "\n",
      " 29%|██▉       | 71/241 [15:47<36:47, 12.98s/it]\u001b[A\u001b[A\n",
      "\n",
      " 30%|██▉       | 72/241 [16:00<36:29, 12.96s/it]\u001b[A\u001b[A\n",
      "\n",
      " 30%|███       | 73/241 [16:13<36:18, 12.97s/it]\u001b[A\u001b[A\n",
      "\n",
      " 31%|███       | 74/241 [16:26<36:02, 12.95s/it]\u001b[A\u001b[A\n",
      "\n",
      " 31%|███       | 75/241 [16:38<35:45, 12.92s/it]\u001b[A\u001b[A\n",
      "\n",
      " 32%|███▏      | 76/241 [16:51<35:27, 12.90s/it]\u001b[A\u001b[A\n",
      "\n",
      " 32%|███▏      | 77/241 [17:04<35:13, 12.89s/it]\u001b[A\u001b[A\n",
      "\n",
      " 32%|███▏      | 78/241 [17:17<34:53, 12.84s/it]\u001b[A\u001b[A\n",
      "\n",
      " 33%|███▎      | 79/241 [17:29<33:58, 12.58s/it]\u001b[A\u001b[A\n",
      "\n",
      " 33%|███▎      | 80/241 [17:42<33:53, 12.63s/it]\u001b[A\u001b[A\n",
      "\n",
      " 34%|███▎      | 81/241 [17:54<33:51, 12.69s/it]\u001b[A\u001b[A\n",
      "\n",
      " 34%|███▍      | 82/241 [18:07<33:51, 12.78s/it]\u001b[A\u001b[A\n",
      "\n",
      " 34%|███▍      | 83/241 [18:20<33:49, 12.84s/it]\u001b[A\u001b[A\n",
      "\n",
      " 35%|███▍      | 84/241 [18:35<34:55, 13.35s/it]\u001b[A\u001b[A\n",
      "\n",
      " 35%|███▌      | 85/241 [18:49<34:52, 13.41s/it]\u001b[A\u001b[A\n",
      "\n",
      " 36%|███▌      | 86/241 [19:02<34:25, 13.33s/it]\u001b[A\u001b[A\n",
      "\n",
      " 36%|███▌      | 87/241 [19:15<34:05, 13.28s/it]\u001b[A\u001b[A\n",
      "\n",
      " 37%|███▋      | 88/241 [19:28<33:45, 13.24s/it]\u001b[A\u001b[A\n",
      "\n",
      " 37%|███▋      | 89/241 [19:41<33:24, 13.19s/it]\u001b[A\u001b[A\n",
      "\n",
      " 37%|███▋      | 90/241 [19:54<33:06, 13.16s/it]\u001b[A\u001b[A\n",
      "\n",
      " 38%|███▊      | 91/241 [20:08<33:12, 13.28s/it]\u001b[A\u001b[A\n",
      "\n",
      " 38%|███▊      | 92/241 [20:22<33:33, 13.51s/it]\u001b[A\u001b[A\n",
      "\n",
      " 39%|███▊      | 93/241 [20:37<34:49, 14.12s/it]\u001b[A\u001b[A\n",
      "\n",
      " 39%|███▉      | 94/241 [20:51<34:01, 13.89s/it]\u001b[A\u001b[A\n",
      "\n",
      " 39%|███▉      | 95/241 [21:04<33:21, 13.71s/it]\u001b[A\u001b[A\n",
      "\n",
      " 40%|███▉      | 96/241 [21:17<32:33, 13.47s/it]\u001b[A\u001b[A\n",
      "\n",
      " 40%|████      | 97/241 [21:30<31:53, 13.29s/it]\u001b[A\u001b[A\n",
      "\n",
      " 41%|████      | 98/241 [21:43<31:30, 13.22s/it]\u001b[A\u001b[A\n",
      "\n",
      " 41%|████      | 99/241 [21:58<32:35, 13.77s/it]\u001b[A\u001b[A\n",
      "\n",
      " 42%|████▏     | 101/241 [22:13<27:41, 11.87s/it]\u001b[A\u001b[A\n",
      "\n",
      " 42%|████▏     | 102/241 [22:26<28:28, 12.29s/it]\u001b[A\u001b[A\n",
      "\n",
      " 43%|████▎     | 103/241 [22:40<29:18, 12.74s/it]\u001b[A\u001b[A\n",
      "\n",
      " 43%|████▎     | 104/241 [22:53<29:45, 13.03s/it]\u001b[A\u001b[A\n",
      "\n",
      " 44%|████▎     | 105/241 [23:07<29:35, 13.06s/it]\u001b[A\u001b[A\n",
      "\n",
      " 44%|████▍     | 106/241 [23:21<30:00, 13.34s/it]\u001b[A\u001b[A\n",
      "\n",
      " 44%|████▍     | 107/241 [23:34<30:02, 13.45s/it]\u001b[A\u001b[A\n",
      "\n",
      " 45%|████▍     | 108/241 [23:47<29:20, 13.23s/it]\u001b[A\u001b[A\n",
      "\n",
      " 45%|████▌     | 109/241 [24:00<29:15, 13.30s/it]\u001b[A\u001b[A\n",
      "\n",
      " 46%|████▌     | 110/241 [24:15<29:57, 13.72s/it]\u001b[A\u001b[A\n",
      "\n",
      " 46%|████▌     | 111/241 [24:30<30:43, 14.18s/it]\u001b[A\u001b[A\n",
      "\n",
      " 47%|████▋     | 113/241 [24:44<25:24, 11.91s/it]\u001b[A\u001b[A\n",
      "\n",
      " 47%|████▋     | 114/241 [24:57<26:08, 12.35s/it]\u001b[A\u001b[A\n",
      "\n",
      " 48%|████▊     | 115/241 [25:11<26:44, 12.74s/it]\u001b[A\u001b[A\n",
      "\n",
      " 48%|████▊     | 116/241 [25:25<27:18, 13.11s/it]\u001b[A\u001b[A\n",
      "\n",
      " 49%|████▊     | 117/241 [25:38<27:04, 13.10s/it]\u001b[A\u001b[A\n",
      "\n",
      " 49%|████▉     | 118/241 [25:51<26:44, 13.05s/it]\u001b[A\u001b[A\n",
      "\n",
      " 49%|████▉     | 119/241 [26:04<26:29, 13.03s/it]\u001b[A\u001b[A\n",
      "\n",
      " 50%|█████     | 121/241 [26:17<22:07, 11.06s/it]\u001b[A\u001b[A\n",
      "\n",
      " 51%|█████     | 122/241 [26:30<23:10, 11.68s/it]\u001b[A\u001b[A\n",
      "\n",
      " 51%|█████     | 123/241 [26:43<23:43, 12.07s/it]\u001b[A\u001b[A\n",
      "\n",
      " 51%|█████▏    | 124/241 [26:56<24:03, 12.34s/it]\u001b[A\u001b[A\n",
      "\n",
      " 52%|█████▏    | 125/241 [27:09<24:11, 12.51s/it]\u001b[A\u001b[A\n",
      "\n",
      " 52%|█████▏    | 126/241 [27:21<24:12, 12.63s/it]\u001b[A\u001b[A\n",
      "\n",
      " 53%|█████▎    | 127/241 [27:34<24:13, 12.75s/it]\u001b[A\u001b[A\n",
      "\n",
      " 53%|█████▎    | 128/241 [27:47<23:38, 12.55s/it]\u001b[A\u001b[A\n",
      "\n",
      " 54%|█████▎    | 129/241 [32:47<3:04:48, 99.00s/it]\u001b[A\u001b[A\n",
      "\n",
      " 54%|█████▍    | 130/241 [33:02<2:16:15, 73.65s/it]\u001b[A\u001b[A\n",
      "\n",
      " 54%|█████▍    | 131/241 [33:15<1:41:59, 55.63s/it]\u001b[A\u001b[A\n",
      "\n",
      " 55%|█████▍    | 132/241 [33:28<1:17:54, 42.88s/it]\u001b[A\u001b[A\n",
      "\n",
      " 55%|█████▌    | 133/241 [33:42<1:01:07, 33.96s/it]\u001b[A\u001b[A\n",
      "\n",
      " 56%|█████▌    | 134/241 [33:55<49:30, 27.76s/it]  \u001b[A\u001b[A\n",
      "\n",
      " 56%|█████▌    | 135/241 [34:07<40:52, 23.14s/it]\u001b[A\u001b[A\n",
      "\n",
      " 56%|█████▋    | 136/241 [34:20<34:47, 19.88s/it]\u001b[A\u001b[A\n",
      "\n",
      " 57%|█████▋    | 137/241 [34:33<31:00, 17.89s/it]\u001b[A\u001b[A\n",
      "\n",
      " 57%|█████▋    | 138/241 [34:46<28:15, 16.46s/it]\u001b[A\u001b[A\n",
      "\n",
      " 58%|█████▊    | 139/241 [34:59<26:15, 15.45s/it]\u001b[A\u001b[A\n",
      "\n",
      " 58%|█████▊    | 140/241 [35:12<24:50, 14.76s/it]\u001b[A\u001b[A\n",
      "\n",
      " 59%|█████▊    | 141/241 [35:25<23:49, 14.30s/it]\u001b[A\u001b[A\n",
      "\n",
      " 59%|█████▉    | 142/241 [35:38<22:55, 13.90s/it]\u001b[A\u001b[A\n",
      "\n",
      " 59%|█████▉    | 143/241 [39:50<2:19:21, 85.32s/it]\u001b[A\u001b[A\n",
      "\n",
      " 60%|█████▉    | 144/241 [40:05<1:43:44, 64.17s/it]\u001b[A\u001b[A\n",
      "\n",
      " 60%|██████    | 145/241 [40:19<1:18:42, 49.19s/it]\u001b[A\u001b[A\n",
      "\n",
      " 61%|██████    | 146/241 [40:34<1:01:14, 38.68s/it]\u001b[A\u001b[A\n",
      "\n",
      " 61%|██████    | 147/241 [40:48<49:02, 31.30s/it]  \u001b[A\u001b[A\n",
      "\n",
      " 61%|██████▏   | 148/241 [41:00<39:53, 25.74s/it]\u001b[A\u001b[A\n",
      "\n",
      " 62%|██████▏   | 149/241 [41:12<33:12, 21.66s/it]\u001b[A\u001b[A\n",
      "\n",
      " 62%|██████▏   | 150/241 [41:25<28:48, 18.99s/it]\u001b[A\u001b[A\n",
      "\n",
      " 63%|██████▎   | 151/241 [41:40<26:22, 17.58s/it]\u001b[A\u001b[A\n",
      "\n",
      " 63%|██████▎   | 152/241 [41:54<24:28, 16.49s/it]\u001b[A\u001b[A\n",
      "\n",
      " 63%|██████▎   | 153/241 [42:07<22:59, 15.67s/it]\u001b[A\u001b[A\n",
      "\n",
      " 64%|██████▍   | 154/241 [42:20<21:35, 14.89s/it]\u001b[A\u001b[A\n",
      "\n",
      " 64%|██████▍   | 155/241 [42:33<20:32, 14.34s/it]\u001b[A\u001b[A\n",
      "\n",
      " 65%|██████▍   | 156/241 [44:31<1:04:17, 45.38s/it]\u001b[A\u001b[A\n",
      "\n",
      " 65%|██████▌   | 157/241 [44:45<50:04, 35.77s/it]  \u001b[A\u001b[A\n",
      "\n",
      " 66%|██████▌   | 158/241 [44:58<40:10, 29.04s/it]\u001b[A\u001b[A\n",
      "\n",
      " 66%|██████▌   | 159/241 [45:11<33:16, 24.34s/it]\u001b[A\u001b[A\n",
      "\n",
      " 66%|██████▋   | 160/241 [45:27<29:25, 21.79s/it]\u001b[A\u001b[A\n",
      "\n",
      " 67%|██████▋   | 161/241 [45:42<26:10, 19.63s/it]\u001b[A\u001b[A\n",
      "\n",
      " 67%|██████▋   | 162/241 [45:55<23:14, 17.65s/it]\u001b[A\u001b[A\n",
      "\n",
      " 68%|██████▊   | 163/241 [46:08<21:09, 16.27s/it]\u001b[A\u001b[A\n",
      "\n",
      " 68%|██████▊   | 164/241 [46:22<20:02, 15.61s/it]\u001b[A\u001b[A\n",
      "\n",
      " 68%|██████▊   | 165/241 [46:36<19:24, 15.32s/it]\u001b[A\u001b[A\n",
      "\n",
      " 69%|██████▉   | 166/241 [46:50<18:19, 14.66s/it]\u001b[A\u001b[A\n",
      "\n",
      " 69%|██████▉   | 167/241 [47:04<18:01, 14.61s/it]\u001b[A\u001b[A\n",
      "\n",
      " 70%|██████▉   | 168/241 [47:19<17:51, 14.68s/it]\u001b[A\u001b[A\n",
      "\n",
      " 70%|███████   | 169/241 [47:33<17:31, 14.60s/it]\u001b[A\u001b[A\n",
      "\n",
      " 71%|███████   | 170/241 [47:47<16:59, 14.36s/it]\u001b[A\u001b[A\n",
      "\n",
      " 71%|███████   | 171/241 [48:01<16:26, 14.09s/it]\u001b[A\u001b[A\n",
      "\n",
      " 71%|███████▏  | 172/241 [48:14<16:03, 13.96s/it]\u001b[A\u001b[A\n",
      "\n",
      " 72%|███████▏  | 173/241 [48:28<15:36, 13.77s/it]\u001b[A\u001b[A\n",
      "\n",
      " 72%|███████▏  | 174/241 [48:42<15:32, 13.92s/it]\u001b[A\u001b[A\n",
      "\n",
      " 73%|███████▎  | 175/241 [48:55<15:02, 13.68s/it]\u001b[A\u001b[A\n",
      "\n",
      " 73%|███████▎  | 176/241 [49:08<14:44, 13.60s/it]\u001b[A\u001b[A\n",
      "\n",
      " 73%|███████▎  | 177/241 [49:22<14:21, 13.47s/it]\u001b[A\u001b[A\n",
      "\n",
      " 74%|███████▍  | 178/241 [49:35<14:06, 13.44s/it]\u001b[A\u001b[A\n",
      "\n",
      " 74%|███████▍  | 179/241 [49:48<13:47, 13.35s/it]\u001b[A\u001b[A\n",
      "\n",
      " 75%|███████▍  | 180/241 [50:01<13:30, 13.29s/it]\u001b[A\u001b[A\n",
      "\n",
      " 75%|███████▌  | 181/241 [50:14<13:16, 13.28s/it]\u001b[A\u001b[A\n",
      "\n",
      " 76%|███████▌  | 182/241 [50:28<13:01, 13.24s/it]\u001b[A\u001b[A\n",
      "\n",
      " 76%|███████▌  | 183/241 [50:41<12:47, 13.23s/it]\u001b[A\u001b[A\n",
      "\n",
      " 76%|███████▋  | 184/241 [50:54<12:33, 13.22s/it]\u001b[A\u001b[A\n",
      "\n",
      " 77%|███████▋  | 185/241 [51:08<12:37, 13.52s/it]\u001b[A\u001b[A\n",
      "\n",
      " 77%|███████▋  | 186/241 [51:25<13:12, 14.41s/it]\u001b[A\u001b[A\n",
      "\n",
      " 78%|███████▊  | 187/241 [51:40<13:10, 14.64s/it]\u001b[A\u001b[A\n",
      "\n",
      " 78%|███████▊  | 188/241 [51:55<13:09, 14.89s/it]\u001b[A\u001b[A\n",
      "\n",
      " 78%|███████▊  | 189/241 [52:11<13:11, 15.22s/it]\u001b[A\u001b[A\n",
      "\n",
      " 79%|███████▉  | 190/241 [52:27<12:55, 15.20s/it]\u001b[A\u001b[A\n",
      "\n",
      " 79%|███████▉  | 191/241 [52:40<12:13, 14.68s/it]\u001b[A\u001b[A\n",
      "\n",
      " 80%|███████▉  | 192/241 [52:53<11:35, 14.20s/it]\u001b[A\u001b[A\n",
      "\n",
      " 80%|████████  | 193/241 [53:08<11:27, 14.31s/it]\u001b[A\u001b[A\n",
      "\n",
      " 80%|████████  | 194/241 [53:23<11:22, 14.51s/it]\u001b[A\u001b[A\n",
      "\n",
      " 81%|████████  | 195/241 [53:37<11:10, 14.59s/it]\u001b[A\u001b[A\n",
      "\n",
      " 81%|████████▏ | 196/241 [53:52<10:50, 14.45s/it]\u001b[A\u001b[A\n",
      "\n",
      " 82%|████████▏ | 197/241 [54:05<10:25, 14.21s/it]\u001b[A\u001b[A\n",
      "\n",
      " 83%|████████▎ | 199/241 [54:19<08:26, 12.05s/it]\u001b[A\u001b[A\n",
      "\n",
      " 83%|████████▎ | 200/241 [54:34<08:44, 12.79s/it]\u001b[A\u001b[A\n",
      "\n",
      " 83%|████████▎ | 201/241 [54:49<09:04, 13.62s/it]\u001b[A\u001b[A\n",
      "\n",
      " 84%|████████▍ | 202/241 [55:06<09:25, 14.50s/it]\u001b[A\u001b[A\n",
      "\n",
      " 84%|████████▍ | 203/241 [55:22<09:32, 15.06s/it]\u001b[A\u001b[A\n",
      "\n",
      " 85%|████████▍ | 204/241 [55:37<09:15, 15.01s/it]\u001b[A\u001b[A\n",
      "\n",
      " 85%|████████▌ | 205/241 [55:52<08:58, 14.97s/it]\u001b[A\u001b[A\n",
      "\n",
      " 85%|████████▌ | 206/241 [56:06<08:38, 14.82s/it]\u001b[A\u001b[A\n",
      "\n",
      " 86%|████████▌ | 207/241 [56:20<08:13, 14.52s/it]\u001b[A\u001b[A\n",
      "\n",
      " 86%|████████▋ | 208/241 [56:35<08:02, 14.61s/it]\u001b[A\u001b[A\n",
      "\n",
      " 87%|████████▋ | 209/241 [56:50<07:47, 14.60s/it]\u001b[A\u001b[A\n",
      "\n",
      " 87%|████████▋ | 210/241 [57:05<07:38, 14.81s/it]\u001b[A\u001b[A\n",
      "\n",
      " 88%|████████▊ | 211/241 [57:20<07:23, 14.80s/it]\u001b[A\u001b[A\n",
      "\n",
      " 88%|████████▊ | 212/241 [57:34<07:07, 14.72s/it]\u001b[A\u001b[A\n",
      "\n",
      " 88%|████████▊ | 213/241 [57:49<06:48, 14.58s/it]\u001b[A\u001b[A\n",
      "\n",
      " 89%|████████▉ | 214/241 [58:03<06:32, 14.53s/it]\u001b[A\u001b[A\n",
      "\n",
      " 89%|████████▉ | 215/241 [58:18<06:22, 14.72s/it]\u001b[A\u001b[A\n",
      "\n",
      " 90%|████████▉ | 216/241 [58:33<06:10, 14.81s/it]\u001b[A\u001b[A\n",
      "\n",
      " 90%|█████████ | 217/241 [58:47<05:50, 14.60s/it]\u001b[A\u001b[A\n",
      "\n",
      " 90%|█████████ | 218/241 [59:01<05:29, 14.33s/it]\u001b[A\u001b[A\n",
      "\n",
      " 91%|█████████ | 219/241 [59:15<05:16, 14.39s/it]\u001b[A\u001b[A\n",
      "\n",
      " 91%|█████████▏| 220/241 [59:29<04:59, 14.24s/it]\u001b[A\u001b[A\n",
      "\n",
      " 92%|█████████▏| 221/241 [59:43<04:39, 13.98s/it]\u001b[A\u001b[A\n",
      "\n",
      " 92%|█████████▏| 222/241 [59:56<04:20, 13.72s/it]\u001b[A\u001b[A\n",
      "\n",
      " 93%|█████████▎| 223/241 [1:00:09<04:01, 13.42s/it]\u001b[A\u001b[A\n",
      "\n",
      " 93%|█████████▎| 224/241 [1:00:22<03:49, 13.52s/it]\u001b[A\u001b[A\n",
      "\n",
      " 93%|█████████▎| 225/241 [1:00:36<03:35, 13.47s/it]\u001b[A\u001b[A\n",
      "\n",
      " 94%|█████████▍| 226/241 [1:00:51<03:31, 14.09s/it]\u001b[A\u001b[A\n",
      "\n",
      " 94%|█████████▍| 227/241 [1:01:06<03:21, 14.43s/it]\u001b[A\u001b[A\n",
      "\n",
      " 95%|█████████▍| 228/241 [1:01:21<03:07, 14.38s/it]\u001b[A\u001b[A\n",
      "\n",
      " 95%|█████████▌| 229/241 [1:01:35<02:51, 14.27s/it]\u001b[A\u001b[A\n",
      "\n",
      " 95%|█████████▌| 230/241 [1:01:50<02:39, 14.51s/it]\u001b[A\u001b[A\n",
      "\n",
      " 96%|█████████▌| 231/241 [1:02:04<02:23, 14.40s/it]\u001b[A\u001b[A\n",
      "\n",
      " 96%|█████████▋| 232/241 [1:02:17<02:06, 14.07s/it]\u001b[A\u001b[A\n",
      "\n",
      " 97%|█████████▋| 233/241 [1:02:30<01:50, 13.78s/it]\u001b[A\u001b[A\n",
      "\n",
      " 97%|█████████▋| 234/241 [1:02:44<01:36, 13.75s/it]\u001b[A\u001b[A\n",
      "\n",
      " 98%|█████████▊| 235/241 [1:02:58<01:22, 13.82s/it]\u001b[A\u001b[A\n",
      "\n",
      " 98%|█████████▊| 236/241 [1:03:12<01:09, 13.91s/it]\u001b[A\u001b[A\n",
      "\n",
      " 98%|█████████▊| 237/241 [1:03:27<00:56, 14.08s/it]\u001b[A\u001b[A\n",
      "\n",
      " 99%|█████████▉| 238/241 [1:03:41<00:42, 14.04s/it]\u001b[A\u001b[A\n",
      "\n",
      " 99%|█████████▉| 239/241 [1:03:54<00:27, 13.99s/it]\u001b[A\u001b[A\n",
      "\n",
      "100%|█████████▉| 240/241 [1:04:09<00:14, 14.26s/it]\u001b[A\u001b[A\n",
      "\n",
      "100%|██████████| 241/241 [1:04:23<00:00, 14.22s/it]\u001b[A\u001b[A\n",
      "\n",
      "\u001b[A\u001b[A"
     ]
    }
   ],
   "source": [
    "results = [do_exposure(row, summer_anom, countries_raster_expo) \n",
    "           for idx, row in tqdm_notebook(countries.iterrows(), total=len(countries)) if row.iso_a2]\n",
    "\n",
    "expo_by_country = pd.concat(results, axis=1)"
   ]
  },
  {
   "cell_type": "code",
   "execution_count": 107,
   "metadata": {
    "collapsed": true
   },
   "outputs": [],
   "source": [
    "exposure_by_country.to_csv('country_briefs/summer_temperatures/summer_temperature_exposure_by_country.csv')"
   ]
  },
  {
   "cell_type": "code",
   "execution_count": 15,
   "metadata": {},
   "outputs": [],
   "source": [
    "exposure_by_country = pd.read_csv('country_briefs/summer_temperatures/summer_temperature_exposure_by_country.csv', index_col='year')"
   ]
  },
  {
   "cell_type": "code",
   "execution_count": 12,
   "metadata": {
    "collapsed": true
   },
   "outputs": [],
   "source": [
    "summer_exposures_ts = xr.open_dataarray(str(DATA_SRC /'lancet' / 'summer_exposure_ts.nc'))"
   ]
  },
  {
   "cell_type": "code",
   "execution_count": 19,
   "metadata": {
    "collapsed": true
   },
   "outputs": [],
   "source": [
    "summer_exposures_ts.to_dataframe(name='summer_temperature_exposure').to_csv('country_briefs/summer_temperatures/summer_temperature_exposure.csv')"
   ]
  },
  {
   "cell_type": "code",
   "execution_count": 18,
   "metadata": {},
   "outputs": [
    {
     "data": {
      "text/plain": [
       "[<matplotlib.lines.Line2D at 0x12700f908>]"
      ]
     },
     "execution_count": 18,
     "metadata": {},
     "output_type": "execute_result"
    },
    {
     "data": {
      "image/png": "[encoded data removed]",
      "text/plain": [
       "<matplotlib.figure.Figure at 0x127051438>"
      ]
     },
     "metadata": {},
     "output_type": "display_data"
    }
   ],
   "source": [
    "exposure_by_country['IN'].plot()\n",
    "summer_exposures_ts.plot()\n",
    "summer_anom_ts.plot()"
   ]
  },
  {
   "cell_type": "code",
   "execution_count": 15,
   "metadata": {},
   "outputs": [
    {
     "data": {
      "text/plain": [
       "<matplotlib.axes._subplots.AxesSubplot at 0x124c59240>"
      ]
     },
     "execution_count": 15,
     "metadata": {},
     "output_type": "execute_result"
    },
    {
     "data": {
      "image/png": "[encoded data removed]",
      "text/plain": [
       "<matplotlib.figure.Figure at 0x124be7940>"
      ]
     },
     "metadata": {},
     "output_type": "display_data"
    }
   ],
   "source": [
    "f, axs = plt.subplots(1, 2)\n",
    "\n",
    "ax = axs[0]\n",
    "summer_anom_ts.plot(ax=ax)\n",
    "exposure_by_country['IN'].plot(ax=ax)\n",
    "\n",
    "ax= axs[1]\n",
    "\n",
    "summer_anom_ts.plot(ax=ax)\n",
    "exposure_by_country['US'].plot(ax=ax)"
   ]
  },
  {
   "cell_type": "markdown",
   "metadata": {},
   "source": [
    "### Do EU zones using EU NUTS file"
   ]
  },
  {
   "cell_type": "code",
   "execution_count": 17,
   "metadata": {
    "collapsed": true
   },
   "outputs": [],
   "source": [
    "eu_area_anom = rasterize_eu(eu_nuts, summer_anom)\n",
    "eu_area_expo = rasterize_eu(eu_nuts, summer_exposures)\n",
    "\n",
    "\n",
    "# eu_anom = summer_anom.where(eu_area_anom == 1)"
   ]
  },
  {
   "cell_type": "code",
   "execution_count": 38,
   "metadata": {},
   "outputs": [],
   "source": [
    "country_da = eu_area_expo.copy()\n",
    "country_num = 1\n",
    "eu_exposures_ts = _project_to_population(summer_anom, country_da, country_num)\n",
    "eu_exposures_ts.name = 'EU28'\n",
    "eu_exposures_ts = eu_exposures_ts.to_dataframe()\n"
   ]
  },
  {
   "cell_type": "code",
   "execution_count": 39,
   "metadata": {
    "collapsed": true
   },
   "outputs": [],
   "source": [
    "eu_exposures_ts.to_csv('country_briefs/eu28_temperature_exposure.csv')"
   ]
  },
  {
   "cell_type": "code",
   "execution_count": 40,
   "metadata": {},
   "outputs": [
    {
     "data": {
      "text/plain": [
       "<matplotlib.axes._subplots.AxesSubplot at 0x127f0b710>"
      ]
     },
     "execution_count": 40,
     "metadata": {},
     "output_type": "execute_result"
    },
    {
     "data": {
      "image/png": "[encoded data removed]",
      "text/plain": [
       "<matplotlib.figure.Figure at 0x125f8e2e8>"
      ]
     },
     "metadata": {},
     "output_type": "display_data"
    }
   ],
   "source": [
    "f, ax = plt.subplots()\n",
    "summer_anom_ts.plot(ax=ax)\n",
    "eu_exposures_ts.plot(ax=ax)"
   ]
  },
  {
   "cell_type": "code",
   "execution_count": null,
   "metadata": {
    "collapsed": true
   },
   "outputs": [],
   "source": []
  },
  {
   "cell_type": "code",
   "execution_count": null,
   "metadata": {
    "collapsed": true
   },
   "outputs": [],
   "source": []
  },
  {
   "cell_type": "code",
   "execution_count": null,
   "metadata": {
    "collapsed": true
   },
   "outputs": [],
   "source": []
  }
 ],
 "metadata": {
  "kernelspec": {
   "display_name": "Python [conda env:lancet]",
   "language": "python",
   "name": "conda-env-lancet-py"
  },
  "language_info": {
   "codemirror_mode": {
    "name": "ipython",
    "version": 3
   },
   "file_extension": ".py",
   "mimetype": "text/x-python",
   "name": "python",
   "nbconvert_exporter": "python",
   "pygments_lexer": "ipython3",
   "version": "3.6.2"
  }
 },
 "nbformat": 4,
 "nbformat_minor": 2
}
