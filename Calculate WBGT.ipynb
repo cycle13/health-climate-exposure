{
 "cells": [
  {
   "cell_type": "markdown",
   "metadata": {},
   "source": [
    "# Calculate daily WBGTmean, WBGTmax, WBGThalf"
   ]
  },
  {
   "cell_type": "code",
   "execution_count": 8,
   "metadata": {},
   "outputs": [],
   "source": [
    "%matplotlib inline\n",
    "\n",
    "from pathlib import Path\n",
    "from datetime import date\n",
    "\n",
    "import numpy as np\n",
    "import scipy as sp\n",
    "import pandas as pd\n",
    "import xarray as xr\n",
    "import matplotlib.pyplot as plt\n",
    "import cartopy.crs as ccrs\n",
    "\n",
    "from numba import jit\n",
    "from scipy import stats\n",
    "from config import DATA_SRC, WEATHER_SRC\n",
    "\n",
    "import weather_ecmwf\n",
    "\n",
    "import climate_conversions\n"
   ]
  },
  {
   "cell_type": "code",
   "execution_count": 3,
   "metadata": {},
   "outputs": [],
   "source": [
    "MAX_YEAR = 2017\n",
    "\n",
    "REFERENCE_YEAR_START = 1986\n",
    "REFERENCE_YEAR_END = 2005"
   ]
  },
  {
   "cell_type": "code",
   "execution_count": 4,
   "metadata": {},
   "outputs": [],
   "source": [
    "# Temporarily read from fast scratch drive instead of default Data dir\n",
    "# WEATHER_SRC = Path('~/Scratch/Data/weather/').expanduser()"
   ]
  },
  {
   "cell_type": "code",
   "execution_count": 5,
   "metadata": {},
   "outputs": [],
   "source": [
    "WBGT_MEAN_OUT = WEATHER_SRC / 'ecmwf' / 'daily_wbgtmean'\n",
    "WBGT_MEAN_OUT.mkdir(exist_ok=True)\n",
    "\n",
    "WBGT_MAX_OUT = WEATHER_SRC / 'ecmwf' / 'daily_wbgtmax'\n",
    "WBGT_MAX_OUT.mkdir(exist_ok=True)\n",
    "\n",
    "WBGT_HALF_OUT = WEATHER_SRC / 'ecmwf' / 'daily_wbgthalf'\n",
    "WBGT_HALF_OUT.mkdir(exist_ok=True)\n",
    "\n",
    "RESULTS_FOLDER = Path('./results/lancet2018/global/1.3 labour')\n"
   ]
  },
  {
   "cell_type": "code",
   "execution_count": 6,
   "metadata": {},
   "outputs": [],
   "source": [
    "# Adjust this depending on N CPUs and available memory\n",
    "CHUNKSIZE = {'longitude':360, 'latitude':181, 'time':50}"
   ]
  },
  {
   "cell_type": "code",
   "execution_count": 8,
   "metadata": {},
   "outputs": [],
   "source": [
    "weather = weather_ecmwf.open_mfdataset(WEATHER_SRC / 'ecmwf' / 'daily_sfc',\n",
    "                                       chunks=CHUNKSIZE\n",
    "                                      )\n"
   ]
  },
  {
   "cell_type": "code",
   "execution_count": 9,
   "metadata": {},
   "outputs": [
    {
     "data": {
      "text/plain": [
       "<xarray.Dataset>\n",
       "Dimensions:               (latitude: 361, longitude: 720, time: 55520)\n",
       "Coordinates:\n",
       "  * longitude             (longitude) float32 0.0 0.5 1.0 1.5 2.0 2.5 3.0 ...\n",
       "  * latitude              (latitude) float32 90.0 89.5 89.0 88.5 88.0 87.5 ...\n",
       "  * time                  (time) datetime64[ns] 1980-01-01 ...\n",
       "Data variables:\n",
       "    surface_pressure      (time, latitude, longitude) float32 dask.array<shape=(55520, 361, 720), chunksize=(50, 181, 360)>\n",
       "    temperature_2m        (time, latitude, longitude) float32 dask.array<shape=(55520, 361, 720), chunksize=(50, 181, 360)>\n",
       "    temperature_dewpoint  (time, latitude, longitude) float32 dask.array<shape=(55520, 361, 720), chunksize=(50, 181, 360)>\n",
       "Attributes:\n",
       "    Conventions:  CF-1.6\n",
       "    history:      2018-07-25 16:27:15 GMT by grib_to_netcdf-2.8.0: grib_to_ne..."
      ]
     },
     "execution_count": 9,
     "metadata": {},
     "output_type": "execute_result"
    }
   ],
   "source": [
    "weather"
   ]
  },
  {
   "cell_type": "markdown",
   "metadata": {},
   "source": [
    "## Generate Relative Humidity\n",
    "\n",
    "> We just calculate this in the process of calculating WBT"
   ]
  },
  {
   "cell_type": "code",
   "execution_count": null,
   "metadata": {},
   "outputs": [],
   "source": [
    "# relative_humidity = xr.apply_ufunc(climate_conversions.calculate_relative_humidity, \n",
    "#                                    weather.temperature_2m, weather.temperature_dewpoint,\n",
    "#                                    output_dtypes=[np.float],\n",
    "#                                    dask='parallelized'\n",
    "#                                   )\n",
    "\n",
    "# relative_humidity.name = 'relative_humidity'\n",
    "# relative_humidity = relative_humidity.to_dataset()"
   ]
  },
  {
   "cell_type": "code",
   "execution_count": null,
   "metadata": {},
   "outputs": [],
   "source": [
    "# years, datasets = zip(*relative_humidity.groupby('time.year'))\n",
    "# paths = [WEATHER_SRC / 'ecmwf' / 'daily_rel_humidity'/ f'rel_humidity_{y}.nc' for y in years]\n",
    "# xr.save_mfdataset(datasets, paths)"
   ]
  },
  {
   "cell_type": "markdown",
   "metadata": {},
   "source": [
    "## Generate WBT\n",
    "\n",
    "> Similar to Relative Humidty, can skip if we directly calculate WBGT without saving intermediate data"
   ]
  },
  {
   "cell_type": "code",
   "execution_count": null,
   "metadata": {},
   "outputs": [],
   "source": [
    "# wbt = xr.apply_ufunc(climate_conversions.calculate_wbt_t_dew,\n",
    "#                      weather.temperature_2m,  weather.temperature_dewpoint, weather.surface_pressure,\n",
    "#                      output_dtypes=[np.dtype(weather.temperature_2m)],\n",
    "#                      dask='parallelized'\n",
    "#                     )\n",
    "\n",
    "# wbt.name = 'wbt'\n",
    "# wbt = wbt.to_dataset()"
   ]
  },
  {
   "cell_type": "code",
   "execution_count": null,
   "metadata": {},
   "outputs": [],
   "source": [
    "# years, datasets = zip(*wbt.groupby('time.year'))\n",
    "# paths = [WEATHER_SRC / 'ecmwf' / 'daily_wbt'/ f'wbt_{y}.nc' for y in years]\n",
    "# xr.save_mfdataset(datasets, paths)"
   ]
  },
  {
   "cell_type": "markdown",
   "metadata": {},
   "source": [
    "## Generate WBGT max, mean\n",
    "\n",
    "> Again, skip saving intermediate calculation of WBGT for every 6 hours"
   ]
  },
  {
   "cell_type": "code",
   "execution_count": 10,
   "metadata": {},
   "outputs": [],
   "source": [
    "wbgt = xr.apply_ufunc(climate_conversions.calculate_wbgt_t_dew,\n",
    "                     weather.temperature_2m,  weather.temperature_dewpoint, weather.surface_pressure,\n",
    "                     output_dtypes=[np.dtype(weather.temperature_2m)],\n",
    "                     dask='parallelized'\n",
    "                    )\n",
    "\n",
    "wbgt.name = 'wbgt'\n",
    "wbgt = wbgt.to_dataset()"
   ]
  },
  {
   "cell_type": "code",
   "execution_count": 11,
   "metadata": {},
   "outputs": [],
   "source": [
    "# years, datasets = zip(*wbgt.groupby('time.year'))\n",
    "# paths = [WEATHER_SRC / 'ecmwf' / 'test'/ f'wbgt_{y}.nc' for y in years]\n",
    "# xr.save_mfdataset(datasets, paths)\n"
   ]
  },
  {
   "cell_type": "code",
   "execution_count": 12,
   "metadata": {},
   "outputs": [],
   "source": [
    "wbgt_mean = wbgt.resample(time='1D').mean()"
   ]
  },
  {
   "cell_type": "code",
   "execution_count": 13,
   "metadata": {},
   "outputs": [],
   "source": [
    "years, datasets = zip(*wbgt_mean.groupby('time.year'))\n",
    "paths = [WBGT_MEAN_OUT / f'wbgt_mean_{y}.nc' for y in years]\n",
    "xr.save_mfdataset(datasets, paths)"
   ]
  },
  {
   "cell_type": "code",
   "execution_count": 15,
   "metadata": {},
   "outputs": [],
   "source": [
    "wbgt_max = wbgt.resample(time='1D').max()"
   ]
  },
  {
   "cell_type": "code",
   "execution_count": 16,
   "metadata": {},
   "outputs": [],
   "source": [
    "years, datasets = zip(*wbgt_max.groupby('time.year'))\n",
    "paths = [WBGT_MAX_OUT / f'wbgt_max_{y}.nc' for y in years]\n",
    "xr.save_mfdataset(datasets, paths)"
   ]
  },
  {
   "cell_type": "markdown",
   "metadata": {},
   "source": [
    "## Calculate WBGThalf\n",
    "\n",
    "WBGThalf = the half way point between WBGTmax and WBGTmean."
   ]
  },
  {
   "cell_type": "code",
   "execution_count": 18,
   "metadata": {},
   "outputs": [],
   "source": [
    "wbgt_mean = xr.open_mfdataset(\n",
    "    str(WEATHER_SRC / 'ecmwf' / 'daily_wbgtmean'/ 'wbgt_mean_*.nc'),\n",
    "    chunks=CHUNKSIZE\n",
    "                             )\n",
    "wbgt_max = xr.open_mfdataset(\n",
    "    str(WEATHER_SRC / 'ecmwf' / 'daily_wbgtmax'/ 'wbgt_max_*.nc'),\n",
    "    chunks=CHUNKSIZE\n",
    ")"
   ]
  },
  {
   "cell_type": "code",
   "execution_count": 19,
   "metadata": {},
   "outputs": [],
   "source": [
    "wbgt_half = wbgt_mean + (wbgt_max - wbgt_mean) / 2"
   ]
  },
  {
   "cell_type": "code",
   "execution_count": 20,
   "metadata": {},
   "outputs": [],
   "source": [
    "years, datasets = zip(*wbgt_half.groupby('time.year'))\n",
    "paths = [WBGT_HALF_OUT / f'wbgt_half_{y}.nc' for y in years]\n",
    "xr.save_mfdataset(datasets, paths)"
   ]
  },
  {
   "cell_type": "markdown",
   "metadata": {},
   "source": [
    "## Plots for appendix"
   ]
  },
  {
   "cell_type": "code",
   "execution_count": 9,
   "metadata": {},
   "outputs": [],
   "source": [
    "wbgt_mean = xr.open_mfdataset(str(WEATHER_SRC / 'ecmwf' / 'daily_wbgtmean'/ 'wbgt_mean_*.nc'))"
   ]
  },
  {
   "cell_type": "code",
   "execution_count": 10,
   "metadata": {},
   "outputs": [],
   "source": [
    "wbgt_mean = wbgt_mean.resample(time='1Y').mean()"
   ]
  },
  {
   "cell_type": "code",
   "execution_count": 11,
   "metadata": {},
   "outputs": [],
   "source": [
    "wbgt_mean_ts = wbgt_mean.resample(time='1Y').mean().mean(dim=['latitude', 'longitude']).compute()"
   ]
  },
  {
   "cell_type": "code",
   "execution_count": 6,
   "metadata": {},
   "outputs": [
    {
     "data": {
      "image/png": "[encoded data removed]",
      "text/plain": [
       "<Figure size 432x288 with 1 Axes>"
      ]
     },
     "metadata": {},
     "output_type": "display_data"
    }
   ],
   "source": [
    "(wbgt_mean_ts.wbgt - 273.15).plot()\n",
    "plt.ylabel('WBGT (˚C)')\n",
    "plt.savefig(RESULTS_FOLDER / 'wbgt_yearly_mean.png', dpi=300)"
   ]
  },
  {
   "cell_type": "code",
   "execution_count": 12,
   "metadata": {},
   "outputs": [],
   "source": [
    "wbgt_baseline = wbgt_mean.wbgt.sel(time=wbgt_mean.time.loc[f'{REFERENCE_YEAR_START}-01-01': f'{REFERENCE_YEAR_END}-12-31']).groupby('time.dayofyear').mean(dim='time')"
   ]
  },
  {
   "cell_type": "code",
   "execution_count": 13,
   "metadata": {},
   "outputs": [],
   "source": [
    "def do_day_sub(year_data):\n",
    "    year_data['time_bak'] = year_data['time']\n",
    "    year_data['time'] = year_data['time.dayofyear']\n",
    "    year_data = year_data.rename({'time': 'dayofyear'})\n",
    "    # rename to align\n",
    "    delta = year_data - wbgt_baseline\n",
    "    delta['dayofyear'] = delta['time_bak']\n",
    "    delta = delta.rename({'dayofyear': 'time'})\n",
    "    delta = delta.drop('time_bak')\n",
    "    return delta\n",
    "\n",
    "\n",
    "wbgt_delta = wbgt_mean.wbgt.groupby('time.year').apply(do_day_sub)"
   ]
  },
  {
   "cell_type": "code",
   "execution_count": 14,
   "metadata": {},
   "outputs": [],
   "source": [
    "cos_lat = np.cos(np.radians(wbgt_delta.latitude))"
   ]
  },
  {
   "cell_type": "code",
   "execution_count": 15,
   "metadata": {},
   "outputs": [],
   "source": [
    "wbgt_delta_ts = (wbgt_delta.groupby('time.year').mean(dim='time') * cos_lat).mean(dim=['latitude', 'longitude']).compute()"
   ]
  },
  {
   "cell_type": "code",
   "execution_count": 23,
   "metadata": {},
   "outputs": [
    {
     "data": {
      "image/png": "[encoded data removed]",
      "text/plain": [
       "<Figure size 432x288 with 1 Axes>"
      ]
     },
     "metadata": {},
     "output_type": "display_data"
    }
   ],
   "source": [
    "wbgt_delta_ts.plot()\n",
    "plt.ylabel('Change in WBGT (˚C)')\n",
    "plt.title('Change in WBGT relative to 1986-2005 average')\n",
    "plt.savefig(RESULTS_FOLDER / 'wbgt_delta_mean.png', dpi=300)"
   ]
  },
  {
   "cell_type": "code",
   "execution_count": 16,
   "metadata": {},
   "outputs": [],
   "source": [
    "import population_tools"
   ]
  },
  {
   "cell_type": "code",
   "execution_count": 17,
   "metadata": {},
   "outputs": [],
   "source": [
    "wbgt_delta_popweight_ts = population_tools.project_to_population(wbgt_delta.groupby('time.year').mean(dim='time'), norm=True).compute()"
   ]
  },
  {
   "cell_type": "code",
   "execution_count": 18,
   "metadata": {},
   "outputs": [],
   "source": [
    "df = wbgt_delta_ts.to_dataframe('wbgt_delta_mean').join(wbgt_delta_popweight_ts.to_dataframe('wbgt_delta_exposure'))\n",
    "df.to_excel(RESULTS_FOLDER / 'wbgt_delta_yearly_mean.xlsx')"
   ]
  },
  {
   "cell_type": "code",
   "execution_count": 22,
   "metadata": {},
   "outputs": [
    {
     "data": {
      "image/png": "[encoded data removed]",
      "text/plain": [
       "<Figure size 432x288 with 1 Axes>"
      ]
     },
     "metadata": {},
     "output_type": "display_data"
    }
   ],
   "source": [
    "wbgt_delta_ts = wbgt_delta_ts.sel(year=slice(2000,None))\n",
    "wbgt_delta_ts.plot(color='C1', label='Area weighted')\n",
    "wbgt_delta_popweight_ts.plot(color='C0', label='Population weighted')\n",
    "\n",
    "\n",
    "anom_reg = stats.linregress(wbgt_delta_ts.year.values, wbgt_delta_ts.values)\n",
    "anom_reg = (anom_reg.slope * wbgt_delta_ts.year) + anom_reg.intercept\n",
    "\n",
    "exposures_reg = stats.linregress(wbgt_delta_popweight_ts.year.values, wbgt_delta_popweight_ts.values)\n",
    "exposures_reg = (exposures_reg.slope * wbgt_delta_popweight_ts.year) + exposures_reg.intercept\n",
    "\n",
    "anom_reg.plot.line('--', color='C1', label='Global trend')\n",
    "exposures_reg.plot.line('-.', color='C0', label='Population weighted trend')\n",
    "\n",
    "plt.xticks(list(range(2000, MAX_YEAR + 1, 2)))\n",
    "\n",
    "plt.ylim(0,1)\n",
    "plt.ylabel('Change in WBGT (˚C)')\n",
    "plt.title('Change in WBGT relative to 1986-2005 average')\n",
    "plt.legend()\n",
    "plt.savefig(RESULTS_FOLDER / 'wbgt_delta_yearly_mean.png', dpi=300)"
   ]
  },
  {
   "cell_type": "markdown",
   "metadata": {},
   "source": [
    "# TODO more accurate method of calculating WBGT\n"
   ]
  },
  {
   "cell_type": "code",
   "execution_count": null,
   "metadata": {},
   "outputs": [],
   "source": [
    "def fWBGTi(T_air, T_dew):\n",
    "    # First step Psychrometric Wet bulb temperature calculation\n",
    "    if T_dew > T_air:\n",
    "        fWBGTi = T_air\n",
    "        return fWBGTi\n",
    "\n",
    "    # Iteration to get Tw from Td       \n",
    "    Tw = T_dew\n",
    "    Diff = 10000\n",
    "    Ed = 0.6106 * np.exp(17.27 * T_dew / (237.3 + T_dew))\n",
    "    while np.abs(Diff) + np.abs(Diffold) == np.abs(Diff + Diffold):\n",
    "        Diffold = Diff\n",
    "        Ew = 0.6106 * np.exp(17.27 * Tw / (237.3 + Tw))\n",
    "        Diff = 1556 * Ed + 101 * Ta - 1556 * Ew + 1.484 * Ew * Tw - 1.484 * Ed * Tw - 101 * Tw\n",
    "        Tw = Tw + 0.2\n",
    "        if Tw > T_air:\n",
    "            break\n",
    "        \n",
    "        if Tw > T_dew + 0.2:\n",
    "            Tw = Tw - 0.2\n",
    "        else:\n",
    "            Tw = T_dew\n",
    "    # Use Bernard formula to calculate natural wet bulb temperature from psychrometric wet bulb temperature for 1m/s wind speed\n",
    "    fWBGTi = 0.67 * Tw + 0.33 * T_air\n",
    "    return fWBGTi"
   ]
  },
  {
   "cell_type": "code",
   "execution_count": null,
   "metadata": {},
   "outputs": [],
   "source": []
  }
 ],
 "metadata": {
  "kernelspec": {
   "display_name": "Python (Lancet)",
   "language": "python",
   "name": "lancet"
  },
  "language_info": {
   "codemirror_mode": {
    "name": "ipython",
    "version": 3
   },
   "file_extension": ".py",
   "mimetype": "text/x-python",
   "name": "python",
   "nbconvert_exporter": "python",
   "pygments_lexer": "ipython3",
   "version": "3.6.5"
  }
 },
 "nbformat": 4,
 "nbformat_minor": 2
}
