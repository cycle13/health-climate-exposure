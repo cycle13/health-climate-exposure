{
 "cells": [
  {
   "cell_type": "markdown",
   "metadata": {},
   "source": [
    "# Calculate daily WBGTmean, WBGTmax, WBGThalf"
   ]
  },
  {
   "cell_type": "code",
   "execution_count": 2,
   "metadata": {},
   "outputs": [],
   "source": [
    "%matplotlib inline\n",
    "\n",
    "from pathlib import Path\n",
    "from datetime import date\n",
    "\n",
    "import numpy as np\n",
    "import scipy as sp\n",
    "import pandas as pd\n",
    "import xarray as xr\n",
    "import matplotlib.pyplot as plt\n",
    "import cartopy.crs as ccrs\n",
    "\n",
    "from numba import jit\n",
    "from scipy import stats\n",
    "from config import DATA_SRC, WEATHER_SRC\n",
    "\n",
    "import weather_ecmwf\n",
    "\n",
    "import climate_conversions\n"
   ]
  },
  {
   "cell_type": "code",
   "execution_count": 3,
   "metadata": {},
   "outputs": [],
   "source": [
    "RESULTS_FOLDER = Path('./results/lancet2018/global/1.3 labour')\n"
   ]
  },
  {
   "cell_type": "code",
   "execution_count": 2,
   "metadata": {},
   "outputs": [],
   "source": [
    "weather = weather_ecmwf.open_mfdataset(WEATHER_SRC / 'ecmwf' / 'daily_sfc',\n",
    "                                       chunks={'time':100}\n",
    "                                      )\n"
   ]
  },
  {
   "cell_type": "markdown",
   "metadata": {},
   "source": [
    "## Generate Relative Humidity\n",
    "\n",
    "> We just calculate this in the process of calculating WBT"
   ]
  },
  {
   "cell_type": "code",
   "execution_count": 8,
   "metadata": {},
   "outputs": [],
   "source": [
    "# relative_humidity = xr.apply_ufunc(climate_conversions.calculate_relative_humidity, \n",
    "#                                    weather.temperature_2m, weather.temperature_dewpoint,\n",
    "#                                    output_dtypes=[np.float],\n",
    "#                                    dask='parallelized'\n",
    "#                                   )\n",
    "\n",
    "# relative_humidity.name = 'relative_humidity'\n",
    "# relative_humidity = relative_humidity.to_dataset()"
   ]
  },
  {
   "cell_type": "code",
   "execution_count": 20,
   "metadata": {},
   "outputs": [],
   "source": [
    "# years, datasets = zip(*relative_humidity.groupby('time.year'))\n",
    "# paths = [WEATHER_SRC / 'ecmwf' / 'daily_rel_humidity'/ f'rel_humidity_{y}.nc' for y in years]\n",
    "# xr.save_mfdataset(datasets, paths)"
   ]
  },
  {
   "cell_type": "markdown",
   "metadata": {},
   "source": [
    "## Generate WBT\n",
    "\n",
    "> Similar to Relative Humidty, can skip if we directly calculate WBGT without saving intermediate data"
   ]
  },
  {
   "cell_type": "code",
   "execution_count": 5,
   "metadata": {},
   "outputs": [],
   "source": [
    "# wbt = xr.apply_ufunc(climate_conversions.calculate_wbt_t_dew,\n",
    "#                      weather.temperature_2m,  weather.temperature_dewpoint, weather.surface_pressure,\n",
    "#                      output_dtypes=[np.dtype(weather.temperature_2m)],\n",
    "#                      dask='parallelized'\n",
    "#                     )\n",
    "\n",
    "# wbt.name = 'wbt'\n",
    "# wbt = wbt.to_dataset()"
   ]
  },
  {
   "cell_type": "code",
   "execution_count": 6,
   "metadata": {},
   "outputs": [],
   "source": [
    "# years, datasets = zip(*wbt.groupby('time.year'))\n",
    "# paths = [WEATHER_SRC / 'ecmwf' / 'daily_wbt'/ f'wbt_{y}.nc' for y in years]\n",
    "# xr.save_mfdataset(datasets, paths)"
   ]
  },
  {
   "cell_type": "markdown",
   "metadata": {},
   "source": [
    "## Generate WBGT max, mean\n",
    "\n",
    "> Again, skip saving intermediate calculation of WBGT for every 6 hours"
   ]
  },
  {
   "cell_type": "code",
   "execution_count": 4,
   "metadata": {},
   "outputs": [],
   "source": [
    "wbgt = xr.apply_ufunc(climate_conversions.calculate_wbgt_t_dew,\n",
    "                     weather.temperature_2m,  weather.temperature_dewpoint, weather.surface_pressure,\n",
    "                     output_dtypes=[np.dtype(weather.temperature_2m)],\n",
    "                     dask='parallelized'\n",
    "                    )\n",
    "\n",
    "wbgt.name = 'wbgt'\n",
    "wbgt = wbgt.to_dataset()"
   ]
  },
  {
   "cell_type": "code",
   "execution_count": 6,
   "metadata": {},
   "outputs": [],
   "source": [
    "# years, datasets = zip(*wbgt.groupby('time.year'))\n",
    "# paths = [WEATHER_SRC / 'ecmwf' / 'test'/ f'wbgt_{y}.nc' for y in years]\n",
    "# xr.save_mfdataset(datasets, paths)\n"
   ]
  },
  {
   "cell_type": "code",
   "execution_count": 5,
   "metadata": {},
   "outputs": [
    {
     "name": "stderr",
     "output_type": "stream",
     "text": [
      "/Users/jonathanchambers/miniconda3/envs/lancet/lib/python3.6/site-packages/ipykernel/__main__.py:1: DeprecationWarning: \n",
      ".resample() has been modified to defer calculations. Instead of passing 'dim' and 'how=\"mean\", instead consider using .resample(time=\"1D\").mean() \n",
      "  if __name__ == '__main__':\n"
     ]
    }
   ],
   "source": [
    "wbgt_mean = wbgt.resample(time='1D').mean()"
   ]
  },
  {
   "cell_type": "code",
   "execution_count": 7,
   "metadata": {},
   "outputs": [],
   "source": [
    "years, datasets = zip(*wbgt_mean.groupby('time.year'))\n",
    "paths = [WEATHER_SRC / 'ecmwf' / 'daily_wbgtmean'/ f'wbgt_mean_{y}.nc' for y in years]\n",
    "xr.save_mfdataset(datasets, paths)"
   ]
  },
  {
   "cell_type": "code",
   "execution_count": 8,
   "metadata": {},
   "outputs": [],
   "source": [
    "wbgt_max = wbgt.resample(time='1D').max()"
   ]
  },
  {
   "cell_type": "code",
   "execution_count": 9,
   "metadata": {},
   "outputs": [],
   "source": [
    "years, datasets = zip(*wbgt_max.groupby('time.year'))\n",
    "paths = [WEATHER_SRC / 'ecmwf' / 'daily_wbgtmax'/ f'wbgt_max_{y}.nc' for y in years]\n",
    "xr.save_mfdataset(datasets, paths)"
   ]
  },
  {
   "cell_type": "markdown",
   "metadata": {},
   "source": [
    "## Calculate WBGThalf\n",
    "\n",
    "WBGThalf = the half way point between WBGTmax and WBGTmean."
   ]
  },
  {
   "cell_type": "code",
   "execution_count": 5,
   "metadata": {},
   "outputs": [],
   "source": [
    "wbgt_mean = xr.open_mfdataset(\n",
    "    str(WEATHER_SRC / 'ecmwf' / 'daily_wbgtmean'/ 'wbgt_mean_*.nc'),\n",
    "    chunks={'time':100}\n",
    "                             )\n",
    "wbgt_max = xr.open_mfdataset(\n",
    "    str(WEATHER_SRC / 'ecmwf' / 'daily_wbgtmax'/ 'wbgt_max_*.nc'),\n",
    "    chunks={'time':100}\n",
    ")"
   ]
  },
  {
   "cell_type": "code",
   "execution_count": 7,
   "metadata": {},
   "outputs": [],
   "source": [
    "wbgt_half = wbgt_mean + (wbgt_max - wbgt_mean) / 2"
   ]
  },
  {
   "cell_type": "code",
   "execution_count": 8,
   "metadata": {},
   "outputs": [],
   "source": [
    "years, datasets = zip(*wbgt_half.groupby('time.year'))\n",
    "paths = [WEATHER_SRC / 'ecmwf' / 'daily_wbgthalf'/ f'wbgt_half_{y}.nc' for y in years]\n",
    "xr.save_mfdataset(datasets, paths)"
   ]
  },
  {
   "cell_type": "code",
   "execution_count": null,
   "metadata": {},
   "outputs": [],
   "source": []
  },
  {
   "cell_type": "markdown",
   "metadata": {},
   "source": [
    "## Some plots"
   ]
  },
  {
   "cell_type": "code",
   "execution_count": 4,
   "metadata": {},
   "outputs": [],
   "source": [
    "wbgt_mean = xr.open_mfdataset(str(WEATHER_SRC / 'ecmwf' / 'daily_wbgtmean'/ 'wbgt_mean_*.nc'))"
   ]
  },
  {
   "cell_type": "code",
   "execution_count": 5,
   "metadata": {},
   "outputs": [],
   "source": [
    "wbgt_mean = wbgt_mean.resample(time='1Y').mean()"
   ]
  },
  {
   "cell_type": "code",
   "execution_count": 10,
   "metadata": {},
   "outputs": [
    {
     "data": {
      "text/plain": [
       "<xarray.Dataset>\n",
       "Dimensions:    (latitude: 241, longitude: 480, time: 38)\n",
       "Coordinates:\n",
       "  * time       (time) datetime64[ns] 1980-12-31 1981-12-31 1982-12-31 ...\n",
       "  * longitude  (longitude) float32 0.0 0.75 1.5 2.25 3.0 3.75 4.5 5.25 6.0 ...\n",
       "  * latitude   (latitude) float32 90.0 89.25 88.5 87.75 87.0 86.25 85.5 ...\n",
       "Data variables:\n",
       "    wbgt       (time, latitude, longitude) float32 dask.array<shape=(38, 241, 480), chunksize=(1, 241, 480)>"
      ]
     },
     "execution_count": 10,
     "metadata": {},
     "output_type": "execute_result"
    }
   ],
   "source": [
    "wbgt_mean"
   ]
  },
  {
   "cell_type": "code",
   "execution_count": 9,
   "metadata": {},
   "outputs": [
    {
     "data": {
      "text/plain": [
       "<xarray.Dataset>\n",
       "Dimensions:  ()\n",
       "Data variables:\n",
       "    wbgt     float32 0.0159601"
      ]
     },
     "execution_count": 9,
     "metadata": {},
     "output_type": "execute_result"
    }
   ],
   "source": [
    "wbgt_mean.diff('time').mean(dim=['latitude', 'longitude','time']).compute()"
   ]
  },
  {
   "cell_type": "code",
   "execution_count": 11,
   "metadata": {},
   "outputs": [],
   "source": [
    "wbgt_mean_ts = wbgt_mean.resample(time='1Y').mean().mean(dim=['latitude', 'longitude']).compute()"
   ]
  },
  {
   "cell_type": "code",
   "execution_count": 12,
   "metadata": {},
   "outputs": [
    {
     "data": {
      "text/plain": [
       "<xarray.Dataset>\n",
       "Dimensions:  (time: 38)\n",
       "Coordinates:\n",
       "  * time     (time) datetime64[ns] 1980-12-31 1981-12-31 1982-12-31 ...\n",
       "Data variables:\n",
       "    wbgt     (time) float32 278.529 278.63 278.263 278.423 278.366 278.257 ..."
      ]
     },
     "execution_count": 12,
     "metadata": {},
     "output_type": "execute_result"
    }
   ],
   "source": [
    "wbgt_mean_ts"
   ]
  },
  {
   "cell_type": "code",
   "execution_count": 6,
   "metadata": {},
   "outputs": [
    {
     "data": {
      "image/png": "[encoded data removed]",
      "text/plain": [
       "<Figure size 432x288 with 1 Axes>"
      ]
     },
     "metadata": {},
     "output_type": "display_data"
    }
   ],
   "source": [
    "(wbgt_mean_ts.wbgt - 273.15).plot()\n",
    "plt.ylabel('WBGT (˚C)')\n",
    "plt.savefig(RESULTS_FOLDER / 'wbgt_yearly_mean.png', dpi=300)"
   ]
  },
  {
   "cell_type": "markdown",
   "metadata": {},
   "source": [
    "# TODO more accurate method of calculating WBGT\n"
   ]
  },
  {
   "cell_type": "code",
   "execution_count": null,
   "metadata": {},
   "outputs": [],
   "source": [
    "def fWBGTi(T_air, T_dew):\n",
    "    # First step Psychrometric Wet bulb temperature calculation\n",
    "    if T_dew > T_air:\n",
    "        fWBGTi = T_air\n",
    "        return fWBGTi\n",
    "\n",
    "    # Iteration to get Tw from Td       \n",
    "    Tw = T_dew\n",
    "    Diff = 10000\n",
    "    Ed = 0.6106 * np.exp(17.27 * T_dew / (237.3 + T_dew))\n",
    "    while np.abs(Diff) + np.abs(Diffold) == np.abs(Diff + Diffold):\n",
    "        Diffold = Diff\n",
    "        Ew = 0.6106 * np.exp(17.27 * Tw / (237.3 + Tw))\n",
    "        Diff = 1556 * Ed + 101 * Ta - 1556 * Ew + 1.484 * Ew * Tw - 1.484 * Ed * Tw - 101 * Tw\n",
    "        Tw = Tw + 0.2\n",
    "        if Tw > T_air:\n",
    "            break\n",
    "        \n",
    "        if Tw > T_dew + 0.2:\n",
    "            Tw = Tw - 0.2\n",
    "        else:\n",
    "            Tw = T_dew\n",
    "    # Use Bernard formula to calculate natural wet bulb temperature from psychrometric wet bulb temperature for 1m/s wind speed\n",
    "    fWBGTi = 0.67 * Tw + 0.33 * T_air\n",
    "    return fWBGTi"
   ]
  },
  {
   "cell_type": "code",
   "execution_count": null,
   "metadata": {},
   "outputs": [],
   "source": []
  }
 ],
 "metadata": {
  "kernelspec": {
   "display_name": "Python [conda env:lancet]",
   "language": "python",
   "name": "conda-env-lancet-py"
  },
  "language_info": {
   "codemirror_mode": {
    "name": "ipython",
    "version": 3
   },
   "file_extension": ".py",
   "mimetype": "text/x-python",
   "name": "python",
   "nbconvert_exporter": "python",
   "pygments_lexer": "ipython3",
   "version": "3.6.4"
  }
 },
 "nbformat": 4,
 "nbformat_minor": 2
}
