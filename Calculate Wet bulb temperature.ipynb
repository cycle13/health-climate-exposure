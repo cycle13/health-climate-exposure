{
 "cells": [
  {
   "cell_type": "markdown",
   "metadata": {},
   "source": [
    "# Calculate wet bulb temperature for a year\n",
    "\n",
    "- First need to get RH from dewpoint T\n",
    "Td = T - (100-RH) /5\n",
    "\n",
    "RH = 100- 5(T - Td)\n",
    "\n",
    "- might need to get the surface pressure and dewpoint for the climatology stuff\n"
   ]
  },
  {
   "cell_type": "code",
   "execution_count": 1,
   "metadata": {
    "collapsed": true
   },
   "outputs": [],
   "source": [
    "%matplotlib inline\n",
    "\n",
    "from pathlib import Path\n",
    "from datetime import date\n",
    "\n",
    "import numpy as np\n",
    "import scipy as sp\n",
    "import pandas as pd\n",
    "import xarray as xr\n",
    "import matplotlib.pyplot as plt\n",
    "\n",
    "import cartopy\n",
    "from cartopy import crs\n",
    "\n",
    "import geopandas as gpd \n",
    "from config import DATA_SRC, WEATHER_FILE, CLIMATOLOGY_FILE_RESAMP, SHAPEFILES_SRC\n",
    "import weather_ecmwf\n",
    "import util\n",
    "import config\n",
    "\n"
   ]
  },
  {
   "cell_type": "code",
   "execution_count": 24,
   "metadata": {
    "collapsed": true
   },
   "outputs": [],
   "source": [
    "era_climatology = weather_ecmwf.climatology_dataset(CLIMATOLOGY_FILE_RESAMP)\n",
    "era_weather =  weather_ecmwf.weather_dataset(WEATHER_FILE)"
   ]
  },
  {
   "cell_type": "code",
   "execution_count": 25,
   "metadata": {
    "collapsed": true
   },
   "outputs": [],
   "source": [
    "synthetic_time = pd.date_range(start='2015-01-01', periods=len(era_weather.time), freq='6H')\n",
    "era_weather = era_weather.sel(time=synthetic_time[:len(era_climatology.time)])\n"
   ]
  },
  {
   "cell_type": "code",
   "execution_count": 9,
   "metadata": {
    "collapsed": true
   },
   "outputs": [],
   "source": [
    "# era_weather = era_weather.sel(time=synthetic_time[:10])"
   ]
  },
  {
   "cell_type": "code",
   "execution_count": 6,
   "metadata": {
    "collapsed": true
   },
   "outputs": [],
   "source": [
    "# era_climatology['time'] = synthetic_time[:len(era_climatology.time)]"
   ]
  },
  {
   "cell_type": "code",
   "execution_count": 26,
   "metadata": {
    "collapsed": true
   },
   "outputs": [],
   "source": [
    "era_weather = era_weather.load()"
   ]
  },
  {
   "cell_type": "code",
   "execution_count": 8,
   "metadata": {
    "collapsed": true
   },
   "outputs": [],
   "source": [
    "import climate_conversions"
   ]
  },
  {
   "cell_type": "code",
   "execution_count": 27,
   "metadata": {
    "collapsed": true
   },
   "outputs": [],
   "source": [
    " change this formula\n",
    "# era_weather['relative_humidity'] = 100 - 5* (era_weather.temperature_2m - era_weather.temperature_dewpoint)\n"
   ]
  },
  {
   "cell_type": "code",
   "execution_count": 22,
   "metadata": {},
   "outputs": [
    {
     "name": "stderr",
     "output_type": "stream",
     "text": [
      "/Users/jonathanchambers/Documents/UCL/Lancet/health-climate-exposure/climate_conversions.py:63: RuntimeWarning: invalid value encountered in log\n",
      "  \n"
     ]
    }
   ],
   "source": [
    "wbt = climate_conversions.calculate_wbt(era_weather.temperature_2m, \n",
    "                                  era_weather.relative_humidity, \n",
    "                                  era_weather.surface_pressure)"
   ]
  },
  {
   "cell_type": "code",
   "execution_count": 20,
   "metadata": {},
   "outputs": [
    {
     "data": {
      "text/plain": [
       "<xarray.DataArray 'temperature_2m' (time: 10, latitude: 241, longitude: 480)>\n",
       "array([[[-26.370117, -26.370117, ..., -26.370117, -26.370117],\n",
       "        [-26.390712, -26.372177, ..., -26.423663, -26.405128],\n",
       "        ..., \n",
       "        [-23.198574, -23.208871, ..., -23.188276, -23.192395],\n",
       "        [-24.045005, -24.045005, ..., -24.045005, -24.045005]],\n",
       "\n",
       "       [[-25.095322, -25.095322, ..., -25.095322, -25.095322],\n",
       "        [-24.592817, -24.588698, ..., -24.603114, -24.596936],\n",
       "        ..., \n",
       "        [-22.030869, -22.041166, ..., -22.020572, -22.02675 ],\n",
       "        [-23.009105, -23.009105, ..., -23.009105, -23.009105]],\n",
       "\n",
       "       ..., \n",
       "       [[-28.538712, -28.538712, ..., -28.538712, -28.538712],\n",
       "        [-28.314233, -28.293638, ..., -28.349243, -28.332768],\n",
       "        ..., \n",
       "        [-22.32125 , -22.333607, ..., -22.302715, -22.310953],\n",
       "        [-23.278892, -23.278892, ..., -23.278892, -23.278892]],\n",
       "\n",
       "       [[-27.9909  , -27.9909  , ..., -27.9909  , -27.9909  ],\n",
       "        [-27.646973, -27.628438, ..., -27.655211, -27.651092],\n",
       "        ..., \n",
       "        [-22.253289, -22.263586, ..., -22.242992, -22.24917 ],\n",
       "        [-23.315962, -23.315962, ..., -23.315962, -23.315962]]])\n",
       "Coordinates:\n",
       "  * longitude  (longitude) float32 0.0 0.75 1.5 2.25 3.0 3.75 4.5 5.25 6.0 ...\n",
       "  * latitude   (latitude) float32 90.0 89.25 88.5 87.75 87.0 86.25 85.5 ...\n",
       "  * time       (time) datetime64[ns] 2015-01-01 2015-01-01T06:00:00 ..."
      ]
     },
     "execution_count": 20,
     "metadata": {},
     "output_type": "execute_result"
    }
   ],
   "source": [
    "era_weather.temperature_2m - 273.15"
   ]
  },
  {
   "cell_type": "code",
   "execution_count": 15,
   "metadata": {
    "collapsed": true
   },
   "outputs": [],
   "source": [
    "from importlib import reload"
   ]
  },
  {
   "cell_type": "code",
   "execution_count": 21,
   "metadata": {},
   "outputs": [
    {
     "data": {
      "text/plain": [
       "<module 'climate_conversions' from '/Users/jonathanchambers/Documents/UCL/Lancet/health-climate-exposure/climate_conversions.py'>"
      ]
     },
     "execution_count": 21,
     "metadata": {},
     "output_type": "execute_result"
    }
   ],
   "source": [
    "reload(climate_conversions)"
   ]
  },
  {
   "cell_type": "code",
   "execution_count": null,
   "metadata": {
    "collapsed": true
   },
   "outputs": [],
   "source": []
  }
 ],
 "metadata": {
  "hide_input": false,
  "kernelspec": {
   "display_name": "Python [conda env:lancet]",
   "language": "python",
   "name": "conda-env-lancet-py"
  },
  "language_info": {
   "codemirror_mode": {
    "name": "ipython",
    "version": 3
   },
   "file_extension": ".py",
   "mimetype": "text/x-python",
   "name": "python",
   "nbconvert_exporter": "python",
   "pygments_lexer": "ipython3",
   "version": "3.6.1"
  },
  "notify_time": "30"
 },
 "nbformat": 4,
 "nbformat_minor": 2
}
