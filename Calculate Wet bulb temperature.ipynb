{
 "cells": [
  {
   "cell_type": "markdown",
   "metadata": {},
   "source": [
    "# Calculate wet bulb temperature\n",
    "\n",
    "## TODO need to download extra vars for climatology.\n",
    "\n",
    "- Repeat of DeltaT work but using Wet Bulb\n",
    "- Would like to pull out population projection code into common module (maybe a class to hold init setup)\n",
    "- Calculate WBT, WBGT for current and climatology\n"
   ]
  },
  {
   "cell_type": "code",
   "execution_count": 2,
   "metadata": {},
   "outputs": [],
   "source": [
    "%matplotlib inline\n",
    "\n",
    "from pathlib import Path\n",
    "from datetime import date\n",
    "\n",
    "import numpy as np\n",
    "import scipy as sp\n",
    "import pandas as pd\n",
    "import xarray as xr\n",
    "import matplotlib.pyplot as plt\n",
    "\n",
    "import cartopy\n",
    "from cartopy import crs\n",
    "\n",
    "import geopandas as gpd \n",
    "from config import DATA_SRC, ERA_MONTHLY_FILE, CLIMATOLOGY_FILE_RESAMP, SHAPEFILES_SRC\n",
    "import weather_ecmwf\n",
    "import util\n",
    "import config\n",
    "\n"
   ]
  },
  {
   "cell_type": "code",
   "execution_count": 3,
   "metadata": {
    "collapsed": true
   },
   "outputs": [],
   "source": [
    "import climate_conversions"
   ]
  },
  {
   "cell_type": "code",
   "execution_count": 4,
   "metadata": {},
   "outputs": [
    {
     "data": {
      "text/plain": [
       "<xarray.Dataset>\n",
       "Dimensions:               (latitude: 241, longitude: 480, time: 204)\n",
       "Coordinates:\n",
       "  * longitude             (longitude) float32 0.0 0.75 1.5 2.25 3.0 3.75 4.5 ...\n",
       "  * latitude              (latitude) float32 90.0 89.25 88.5 87.75 87.0 ...\n",
       "  * time                  (time) datetime64[ns] 2000-01-01 2000-02-01 ...\n",
       "Data variables:\n",
       "    surface_pressure      (time, latitude, longitude) float64 1.014e+05 ...\n",
       "    tcw                   (time, latitude, longitude) float64 2.01 2.01 2.01 ...\n",
       "    temperature_2m        (time, latitude, longitude) float64 245.6 245.6 ...\n",
       "    temperature_dewpoint  (time, latitude, longitude) float64 242.6 242.6 ...\n",
       "Attributes:\n",
       "    Conventions:  CF-1.6\n",
       "    history:      2017-04-28 10:49:11 GMT by grib_to_netcdf-2.2.0: grib_to_ne..."
      ]
     },
     "execution_count": 4,
     "metadata": {},
     "output_type": "execute_result"
    }
   ],
   "source": [
    "era_weather = weather_ecmwf.weather_dataset(ERA_MONTHLY_FILE)\n",
    "era_weather = era_weather.sel(time=slice('2000','2016'))\n",
    "era_weather.load()"
   ]
  },
  {
   "cell_type": "code",
   "execution_count": 5,
   "metadata": {
    "collapsed": true
   },
   "outputs": [],
   "source": [
    "era_weather['relative_humidity'] = climate_conversions.calculate_relative_humidity(era_weather.temperature_2m, \n",
    "                                                                                   era_weather.temperature_dewpoint)"
   ]
  },
  {
   "cell_type": "code",
   "execution_count": 7,
   "metadata": {},
   "outputs": [],
   "source": [
    "era_weather['wbt'] = climate_conversions.calculate_wbt(era_weather.temperature_2m, \n",
    "                                  era_weather.relative_humidity, \n",
    "                                  era_weather.surface_pressure)"
   ]
  },
  {
   "cell_type": "code",
   "execution_count": 8,
   "metadata": {
    "collapsed": true
   },
   "outputs": [],
   "source": [
    "era_weather['wbgt'] = climate_conversions.calculate_wbgt(era_weather.temperature_2m, \n",
    "                                  era_weather.relative_humidity, \n",
    "                                  era_weather.surface_pressure)"
   ]
  },
  {
   "cell_type": "code",
   "execution_count": 9,
   "metadata": {},
   "outputs": [
    {
     "data": {
      "text/plain": [
       "<xarray.DataArray 'wbgt' (time: 204, latitude: 241, longitude: 480)>\n",
       "array([[[ 243.989958,  243.989958, ...,  243.989958,  243.989958],\n",
       "        [ 244.271899,  244.273822, ...,  244.268534,  244.271299],\n",
       "        ..., \n",
       "        [ 261.613043,  261.614671, ...,  261.612051,  261.614248],\n",
       "        [ 261.388688,  261.388688, ...,  261.388688,  261.388688]],\n",
       "\n",
       "       [[ 244.591514,  244.591514, ...,  244.591514,  244.591514],\n",
       "        [ 244.189646,  244.2002  , ...,  244.177166,  244.183451],\n",
       "        ..., \n",
       "        [ 249.915035,  249.91878 , ...,  249.910319,  249.91158 ],\n",
       "        [ 250.555749,  250.555749, ...,  250.555749,  250.555749]],\n",
       "\n",
       "       ..., \n",
       "       [[ 261.056298,  261.056298, ...,  261.056298,  261.056298],\n",
       "        [ 261.077453,  261.087794, ...,  261.054214,  261.066864],\n",
       "        ..., \n",
       "        [ 257.585344,  257.586201, ...,  257.581014,  257.581436],\n",
       "        [ 257.278105,  257.278105, ...,  257.278105,  257.278105]],\n",
       "\n",
       "       [[ 254.712449,  254.712449, ...,  254.712449,  254.712449],\n",
       "        [ 254.795896,  254.797498, ...,  254.796761,  254.795527],\n",
       "        ..., \n",
       "        [ 264.26651 ,  264.263406, ...,  264.268695,  264.267602],\n",
       "        [ 263.929566,  263.929566, ...,  263.929566,  263.929566]]])\n",
       "Coordinates:\n",
       "  * longitude  (longitude) float32 0.0 0.75 1.5 2.25 3.0 3.75 4.5 5.25 6.0 ...\n",
       "  * latitude   (latitude) float32 90.0 89.25 88.5 87.75 87.0 86.25 85.5 ...\n",
       "  * time       (time) datetime64[ns] 2000-01-01 2000-02-01 2000-03-01 ..."
      ]
     },
     "execution_count": 9,
     "metadata": {},
     "output_type": "execute_result"
    }
   ],
   "source": [
    "era_weather['wbgt']"
   ]
  },
  {
   "cell_type": "code",
   "execution_count": null,
   "metadata": {
    "collapsed": true
   },
   "outputs": [],
   "source": []
  }
 ],
 "metadata": {
  "hide_input": false,
  "kernelspec": {
   "display_name": "Python [conda env:lancet]",
   "language": "python",
   "name": "conda-env-lancet-py"
  },
  "language_info": {
   "codemirror_mode": {
    "name": "ipython",
    "version": 3
   },
   "file_extension": ".py",
   "mimetype": "text/x-python",
   "name": "python",
   "nbconvert_exporter": "python",
   "pygments_lexer": "ipython3",
   "version": "3.6.1"
  },
  "notify_time": "30"
 },
 "nbformat": 4,
 "nbformat_minor": 2
}
