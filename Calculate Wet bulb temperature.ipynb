{
 "cells": [
  {
   "cell_type": "markdown",
   "metadata": {},
   "source": [
    "# Calculate wet bulb temperature\n",
    "\n",
    "## TODO need to download extra vars for climatology.\n",
    "\n",
    "- Repeat of DeltaT work but using Wet Bulb\n",
    "- Would like to pull out population projection code into common module (maybe a class to hold init setup)\n",
    "- Calculate WBT, WBGT for current and climatology\n"
   ]
  },
  {
   "cell_type": "code",
   "execution_count": 1,
   "metadata": {
    "collapsed": true
   },
   "outputs": [],
   "source": [
    "%matplotlib inline\n",
    "\n",
    "from pathlib import Path\n",
    "from datetime import date\n",
    "\n",
    "import numpy as np\n",
    "import scipy as sp\n",
    "import pandas as pd\n",
    "import xarray as xr\n",
    "import matplotlib.pyplot as plt\n",
    "\n",
    "import cartopy\n",
    "from cartopy import crs\n",
    "\n",
    "import geopandas as gpd \n",
    "from config import DATA_SRC, WEATHER_FILE, CLIMATOLOGY_FILE_RESAMP, SHAPEFILES_SRC\n",
    "import weather_ecmwf\n",
    "import util\n",
    "import config\n",
    "\n"
   ]
  },
  {
   "cell_type": "code",
   "execution_count": 8,
   "metadata": {
    "collapsed": true
   },
   "outputs": [],
   "source": [
    "import climate_conversions"
   ]
  },
  {
   "cell_type": "code",
   "execution_count": 22,
   "metadata": {},
   "outputs": [
    {
     "name": "stderr",
     "output_type": "stream",
     "text": [
      "/Users/jonathanchambers/Documents/UCL/Lancet/health-climate-exposure/climate_conversions.py:63: RuntimeWarning: invalid value encountered in log\n",
      "  \n"
     ]
    }
   ],
   "source": [
    "wbt = climate_conversions.calculate_wbt(era_weather.temperature_2m, \n",
    "                                  era_weather.relative_humidity, \n",
    "                                  era_weather.surface_pressure)"
   ]
  },
  {
   "cell_type": "code",
   "execution_count": null,
   "metadata": {
    "collapsed": true
   },
   "outputs": [],
   "source": []
  }
 ],
 "metadata": {
  "hide_input": false,
  "kernelspec": {
   "display_name": "Python [conda env:lancet]",
   "language": "python",
   "name": "conda-env-lancet-py"
  },
  "language_info": {
   "codemirror_mode": {
    "name": "ipython",
    "version": 3
   },
   "file_extension": ".py",
   "mimetype": "text/x-python",
   "name": "python",
   "nbconvert_exporter": "python",
   "pygments_lexer": "ipython3",
   "version": "3.6.1"
  },
  "notify_time": "30"
 },
 "nbformat": 4,
 "nbformat_minor": 2
}
