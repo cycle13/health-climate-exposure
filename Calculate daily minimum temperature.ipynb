{
 "cells": [
  {
   "cell_type": "markdown",
   "metadata": {},
   "source": [
    "# Calculate daily minimum temperature\n",
    "\n",
    "Daily minimum temperature is used for the heatwave indicator.\n",
    "\n",
    "- Estimate the minimum daily temperature from the minimum of the 6-hourly ERA-Interim data. Save this as a new dataset.\n",
    "- Calculate a reference file for minimum temperatures"
   ]
  },
  {
   "cell_type": "code",
   "execution_count": 3,
   "metadata": {},
   "outputs": [],
   "source": [
    "from collections import namedtuple\n",
    "from pathlib import Path\n",
    "\n",
    "import numpy as np\n",
    "import pandas as pd\n",
    "\n",
    "import xarray as xr\n",
    "\n",
    "from config import DATA_SRC\n",
    "\n",
    "_Row = namedtuple('_Row', ['ncdf_name', 'common_name'])\n",
    "\n",
    "# Manually extracted from the weather files.\n",
    "# python compat var long name, netcdf file name, common name\n",
    "WEATHER_NAMES = [\n",
    "    _Row('t2m', 'temperature_2m'),\n",
    "    _Row('tp', 'precipitation'),\n",
    "    _Row('d2m', 'temperature_dewpoint'),\n",
    "    _Row('sp', 'surface_pressure'),\n",
    "    _Row('2T_GDS4_SFC', 'temperature_2m'),\n",
    "    _Row('g4_lat_1', 'latitude'),\n",
    "    _Row('g4_lon_2', 'longitude'),\n",
    "    _Row('initial_time0_hours', 'time')\n",
    "]\n",
    "\n",
    "\n",
    "def weather_mfdataset(root_path, rename=True):\n",
    "    data = xr.open_mfdataset(str(root_path) + '/*.nc', engine='scipy')\n",
    "    if rename:\n",
    "        data = data.rename({r.ncdf_name: r.common_name for r in WEATHER_NAMES if r.ncdf_name in data.variables})\n",
    "    return data\n",
    "\n",
    "\n",
    "\n"
   ]
  },
  {
   "cell_type": "code",
   "execution_count": 5,
   "metadata": {},
   "outputs": [],
   "source": [
    "SUBDAILY_TEMPERATURES_FOLDER = DATA_SRC / 'weather' / 'ecmwf' / 'summer_temperature'\n",
    "MIN_TEMPERATURES_FOLDER = DATA_SRC / 'weather' / 'ecmwf' / 'summer_min_temperature'"
   ]
  },
  {
   "cell_type": "code",
   "execution_count": null,
   "metadata": {},
   "outputs": [],
   "source": [
    "# Resample the 6-hour data to daily using min, then save as a multi-file dataset to the given folder\n",
    "era_alltemps = weather_mfdataset(SUBDAILY_TEMPERATURES_FOLDER)\n",
    "era_allmin = era_alltemps.resample(time='1D').min()\n",
    "\n",
    "years, datasets = zip(*era_allmin.groupby('time.year'))\n",
    "paths = [MIN_TEMPERATURES_FOLDER / f'{y}_daily_min_temperature.nc' for y in years]\n",
    "xr.save_mfdataset(datasets, paths)"
   ]
  },
  {
   "cell_type": "markdown",
   "metadata": {},
   "source": [
    "## Calculate the climatology/refrence using the base period 1986-2005"
   ]
  },
  {
   "cell_type": "code",
   "execution_count": 9,
   "metadata": {},
   "outputs": [],
   "source": [
    "allmin_reference = era_allmin.sel(time=slice('1986-01-01', '2005-12-31')).load()\n",
    "# high_t_reference = high_t_reference.quantile(0.99, dim='time')"
   ]
  },
  {
   "cell_type": "code",
   "execution_count": 6,
   "metadata": {},
   "outputs": [],
   "source": [
    "era_allmin = xr.open_mfdataset(str(MIN_TEMPERATURES_FOLDER / '*.nc'))"
   ]
  },
  {
   "cell_type": "code",
   "execution_count": 22,
   "metadata": {},
   "outputs": [],
   "source": [
    "CLIMATOLOGY_DAILY_FILE = DATA_SRC / 'weather' / 'ecmwf' / 'climatology_daily_tmin_quantiles.nc'"
   ]
  },
  {
   "cell_type": "code",
   "execution_count": 20,
   "metadata": {},
   "outputs": [],
   "source": [
    "# TODO maybe add more quantiles\n",
    "tmin_quantiles = allmin_reference.quantile([0.25, 0.5, 0.75, 0.99], dim='time')\n",
    "tmin_quantiles.to_netcdf(CLIMATOLOGY_DAILY_FILE)"
   ]
  },
  {
   "cell_type": "code",
   "execution_count": null,
   "metadata": {},
   "outputs": [],
   "source": []
  }
 ],
 "metadata": {
  "kernelspec": {
   "display_name": "Python [conda env:lancet]",
   "language": "python",
   "name": "conda-env-lancet-py"
  },
  "language_info": {
   "codemirror_mode": {
    "name": "ipython",
    "version": 3
   },
   "file_extension": ".py",
   "mimetype": "text/x-python",
   "name": "python",
   "nbconvert_exporter": "python",
   "pygments_lexer": "ipython3",
   "version": "3.6.2"
  }
 },
 "nbformat": 4,
 "nbformat_minor": 2
}
