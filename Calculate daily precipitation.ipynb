{
 "cells": [
  {
   "cell_type": "code",
   "execution_count": 1,
   "metadata": {},
   "outputs": [],
   "source": [
    "%matplotlib inline\n",
    "\n",
    "from pathlib import Path\n",
    "from datetime import date\n",
    "\n",
    "import numba\n",
    "import rasterio\n",
    "import numpy as np\n",
    "import scipy as sp\n",
    "import pandas as pd\n",
    "import xarray as xr\n",
    "import matplotlib.pyplot as plt\n",
    "from cartopy import crs\n",
    "from scipy import stats\n",
    "\n",
    "import weather_ecmwf\n",
    "import population_tools\n",
    "\n",
    "from config import DATA_SRC, WEATHER_SRC, POP_DATA_SRC"
   ]
  },
  {
   "cell_type": "code",
   "execution_count": 21,
   "metadata": {},
   "outputs": [
    {
     "name": "stdout",
     "output_type": "stream",
     "text": [
      "1986\n",
      "2012\n",
      "1981\n",
      "2015\n",
      "1982\n",
      "1988\n",
      "2016\n",
      "1985\n",
      "2011\n",
      "2010\n",
      "1984\n",
      "2017\n",
      "1989\n",
      "1983\n",
      "2014\n",
      "1980\n",
      "2013\n",
      "1987\n",
      "2001\n",
      "1995\n",
      "2006\n",
      "1998\n",
      "1992\n",
      "2005\n",
      "1991\n",
      "2002\n",
      "2008\n",
      "1996\n",
      "1997\n",
      "2009\n",
      "2003\n",
      "1990\n",
      "2004\n",
      "1993\n",
      "1999\n",
      "2007\n",
      "1994\n",
      "2000\n"
     ]
    }
   ],
   "source": [
    "for f in (WEATHER_SRC / 'ecmwf' / 'daily_precipitation').glob('*_daily_precipitation.nc'):\n",
    "    year = int(f.name.split('_')[0])\n",
    "    print(year)\n",
    "    ppt = xr.open_dataset(f,\n",
    "                          chunks={'latitude': 122, \n",
    "                                  'longitude': 240})\n",
    "    ppt = ppt.resample(time='1D').sum() * 1000 # in meters\n",
    "    ppt.to_netcdf(WEATHER_SRC / 'ecmwf' / 'daily_total_precipitation'/ f'{year}_daily_precipitation.nc')\n",
    "    "
   ]
  },
  {
   "cell_type": "code",
   "execution_count": 2,
   "metadata": {},
   "outputs": [],
   "source": [
    "ppt_daily = xr.open_mfdataset(str(WEATHER_SRC / 'ecmwf' / 'daily_total_precipitation'/ '*_daily_precipitation.nc'), \n",
    "                              chunks={'latitude': 100, \n",
    "                                  'longitude': 100})"
   ]
  },
  {
   "cell_type": "code",
   "execution_count": 3,
   "metadata": {},
   "outputs": [],
   "source": [
    "ppt_5day = ppt_daily.tp.rolling(time=5).sum()\n",
    "ppt_5day.name = 'precipitation'\n",
    "ppt_5day = ppt_5day.to_dataset()"
   ]
  },
  {
   "cell_type": "code",
   "execution_count": 4,
   "metadata": {},
   "outputs": [],
   "source": [
    "years, datasets = zip(*ppt_5day.groupby('time.year'))\n",
    "paths = [WEATHER_SRC / 'ecmwf' / '5day_precipitation'/ f'{y}_ppt_5day.nc' for y in years]\n",
    "xr.save_mfdataset(datasets, paths)"
   ]
  },
  {
   "cell_type": "code",
   "execution_count": null,
   "metadata": {},
   "outputs": [],
   "source": []
  }
 ],
 "metadata": {
  "kernelspec": {
   "display_name": "Python [conda env:lancet]",
   "language": "python",
   "name": "conda-env-lancet-py"
  },
  "language_info": {
   "codemirror_mode": {
    "name": "ipython",
    "version": 3
   },
   "file_extension": ".py",
   "mimetype": "text/x-python",
   "name": "python",
   "nbconvert_exporter": "python",
   "pygments_lexer": "ipython3",
   "version": "3.6.4"
  }
 },
 "nbformat": 4,
 "nbformat_minor": 2
}
