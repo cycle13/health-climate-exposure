{
 "cells": [
  {
   "cell_type": "markdown",
   "metadata": {},
   "source": [
    "# Calculate the mean monthly temperatures for the baseline period 1986-2005"
   ]
  },
  {
   "cell_type": "code",
   "execution_count": 1,
   "metadata": {},
   "outputs": [],
   "source": [
    "%matplotlib inline\n",
    "\n",
    "from pathlib import Path\n",
    "from datetime import date\n",
    "\n",
    "import numpy as np\n",
    "import scipy as sp\n",
    "import pandas as pd\n",
    "import xarray as xr\n",
    "import matplotlib.pyplot as plt\n",
    "import cartopy.crs as ccrs\n",
    "\n",
    "import weather_ecmwf\n",
    "import population_tools\n",
    "\n",
    "from config import (DATA_SRC, WEATHER_SRC, POP_DATA_SRC)"
   ]
  },
  {
   "cell_type": "code",
   "execution_count": 13,
   "metadata": {},
   "outputs": [],
   "source": [
    "MAX_YEAR = 2017\n",
    "REFERENCE_YEAR_START = 1986\n",
    "REFERENCE_YEAR_END = 2005\n",
    "\n",
    "ERA_MONTHLY_FILE = WEATHER_SRC / 'ecmwf' / 'monthly_means'\n",
    "CLIMATOLOGY_FILE_MONTHLY = WEATHER_SRC / 'ecmwf' / 'era_climatology_monthly.nc'\n",
    "\n",
    "RESULTS_FOLDER = Path('./results/lancet2018/global/1.1 temperature change')"
   ]
  },
  {
   "cell_type": "code",
   "execution_count": 3,
   "metadata": {},
   "outputs": [],
   "source": [
    "era_weather = weather_ecmwf.weather_mfdataset(ERA_MONTHLY_FILE)\n"
   ]
  },
  {
   "cell_type": "code",
   "execution_count": 8,
   "metadata": {},
   "outputs": [],
   "source": [
    "t_baseline = era_weather.sel(time=slice(f'{REFERENCE_YEAR_START}-01-01',f'{REFERENCE_YEAR_END}-12-31')).temperature_2m"
   ]
  },
  {
   "cell_type": "code",
   "execution_count": 18,
   "metadata": {},
   "outputs": [],
   "source": [
    "t_baseline = t_baseline.groupby('time.month').mean(dim='time')"
   ]
  },
  {
   "cell_type": "code",
   "execution_count": 20,
   "metadata": {},
   "outputs": [],
   "source": [
    "t_baseline['month'] = t_baseline['month'].astype(np.int32)"
   ]
  },
  {
   "cell_type": "code",
   "execution_count": 21,
   "metadata": {},
   "outputs": [],
   "source": [
    "t_baseline.to_netcdf(CLIMATOLOGY_FILE_MONTHLY)"
   ]
  },
  {
   "cell_type": "code",
   "execution_count": null,
   "metadata": {},
   "outputs": [],
   "source": []
  }
 ],
 "metadata": {
  "kernelspec": {
   "display_name": "Python (Lancet)",
   "language": "python",
   "name": "lancet"
  },
  "language_info": {
   "codemirror_mode": {
    "name": "ipython",
    "version": 3
   },
   "file_extension": ".py",
   "mimetype": "text/x-python",
   "name": "python",
   "nbconvert_exporter": "python",
   "pygments_lexer": "ipython3",
   "version": "3.6.5"
  }
 },
 "nbformat": 4,
 "nbformat_minor": 2
}
