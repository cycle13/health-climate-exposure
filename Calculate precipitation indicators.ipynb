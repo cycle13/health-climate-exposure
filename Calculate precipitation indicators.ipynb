{
 "cells": [
  {
   "cell_type": "markdown",
   "metadata": {},
   "source": [
    "# Calculate SPI and SPEI indicators from various input datasets\n",
    "# TODO choose base period! Probably don't actually want to fit on everything. On the other hand, choosing post 1980 isn't very good either because change has already happened\n",
    "## Datasets\n",
    "\n",
    "CRU monthly rainfall and mean temperatures\n",
    "\n",
    "ECMWF ERA Interim\n",
    "\n",
    "- The base period from ERA Interim is rather short, so prefer CRU for now\n"
   ]
  },
  {
   "cell_type": "code",
   "execution_count": null,
   "metadata": {},
   "outputs": [],
   "source": [
    "%matplotlib inline\n",
    "\n",
    "from pathlib import Path\n",
    "from datetime import date\n",
    "\n",
    "import numba\n",
    "import rasterio\n",
    "import numpy as np\n",
    "import scipy as sp\n",
    "import pandas as pd\n",
    "import xarray as xr\n",
    "import matplotlib.pyplot as plt\n",
    "import cartopy.crs as ccrs\n",
    "\n",
    "from scipy import stats\n",
    "from tqdm import tnrange, tqdm_notebook\n",
    "from numba import float64, int64, jit, prange\n",
    "\n",
    "\n",
    "from precipitation_indices import indices, compute\n",
    "import weather_ecmwf\n",
    "import population_tools\n",
    "\n",
    "from config import DATA_SRC, WEATHER_SRC, POP_DATA_SRC"
   ]
  },
  {
   "cell_type": "markdown",
   "metadata": {},
   "source": [
    "## Apply SPI calculation to CRU monthly precipitation data"
   ]
  },
  {
   "cell_type": "code",
   "execution_count": null,
   "metadata": {},
   "outputs": [],
   "source": [
    "dd = xr.open_mfdataset(str(WEATHER_SRC / 'cru/cru_ts4.01.1901.2016.*.dat.nc'), \n",
    "                        chunks={'lat':30, 'lon':30},\n",
    "                        drop_variables=['stn', 'tmn'], engine='scipy', lock=False)"
   ]
  },
  {
   "cell_type": "code",
   "execution_count": null,
   "metadata": {},
   "outputs": [],
   "source": [
    "def spi3_ufunc(data):\n",
    "    return indices.spi_pearson(data, 3)\n",
    "\n",
    "\n",
    "def spi6_ufunc(data):\n",
    "    return indices.spi_gamma(data, 6)"
   ]
  },
  {
   "cell_type": "code",
   "execution_count": null,
   "metadata": {},
   "outputs": [],
   "source": [
    "spi3 = xr.apply_ufunc(spi3_ufunc, ppt.pre, input_core_dims=[['time']], output_core_dims=[['time']], \n",
    "                     vectorize=True, dask='parallelized', output_dtypes=[np.float])"
   ]
  },
  {
   "cell_type": "code",
   "execution_count": null,
   "metadata": {},
   "outputs": [],
   "source": [
    "spi3.to_netcdf(DATA_SRC / 'lancet' / 'spi3_1901_2016_cru.nc')"
   ]
  },
  {
   "cell_type": "code",
   "execution_count": null,
   "metadata": {},
   "outputs": [],
   "source": [
    "spi6 = xr.apply_ufunc(spi6_ufunc, ppt.pre, input_core_dims=[['time']], output_core_dims=[['time']], \n",
    "                     vectorize=True, dask='parallelized', output_dtypes=[np.float])"
   ]
  },
  {
   "cell_type": "code",
   "execution_count": null,
   "metadata": {},
   "outputs": [],
   "source": [
    "spi6.to_netcdf(DATA_SRC / 'lancet' / 'spi6_1901_2016_cru.nc')"
   ]
  },
  {
   "cell_type": "markdown",
   "metadata": {},
   "source": [
    "## Apply SPI calculation to ECMWF monthly precipitation data"
   ]
  },
  {
   "cell_type": "code",
   "execution_count": null,
   "metadata": {},
   "outputs": [],
   "source": [
    "weather_ecmwf.weather_mfdataset(PPT_FOLDER)"
   ]
  },
  {
   "cell_type": "markdown",
   "metadata": {},
   "source": [
    "# Calculate SPEI"
   ]
  },
  {
   "cell_type": "markdown",
   "metadata": {},
   "source": [
    "## Apply SPEI calculation to CRU monthly precipitation data"
   ]
  },
  {
   "cell_type": "code",
   "execution_count": null,
   "metadata": {},
   "outputs": [],
   "source": [
    "# def spei6_ufunc(precips_mm, temperatures, lat):\n",
    "#     return indices.spei_gamma(precips_mm, 6, temps_celsius=temperatures, data_start_year=1901, latitude_degrees=lat)\n",
    "\n",
    "# -------------------------------------------------------\n",
    "# Manually ufunc'ed versions of SPEI index calculations\n",
    "# -------------------------------------------------------\n",
    "\n",
    "@jit(nogil=True, parallel=True)\n",
    "def spei6_ufunc(precips_mm, temperatures, lat):\n",
    "    months_scale=6\n",
    "    spei_out = np.empty_like(precips_mm)\n",
    "    for i in prange(precips_mm.shape[0]):\n",
    "        latitude_degrees = lat[i]\n",
    "        for j in prange(precips_mm.shape[1]):\n",
    "            p_mm = precips_mm[i,j,:]\n",
    "            t_celsius = temperatures[i,j,:]\n",
    "            spei_out[i, j,:] = indices.spei_gamma(p_mm, months_scale, temps_celsius=t_celsius, \n",
    "                                                  data_start_year=1901, latitude_degrees=latitude_degrees)\n",
    "    return spei_out\n",
    "\n",
    "\n",
    "@jit(nogil=True, parallel=True)\n",
    "def spei3_ufunc(precips_mm, temperatures, lat):\n",
    "    months_scale=3\n",
    "    spei_out = np.empty_like(precips_mm)\n",
    "    for i in prange(precips_mm.shape[0]):\n",
    "        latitude_degrees = lat[i]\n",
    "        for j in prange(precips_mm.shape[1]):\n",
    "            p_mm = precips_mm[i,j,:]\n",
    "            t_celsius = temperatures[i,j,:]\n",
    "            spei_out[i, j,:] = indices.spei_gamma(p_mm, months_scale, temps_celsius=t_celsius, \n",
    "                                                  data_start_year=1901, latitude_degrees=latitude_degrees)\n",
    "    return spei_out\n",
    "\n"
   ]
  },
  {
   "cell_type": "code",
   "execution_count": null,
   "metadata": {},
   "outputs": [],
   "source": [
    "spei6 = xr.apply_ufunc(spei6_ufunc, dd.pre, dd.tmp, dd.lat, \n",
    "                       input_core_dims=[['time'],['time'],[]],\n",
    "                       output_core_dims=[['time']], \n",
    "                       dask='parallelized', \n",
    "                       output_dtypes=[np.float])"
   ]
  },
  {
   "cell_type": "code",
   "execution_count": null,
   "metadata": {},
   "outputs": [],
   "source": [
    "spei6.to_netcdf(DATA_SRC / 'lancet' / 'spei6_1901_2016_cru.nc')"
   ]
  },
  {
   "cell_type": "code",
   "execution_count": null,
   "metadata": {},
   "outputs": [],
   "source": [
    "spei3 = xr.apply_ufunc(spei3_ufunc, dd.pre, dd.tmp, dd.lat, \n",
    "                       input_core_dims=[['time'],['time'],[]],\n",
    "                       output_core_dims=[['time']], \n",
    "                       dask='parallelized', \n",
    "                       output_dtypes=[np.float])"
   ]
  },
  {
   "cell_type": "code",
   "execution_count": null,
   "metadata": {},
   "outputs": [],
   "source": [
    "spei3.to_netcdf(DATA_SRC / 'lancet' / 'spei3_1901_2016_cru.nc')"
   ]
  }
 ],
 "metadata": {
  "kernelspec": {
   "display_name": "Python [conda env:lancet]",
   "language": "python",
   "name": "conda-env-lancet-py"
  },
  "language_info": {
   "codemirror_mode": {
    "name": "ipython",
    "version": 3
   },
   "file_extension": ".py",
   "mimetype": "text/x-python",
   "name": "python",
   "nbconvert_exporter": "python",
   "pygments_lexer": "ipython3",
   "version": "3.6.2"
  }
 },
 "nbformat": 4,
 "nbformat_minor": 2
}
