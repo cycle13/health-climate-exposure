{
 "cells": [
  {
   "cell_type": "markdown",
   "metadata": {},
   "source": [
    "# Population to netCDF"
   ]
  },
  {
   "cell_type": "code",
   "execution_count": 1,
   "metadata": {
    "collapsed": true
   },
   "outputs": [],
   "source": [
    "import numpy as np\n",
    "import scipy as sp\n",
    "import pandas as pd\n",
    "import xarray as xr\n",
    "import rasterio\n",
    "\n",
    "from config import DATA_SRC, POP_DATA_SRC"
   ]
  },
  {
   "cell_type": "code",
   "execution_count": 2,
   "metadata": {},
   "outputs": [],
   "source": [
    "population_grid_2015_file = (POP_DATA_SRC / 'nasa_grid' /'population_2015_halfres.tif')"
   ]
  },
  {
   "cell_type": "code",
   "execution_count": 3,
   "metadata": {},
   "outputs": [
    {
     "name": "stdout",
     "output_type": "stream",
     "text": [
      "{'driver': 'GTiff', 'dtype': 'float32', 'nodata': None, 'width': 21600, 'height': 8700, 'count': 1, 'crs': CRS({'init': 'epsg:4326'}), 'transform': Affine(0.01666666666666678, 0.0, -180.0,\n",
      "       0.0, -0.01666666666666678, 85.0000000000092)}\n"
     ]
    }
   ],
   "source": [
    "with rasterio.open(str(population_grid_2015_file)) as pop:\n",
    "    print(pop.meta)\n",
    "    pop_meta = pop.meta\n",
    "    trns = pop.transform\n",
    "    population = pop.read(1)\n",
    "    \n",
    "population = population.T"
   ]
  },
  {
   "cell_type": "code",
   "execution_count": 10,
   "metadata": {},
   "outputs": [],
   "source": [
    "pop_x = np.arange(0, population.shape[0])\n",
    "pop_y = np.arange(0, population.shape[1])\n",
    "\n",
    "# Not totally conviced this is right, might prefer to re implement...\n",
    "pop_lon, pop_lat = trns * np.meshgrid(pop_y, pop_x)"
   ]
  },
  {
   "cell_type": "code",
   "execution_count": 12,
   "metadata": {
    "collapsed": true
   },
   "outputs": [],
   "source": [
    "population.shape = (*population.shape, 1)"
   ]
  },
  {
   "cell_type": "code",
   "execution_count": 14,
   "metadata": {},
   "outputs": [],
   "source": [
    "ds = xr.Dataset({'population': (['x', 'y', 'time'],  population)},\n",
    "                 coords={'lon': (['x', 'y'], pop_lon),\n",
    "                       'lat': (['x', 'y'], pop_lat),\n",
    "                       'time': pd.date_range('2015', periods=1, freq='A-DEC')\n",
    "                        })"
   ]
  },
  {
   "cell_type": "code",
   "execution_count": 15,
   "metadata": {},
   "outputs": [],
   "source": [
    "ds.to_netcdf(str(POP_DATA_SRC / 'nasa_grid' / 'population2.nc'),format='NETCDF4', \n",
    "             encoding={'population': {\n",
    "                                 'zlib': True,\n",
    "                                 '_FillValue': -9999\n",
    "                             },\n",
    "                       'lon': {\n",
    "                                 'zlib': True,\n",
    "                                 '_FillValue': -9999\n",
    "                             },\n",
    "                       'lat': {\n",
    "                                 'zlib': True,\n",
    "                                 '_FillValue': -9999\n",
    "                             }\n",
    "                      }\n",
    "            )"
   ]
  },
  {
   "cell_type": "code",
   "execution_count": 25,
   "metadata": {},
   "outputs": [
    {
     "data": {
      "text/plain": [
       "<xarray.DataArray 'population' (time: 1)>\n",
       "array([ 0.], dtype=float32)\n",
       "Coordinates:\n",
       "    lon      float64 -180.0\n",
       "    lat      float64 85.0\n",
       "  * time     (time) datetime64[ns] 2015-12-31"
      ]
     },
     "execution_count": 25,
     "metadata": {},
     "output_type": "execute_result"
    }
   ],
   "source": [
    "ds.population[0,0]"
   ]
  },
  {
   "cell_type": "code",
   "execution_count": null,
   "metadata": {
    "collapsed": true
   },
   "outputs": [],
   "source": [
    ""
   ]
  }
 ],
 "metadata": {
  "hide_input": false,
  "kernelspec": {
   "display_name": "Python [conda env:lancet]",
   "language": "python",
   "name": "conda-env-lancet-py"
  },
  "language_info": {
   "codemirror_mode": {
    "name": "ipython",
    "version": 3.0
   },
   "file_extension": ".py",
   "mimetype": "text/x-python",
   "name": "python",
   "nbconvert_exporter": "python",
   "pygments_lexer": "ipython3",
   "version": "3.6.1"
  }
 },
 "nbformat": 4,
 "nbformat_minor": 0
}