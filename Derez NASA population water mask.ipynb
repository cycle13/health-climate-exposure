{
 "cells": [
  {
   "cell_type": "markdown",
   "metadata": {},
   "source": [
    "# Reduce the resolution of the water mask to match the population"
   ]
  },
  {
   "cell_type": "code",
   "execution_count": 1,
   "metadata": {
    "collapsed": true
   },
   "outputs": [],
   "source": [
    "%matplotlib inline"
   ]
  },
  {
   "cell_type": "code",
   "execution_count": 2,
   "metadata": {
    "collapsed": true
   },
   "outputs": [],
   "source": [
    "import numpy as np\n",
    "import pandas as pd\n",
    "import rasterio\n",
    "import xarray as xr\n",
    "import matplotlib.pyplot as plt\n",
    "from affine import Affine\n",
    "from numba import jit\n",
    "from rasterio import features\n",
    "from rasterio.crs import CRS\n",
    "from rasterio.enums import Resampling\n",
    "from rasterio.warp import reproject\n",
    "\n",
    "import population_tools\n",
    "from config import POP_DATA_SRC\n"
   ]
  },
  {
   "cell_type": "code",
   "execution_count": 3,
   "metadata": {
    "collapsed": true
   },
   "outputs": [],
   "source": [
    "\n",
    "def derez_water_mask(file_path, n_iters=1):\n",
    "    \"\"\"\n",
    "    Load water mask and invert such that land is true and water is false\n",
    "    De rex the water mask by performing 'or' of alternate rows\n",
    "    and columns such that any point where one square is water (false)\n",
    "    and the other square is land (true) the resulting point is considered as\n",
    "    land, since the population may be non-zero.\n",
    "    \n",
    "    This is a bit fancier than just performing a decimated read \n",
    "    (https://mapbox.github.io/rasterio/topics/resampling.html)\n",
    "    with the aim of avoiding dropping bits of the population\n",
    "    \"\"\"\n",
    "    with rasterio.open(str(file_path)) as pop:\n",
    "        print(pop.meta)\n",
    "        pop_meta = pop.meta\n",
    "        trns = pop.transform\n",
    "#         population = pop.read(1, masked=True)\n",
    "        population = pop.read_masks(1)\n",
    "\n",
    "        population = population.astype(bool)\n",
    "    for i in range(n_iters):\n",
    "        \n",
    "        first = population[::2, :]\n",
    "        second = population[1::2, :]\n",
    "        if second.shape[0] < first.shape[0]:\n",
    "            # missing a row, need to 'wrap'- just double the values from 'first' as an appoximation\n",
    "            second = np.vstack((second, first[-1, :]))\n",
    "        population = first | second\n",
    "        # Sum every other column\n",
    "        if second.shape[1] < first.shape[1]:\n",
    "            # missing a row, need to 'wrap'- just double the values from 'first' as an appoximation\n",
    "            second = np.hstack((second, first[:, -1]))\n",
    "        first = population[:, ::2]\n",
    "        second = population[:, 1::2]\n",
    "        # population = population[:, ::2] + population[:, 1::2]\n",
    "        population = first | second\n",
    "        \n",
    "        # Output affine scaled by 2\n",
    "        trns = Affine(trns.a * 2, trns.b, trns.c, trns.d, trns.e * 2, trns.f)\n",
    "        \n",
    "    return population, trns, pop_meta\n",
    "    # Reduction to 1/4 of the original size already makes life much easier\n",
    "\n",
    "\n",
    "def save_population_geotiff(population, trns, pop_meta):\n",
    "    print('Saving')\n",
    "    print(population.shape)\n",
    "    population = population.astype(float)\n",
    "\n",
    "\n",
    "    with rasterio.open(str(POP_DATA_SRC / 'nasa_grid' / _POPULATION_PATH_TEMPLATE.format(resolution=REZ_FIX)),\n",
    "                       'w',\n",
    "                       driver='GTiff',\n",
    "                       height=population.shape[0],\n",
    "                       width=population.shape[1],\n",
    "                       count=1,\n",
    "                       dtype='float64',\n",
    "                       crs=pop_meta['crs'],\n",
    "                       transform=trns,\n",
    "                       compress='lzw') as new_dataset:\n",
    "        new_dataset.write(population, 1)"
   ]
  },
  {
   "cell_type": "code",
   "execution_count": 9,
   "metadata": {
    "collapsed": true
   },
   "outputs": [],
   "source": [
    "# REZ_FIX = 'eightres'\n",
    "REZ_FIX = 'sixteenres'\n",
    "\n",
    "\n",
    "_POPULATION_PATH_TEMPLATE = 'water_mask_{resolution}.tif'\n",
    "input_file = POP_DATA_SRC / 'nasa_grid'/ 'gpw-v4-data-quality-indicators-water-mask' / 'gpw-v4-data-quality-indicators_water-mask.tif'\n",
    "# input_file = (POP_DATA_SRC / 'nasa_grid'/ 'count'/\n",
    "#               'gpw-v4-population-count-adjusted-to-2015-unwpp-country-totals-2000' / \n",
    "#               'gpw-v4-population-count-adjusted-to-2015-unwpp-country-totals_2000.tif')"
   ]
  },
  {
   "cell_type": "code",
   "execution_count": 10,
   "metadata": {},
   "outputs": [
    {
     "name": "stdout",
     "output_type": "stream",
     "text": [
      "{'driver': 'GTiff', 'dtype': 'uint8', 'nodata': 255.0, 'width': 43200, 'height': 17400, 'count': 1, 'crs': CRS({'init': 'epsg:4326'}), 'transform': Affine(0.00833333333333339, 0.0, -180.0,\n",
      "       0.0, -0.008333333333333389, 85.00000000000917)}\n"
     ]
    }
   ],
   "source": [
    "population, trns, pop_meta = derez_water_mask(input_file, n_iters=4)\n"
   ]
  },
  {
   "cell_type": "code",
   "execution_count": 15,
   "metadata": {},
   "outputs": [
    {
     "name": "stdout",
     "output_type": "stream",
     "text": [
      "Saving\n",
      "(1088, 2700)\n"
     ]
    }
   ],
   "source": [
    "save_population_geotiff(population, trns, pop_meta)"
   ]
  },
  {
   "cell_type": "code",
   "execution_count": 5,
   "metadata": {},
   "outputs": [
    {
     "data": {
      "image/png": "[encoded data removed]",
      "text/plain": [
       "<matplotlib.figure.Figure at 0x11f55fa58>"
      ]
     },
     "metadata": {},
     "output_type": "display_data"
    }
   ],
   "source": [
    "file_path = POP_DATA_SRC / 'water_mask_sixteenres.tif'\n",
    "\n",
    "\n",
    "with rasterio.open(str(file_path)) as pop:\n",
    "    pop_mask = pop.read(1)\n",
    "    plt.imshow(pop_mask)"
   ]
  },
  {
   "cell_type": "code",
   "execution_count": 39,
   "metadata": {},
   "outputs": [
    {
     "data": {
      "text/plain": [
       "<xarray.Dataset>\n",
       "Dimensions:           (latitude: 360, longitude: 720, time: 145)\n",
       "Coordinates:\n",
       "  * longitude         (longitude) float64 -179.8 -179.2 -178.8 -178.2 -177.8 ...\n",
       "  * latitude          (latitude) float64 89.75 89.25 88.75 88.25 87.75 87.25 ...\n",
       "  * time              (time) float64 1.0 2.0 3.0 4.0 5.0 6.0 7.0 8.0 9.0 ...\n",
       "Data variables:\n",
       "    number_of_people  (time, latitude, longitude) float64 0.0 0.0 0.0 0.0 ...\n",
       "Attributes:\n",
       "    CDI:                       Climate Data Interface version 1.7.2 (http://m...\n",
       "    Conventions:               CF-1.4\n",
       "    NCO:                       20161020\n",
       "    nco_openmp_thread_number:  1\n",
       "    CDO:                       Climate Data Operators version 1.7.2 (http://m..."
      ]
     },
     "execution_count": 39,
     "metadata": {},
     "output_type": "execute_result"
    }
   ],
   "source": [
    "target = xr.open_dataset(str(POP_DATA_SRC / 'histsoc_population_0.5deg_1861-2005.nc4'), \n",
    "                         decode_times=False\n",
    "                        )\n",
    "target = target.rename({'lon':'longitude', 'lat':'latitude'})\n",
    "target"
   ]
  },
  {
   "cell_type": "code",
   "execution_count": 4,
   "metadata": {},
   "outputs": [
    {
     "ename": "NameError",
     "evalue": "name 'target' is not defined",
     "output_type": "error",
     "traceback": [
      "\u001b[0;31m---------------------------------------------------------------------------\u001b[0m",
      "\u001b[0;31mNameError\u001b[0m                                 Traceback (most recent call last)",
      "\u001b[0;32m<ipython-input-4-4afee90f4067>\u001b[0m in \u001b[0;36m<module>\u001b[0;34m()\u001b[0m\n\u001b[1;32m      6\u001b[0m     \u001b[0mpop_mask\u001b[0m \u001b[0;34m=\u001b[0m \u001b[0mpop\u001b[0m\u001b[0;34m.\u001b[0m\u001b[0mread\u001b[0m\u001b[0;34m(\u001b[0m\u001b[0;36m1\u001b[0m\u001b[0;34m)\u001b[0m\u001b[0;34m\u001b[0m\u001b[0m\n\u001b[1;32m      7\u001b[0m     \u001b[0maff\u001b[0m \u001b[0;34m=\u001b[0m \u001b[0mpop\u001b[0m\u001b[0;34m.\u001b[0m\u001b[0mtransform\u001b[0m\u001b[0;34m\u001b[0m\u001b[0m\n\u001b[0;32m----> 8\u001b[0;31m     newarr = np.empty(shape=(len(target.latitude),\n\u001b[0m\u001b[1;32m      9\u001b[0m                          len(target.longitude)))\n\u001b[1;32m     10\u001b[0m \u001b[0;34m\u001b[0m\u001b[0m\n",
      "\u001b[0;31mNameError\u001b[0m: name 'target' is not defined"
     ]
    }
   ],
   "source": [
    "# file_path = POP_DATA_SRC / 'water_mask_eightres.tif'\n",
    "file_path = POP_DATA_SRC / 'water_mask_sixteenres.tif'\n",
    "\n",
    "\n",
    "with rasterio.open(str(file_path)) as pop:\n",
    "    pop_mask = pop.read(1)\n",
    "    aff = pop.transform\n",
    "    newarr = np.empty(shape=(len(target.latitude),\n",
    "                         len(target.longitude)))\n",
    "\n",
    "    newaff = population_tools.get_affine(target)\n",
    "    \n",
    "    reproject(\n",
    "        pop_mask, newarr,\n",
    "        src_transform = aff,\n",
    "        dst_transform = newaff,\n",
    "        src_crs = pop.crs,\n",
    "        dst_crs = pop.crs,\n",
    "        resample = Resampling.bilinear)\n",
    "\n"
   ]
  },
  {
   "cell_type": "code",
   "execution_count": 35,
   "metadata": {},
   "outputs": [
    {
     "data": {
      "text/plain": [
       "<matplotlib.image.AxesImage at 0x12cd9c9e8>"
      ]
     },
     "execution_count": 35,
     "metadata": {},
     "output_type": "execute_result"
    },
    {
     "data": {
      "image/png": "[encoded data removed]",
      "text/plain": [
       "<matplotlib.figure.Figure at 0x14adc2780>"
      ]
     },
     "metadata": {
      "image/png": {
       "height": 201,
       "width": 377
      }
     },
     "output_type": "display_data"
    }
   ],
   "source": [
    "plt.imshow(newarr)"
   ]
  },
  {
   "cell_type": "code",
   "execution_count": null,
   "metadata": {
    "collapsed": true
   },
   "outputs": [],
   "source": []
  }
 ],
 "metadata": {
  "hide_input": false,
  "kernelspec": {
   "display_name": "Python [conda env:lancet]",
   "language": "python",
   "name": "conda-env-lancet-py"
  },
  "language_info": {
   "codemirror_mode": {
    "name": "ipython",
    "version": 3
   },
   "file_extension": ".py",
   "mimetype": "text/x-python",
   "name": "python",
   "nbconvert_exporter": "python",
   "pygments_lexer": "ipython3",
   "version": "3.6.2"
  },
  "notify_time": "30"
 },
 "nbformat": 4,
 "nbformat_minor": 2
}
