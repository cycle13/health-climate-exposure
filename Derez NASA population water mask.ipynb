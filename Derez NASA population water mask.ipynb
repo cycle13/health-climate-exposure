{
 "cells": [
  {
   "cell_type": "markdown",
   "metadata": {},
   "source": [
    "# Reduce the resolution of the water mask to match the population"
   ]
  },
  {
   "cell_type": "code",
   "execution_count": 1,
   "metadata": {
    "collapsed": true
   },
   "outputs": [],
   "source": [
    "import numpy as np\n",
    "import pandas as pd\n",
    "import rasterio\n",
    "import xarray as xr\n",
    "from affine import Affine\n",
    "from numba import jit\n",
    "from rasterio import features\n",
    "from rasterio.crs import CRS\n",
    "from rasterio.enums import Resampling\n",
    "from rasterio.warp import reproject\n",
    "\n",
    "from config import POP_DATA_SRC\n",
    "\n",
    "\n",
    "def derez_water_mask(file_path, n_iters=1):\n",
    "    \"\"\"\n",
    "    Load water mask and invert such that land is true and water is false\n",
    "    De rex the water mask by performing 'or' of alternate rows\n",
    "    and columns such that any point where one square is water (false)\n",
    "    and the other square is land (true) the resulting point is considered as\n",
    "    land, since the population may be non-zero.\n",
    "    \n",
    "    This is a bit fancier than just performing a decimated read \n",
    "    (https://mapbox.github.io/rasterio/topics/resampling.html)\n",
    "    with the aim of avoiding dropping bits of the population\n",
    "    \"\"\"\n",
    "    with rasterio.open(str(file_path)) as pop:\n",
    "        print(pop.meta)\n",
    "        pop_meta = pop.meta\n",
    "        trns = pop.transform\n",
    "#         population = pop.read(1, masked=True)\n",
    "        population = pop.read_masks(1)\n",
    "\n",
    "        population = population.astype(bool)\n",
    "    for i in range(n_iters):\n",
    "        # every other row\n",
    "        population = population[::2, :] | population[1::2, :]\n",
    "        # every other column\n",
    "        population = population[:, ::2] | population[:, 1::2]\n",
    "        # Output affine scaled by 2\n",
    "        trns = Affine(trns.a * 2, trns.b, trns.c, trns.d, trns.e * 2, trns.f)\n",
    "        \n",
    "    return population, trns, pop_meta\n",
    "    # Reduction to 1/4 of the original size already makes life much easier\n",
    "\n",
    "\n",
    "def save_population_geotiff(population, trns, pop_meta):\n",
    "    print('Saving')\n",
    "    print(population.shape)\n",
    "    population = population.astype(float)\n",
    "\n",
    "\n",
    "    with rasterio.open(str(POP_DATA_SRC / 'nasa_grid' / _POPULATION_PATH_TEMPLATE.format(resolution=REZ_FIX)),\n",
    "                       'w',\n",
    "                       driver='GTiff',\n",
    "                       height=population.shape[0],\n",
    "                       width=population.shape[1],\n",
    "                       count=1,\n",
    "                       dtype=population.dtype,\n",
    "                       crs=pop_meta['crs'],\n",
    "                       transform=trns,\n",
    "                       compress='lzw') as new_dataset:\n",
    "        new_dataset.write(population, 1)"
   ]
  },
  {
   "cell_type": "code",
   "execution_count": 2,
   "metadata": {
    "collapsed": true
   },
   "outputs": [],
   "source": [
    "REZ_FIX = 'eightres'\n",
    "_POPULATION_PATH_TEMPLATE = 'water_mask_{resolution}.tif'\n",
    "input_file = POP_DATA_SRC / 'nasa_grid'/ 'gpw-v4-data-quality-indicators-water-mask' / 'gpw-v4-data-quality-indicators_water-mask.tif'\n",
    "input_file = (POP_DATA_SRC / 'nasa_grid'/ 'count'/\n",
    "              'gpw-v4-population-count-adjusted-to-2015-unwpp-country-totals-2000' / \n",
    "              'gpw-v4-population-count-adjusted-to-2015-unwpp-country-totals_2000.tif')"
   ]
  },
  {
   "cell_type": "code",
   "execution_count": 55,
   "metadata": {},
   "outputs": [
    {
     "name": "stdout",
     "output_type": "stream",
     "text": [
      "{'driver': 'GTiff', 'dtype': 'float32', 'nodata': -407649103380480.0, 'width': 43200, 'height': 17400, 'count': 1, 'crs': CRS({'init': 'epsg:4326'}), 'transform': Affine(0.00833333333333339, 0.0, -180.0,\n",
      "       0.0, -0.00833333333333339, 85.0000000000092)}\n"
     ]
    }
   ],
   "source": [
    "population, trns, pop_meta = derez_water_mask(input_file, n_iters=3)\n"
   ]
  },
  {
   "cell_type": "code",
   "execution_count": 59,
   "metadata": {},
   "outputs": [
    {
     "name": "stdout",
     "output_type": "stream",
     "text": [
      "Saving\n",
      "(2175, 5400)\n"
     ]
    }
   ],
   "source": [
    "save_population_geotiff(population, trns, pop_meta)"
   ]
  },
  {
   "cell_type": "code",
   "execution_count": null,
   "metadata": {
    "collapsed": true
   },
   "outputs": [],
   "source": []
  }
 ],
 "metadata": {
  "hide_input": false,
  "kernelspec": {
   "display_name": "Python [conda env:lancet]",
   "language": "python",
   "name": "conda-env-lancet-py"
  },
  "language_info": {
   "codemirror_mode": {
    "name": "ipython",
    "version": 3
   },
   "file_extension": ".py",
   "mimetype": "text/x-python",
   "name": "python",
   "nbconvert_exporter": "python",
   "pygments_lexer": "ipython3",
   "version": "3.6.1"
  },
  "notify_time": "30"
 },
 "nbformat": 4,
 "nbformat_minor": 2
}
