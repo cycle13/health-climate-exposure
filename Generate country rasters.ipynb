{
 "cells": [
  {
   "cell_type": "code",
   "execution_count": 21,
   "metadata": {},
   "outputs": [],
   "source": [
    "%matplotlib inline\n",
    "\n",
    "from pathlib import Path\n",
    "from datetime import date\n",
    "\n",
    "import rasterio\n",
    "from rasterio import features\n",
    "import numpy as np\n",
    "import scipy as sp\n",
    "import pandas as pd\n",
    "import xarray as xr\n",
    "import matplotlib.pyplot as plt\n",
    "import cartopy.crs as ccrs\n",
    "import geopandas as gpd\n",
    "\n",
    "\n",
    "import affine\n",
    "\n",
    "# from scipy import stats\n",
    "from tqdm import tnrange, tqdm_notebook, tqdm\n",
    "\n",
    "import population_tools\n",
    "\n",
    "from config import (DATA_SRC, POP_DATA_SRC)"
   ]
  },
  {
   "cell_type": "code",
   "execution_count": 32,
   "metadata": {},
   "outputs": [],
   "source": [
    "RESULTS_FOLDER = DATA_SRC/ 'lancet/countries_rasters/'\n",
    "\n",
    "COUNTRY_SHAPEFILE = DATA_SRC / 'GIS' / 'world'/ 'ne_50m_admin_0_countries' / 'ne_50m_admin_0_countries.shp'\n",
    "\n",
    "POP_FILE = POP_DATA_SRC / 'population_count_2000-2020_eightres.nc'\n",
    "\n",
    "# LIMIT to the following countries for now\n",
    "SELECTED_COUNTRIES = ['IND', 'USA', 'GBR', 'FRA', 'SWE', 'AUS']"
   ]
  },
  {
   "cell_type": "code",
   "execution_count": 6,
   "metadata": {},
   "outputs": [],
   "source": [
    "# Load a country shapefile for rasterising\n",
    "COUNTRIES = gpd.read_file(str(COUNTRY_SHAPEFILE))\n",
    "# Translate to match raster coordinates\n",
    "COUNTRIES.geometry = COUNTRIES.translate(xoff=180)\n",
    "\n",
    "# Remove missing UN A3 code fields, convert to int and set as index\n",
    "COUNTRIES.loc[COUNTRIES.un_a3 == '-099', 'un_a3'] = np.nan\n",
    "COUNTRIES.un_a3 = COUNTRIES.un_a3.astype(float)\n",
    "COUNTRIES = COUNTRIES[np.isfinite(COUNTRIES.un_a3)]\n",
    "COUNTRIES.un_a3 = COUNTRIES.un_a3.astype(int)\n",
    "COUNTRIES = COUNTRIES.set_index('un_a3')"
   ]
  },
  {
   "cell_type": "code",
   "execution_count": 36,
   "metadata": {},
   "outputs": [],
   "source": [
    "def rasterize_and_save_countries(pop, country_table, out_folder):\n",
    "    \n",
    "            \n",
    "    countries = country_table[['geometry']].copy()\n",
    "    countries['iso_a3'] = country_table.index\n",
    "    \n",
    "    raster = population_tools.rasterize_data(pop.population, countries, 'iso_a3')\n",
    "    raster = raster * pop.water_mask.squeeze().values\n",
    "#     raster.shape = (*raster.shape, 1)\n",
    "    raster = xr.DataArray(raster, coords=[pop.latitude, pop.longitude], \n",
    "                        dims=['latitude', 'longitude'], name='country_id')\n",
    "\n",
    "    # For some reason, Panpoly viewer doesn't like 'years' as int64 but accepts int32:/\n",
    "#     raster['iso_a3'] = raster['iso_a3'].astype(np.int32)\n",
    "\n",
    "    raster.to_netcdf(str(out_folder / f'country_all.nc'))\n",
    "\n",
    "\n",
    "def rasterize_and_save_country(iso_a3, pop, country_row, out_folder):        \n",
    "#     country = country_row[['geometry']].copy()\n",
    "    \n",
    "    \n",
    "    affine = population_tools.get_affine(pop.population)\n",
    "\n",
    "    raster = features.rasterize(\n",
    "        [(country_row.geometry, 1)],\n",
    "        out_shape=pop.population.shape[:2],\n",
    "        transform=affine,\n",
    "        all_touched=True\n",
    "    )\n",
    "    # Roll the result to fix affine oddity\n",
    "    raster = np.roll(raster, -raster.shape[1] // 2, axis=1)\n",
    "\n",
    "    raster = raster * pop.water_mask.squeeze().values\n",
    "    raster.shape = (*raster.shape, 1)\n",
    "    raster = xr.DataArray(raster, coords=[pop.latitude, pop.longitude, [iso_a3]], \n",
    "                        dims=['latitude', 'longitude', 'iso_a3'], name='country_id')\n",
    "\n",
    "    # For some reason, Panpoly viewer doesn't like 'years' as int64 but accepts int32:/\n",
    "    raster['iso_a3'] = raster['iso_a3'].astype(np.int32)\n",
    "\n",
    "    raster.to_netcdf(str(out_folder / f'country_{iso_a3}.nc'))\n",
    "\n",
    "\n",
    "\n"
   ]
  },
  {
   "cell_type": "code",
   "execution_count": 30,
   "metadata": {},
   "outputs": [],
   "source": [
    "with population_tools.load_masked_population(POP_FILE) as pop_file:\n",
    "    rasterize_and_save_countries(pop_file, COUNTRIES, RESULTS_FOLDER)"
   ]
  },
  {
   "cell_type": "code",
   "execution_count": 38,
   "metadata": {},
   "outputs": [],
   "source": [
    "tmp = COUNTRIES[COUNTRIES.adm0_a3.isin(SELECTED_COUNTRIES)]\n",
    "\n",
    "with population_tools.load_masked_population(POP_FILE) as pop_file:\n",
    "    \n",
    "    for idx, row in tmp.iterrows():\n",
    "        rasterize_and_save_country(idx, pop_file,\n",
    "                                    row, \n",
    "                                       RESULTS_FOLDER)"
   ]
  },
  {
   "cell_type": "code",
   "execution_count": null,
   "metadata": {},
   "outputs": [],
   "source": []
  }
 ],
 "metadata": {
  "kernelspec": {
   "display_name": "Python [conda env:lancet]",
   "language": "python",
   "name": "conda-env-lancet-py"
  },
  "language_info": {
   "codemirror_mode": {
    "name": "ipython",
    "version": 3
   },
   "file_extension": ".py",
   "mimetype": "text/x-python",
   "name": "python",
   "nbconvert_exporter": "python",
   "pygments_lexer": "ipython3",
   "version": "3.6.4"
  }
 },
 "nbformat": 4,
 "nbformat_minor": 2
}
