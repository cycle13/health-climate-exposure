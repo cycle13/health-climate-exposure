{
 "cells": [
  {
   "cell_type": "markdown",
   "metadata": {},
   "source": [
    "# Project NASA T anomaly onto population\n",
    "\n",
    "## NOTE: one thing i don't like about this is that the basis data will be different for the rest of the indicators, makes life difficult. Much prefer to use a common basis."
   ]
  },
  {
   "cell_type": "code",
   "execution_count": 18,
   "metadata": {},
   "outputs": [],
   "source": [
    "import numpy as np\n",
    "import scipy as sp\n",
    "import pandas as pd\n",
    "import xarray as xr\n",
    "import rasterio\n",
    "from rasterio.io import MemoryFile\n",
    "from rasterio.warp import reproject, Resampling\n",
    "from affine import Affine\n",
    "\n",
    "from config import DATA_SRC, POP_DATA_SRC"
   ]
  },
  {
   "cell_type": "code",
   "execution_count": 35,
   "metadata": {},
   "outputs": [],
   "source": [
    "nasa_giss_anom = DATA_SRC / 'weather' / 'nasa_giss' / 'air.2x2.1200.mon.anom.comb.nc'\n",
    "# year for population\n",
    "year = 2015\n",
    "population_file_path = POP_DATA_SRC / 'nasa_grid' / 'count' / f'population_{year}_quartres.tif'"
   ]
  },
  {
   "cell_type": "code",
   "execution_count": 36,
   "metadata": {},
   "outputs": [
    {
     "data": {
      "text/plain": [
       "<xarray.Dataset>\n",
       "Dimensions:  (lat: 90, lon: 180, time: 1647)\n",
       "Coordinates:\n",
       "  * lat      (lat) float32 89.0 87.0 85.0 83.0 81.0 79.0 77.0 75.0 73.0 71.0 ...\n",
       "  * lon      (lon) float32 1.0 3.0 5.0 7.0 9.0 11.0 13.0 15.0 17.0 19.0 21.0 ...\n",
       "  * time     (time) datetime64[ns] 1880-01-01 1880-02-01 1880-03-01 ...\n",
       "Data variables:\n",
       "    air      (time, lat, lon) float64 nan nan nan nan nan nan nan nan nan ...\n",
       "Attributes:\n",
       "    title:          GISS Surface Temperature Analysis (GISTEMP): 1200km smoot...\n",
       "    comments:       This is the 1200km smoothed combined land,ocean version o...\n",
       "    platform:       Analysis\n",
       "    Source:         http://data.giss.nasa.gov/gistemp/ source and http://data...\n",
       "    Documentation:  http://www.esrl.noaa.gov/psd/data/gridded/data.gistemp.html\n",
       "    references:     http://www.esrl.noaa.gov/psd/data/gridded/data.gistemp.html\n",
       "    Conventions:    COARDS\n",
       "    history:        created at PSD Jun 2009 by CAS. Converted to chunked, def...\n",
       "    dataset_title:  GISS Surface Temperature Analysis"
      ]
     },
     "execution_count": 36,
     "metadata": {},
     "output_type": "execute_result"
    }
   ],
   "source": [
    "nasa_giss = xr.open_dataset(str(nasa_giss_anom))\n",
    "nasa_giss"
   ]
  },
  {
   "cell_type": "code",
   "execution_count": 89,
   "metadata": {
    "scrolled": false
   },
   "outputs": [],
   "source": [
    "temperature = nasa_giss.air.sel(time='2005').mean(dim='time').values.astype('float32')"
   ]
  },
  {
   "cell_type": "code",
   "execution_count": 90,
   "metadata": {},
   "outputs": [
    {
     "data": {
      "text/plain": [
       "array([[ 2.71383071,  2.71383071,  2.71383071, ...,  2.71383071,\n",
       "         2.71383071,  2.71383071],\n",
       "       [ 2.71383071,  2.71383071,  2.71383071, ...,  2.71383071,\n",
       "         2.71383071,  2.71383071],\n",
       "       [ 2.71383071,  2.71383071,  2.71383071, ...,  2.71383071,\n",
       "         2.71383071,  2.71383071],\n",
       "       ..., \n",
       "       [ 1.28038037,  1.28038037,  1.28038037, ...,  1.28038037,\n",
       "         1.28038037,  1.28038037],\n",
       "       [ 1.28038037,  1.28038037,  1.28038037, ...,  1.28038037,\n",
       "         1.28038037,  1.28038037],\n",
       "       [ 1.28038037,  1.28038037,  1.28038037, ...,  1.28038037,\n",
       "         1.28038037,  1.28038037]], dtype=float32)"
      ]
     },
     "execution_count": 90,
     "metadata": {},
     "output_type": "execute_result"
    }
   ],
   "source": [
    "temperature"
   ]
  },
  {
   "cell_type": "code",
   "execution_count": 57,
   "metadata": {},
   "outputs": [
    {
     "name": "stdout",
     "output_type": "stream",
     "text": [
      "{'driver': 'GTiff', 'dtype': 'float32', 'nodata': None, 'width': 10800, 'height': 4350, 'count': 1, 'crs': CRS({'init': 'epsg:4326'}), 'transform': Affine(0.03333333333333356, 0.0, -180.0,\n",
      "       0.0, -0.03333333333333356, 85.0000000000092)}\n"
     ]
    }
   ],
   "source": [
    "with rasterio.open(str(population_file_path)) as pop:\n",
    "    print(pop.meta)\n",
    "    pop_meta = pop.meta\n",
    "    pop_trns = pop.transform\n",
    "    population = pop.read(1)"
   ]
  },
  {
   "cell_type": "code",
   "execution_count": 42,
   "metadata": {
    "collapsed": true
   },
   "outputs": [],
   "source": [
    "common_crs = pop_meta['crs']"
   ]
  },
  {
   "cell_type": "code",
   "execution_count": 10,
   "metadata": {},
   "outputs": [
    {
     "name": "stdout",
     "output_type": "stream",
     "text": [
      "(4350, 10800)\n",
      "(90, 180)\n",
      "[ 48.33333333  60.        ]\n"
     ]
    }
   ],
   "source": [
    "print(population.shape)\n",
    "print(temperature.shape)\n",
    "print(np.array(population.shape) / np.array(temperature.shape))"
   ]
  },
  {
   "cell_type": "code",
   "execution_count": 91,
   "metadata": {},
   "outputs": [],
   "source": [
    "# with rasterio.open(str(DATA_SRC / 'nasa_temp.tif')) as src:\n",
    "#     arr = src.read(1)\n",
    "nasa_trns =  Affine(2, 0.0, -179, 0.0, -2, 89)\n",
    "newarr = np.empty(shape=(round(population.shape[0]),\n",
    "                         round(population.shape[1])),\n",
    "                  dtype=temperature.dtype\n",
    "                 )\n",
    "\n",
    "reproject(\n",
    "    temperature, newarr,\n",
    "    src_transform = nasa_trns,\n",
    "    dst_transform = pop_trns,\n",
    "    src_crs = common_crs,\n",
    "    dst_crs = common_crs,\n",
    "    resample = Resampling.cubic_spline)"
   ]
  },
  {
   "cell_type": "code",
   "execution_count": 69,
   "metadata": {},
   "outputs": [
    {
     "data": {
      "text/plain": [
       "(4350, 10800)"
      ]
     },
     "execution_count": 69,
     "metadata": {},
     "output_type": "execute_result"
    }
   ],
   "source": [
    "population.shape"
   ]
  },
  {
   "cell_type": "code",
   "execution_count": 92,
   "metadata": {
    "collapsed": true
   },
   "outputs": [],
   "source": [
    "indicator = population * newarr"
   ]
  },
  {
   "cell_type": "code",
   "execution_count": 75,
   "metadata": {},
   "outputs": [],
   "source": [
    "with rasterio.open(str(DATA_SRC / 'nasa_temp.tif'),\n",
    "                   'w',\n",
    "                   driver='GTiff',\n",
    "                   height=temperature.shape[0],\n",
    "                   width=temperature.shape[1],\n",
    "                   count=1,\n",
    "                   dtype=temperature.dtype,\n",
    "                   crs=common_crs,\n",
    "                   transform=nasa_trns,\n",
    "                   compress='lzw') as new_dataset:\n",
    "    new_dataset.write(temperature, 1)"
   ]
  },
  {
   "cell_type": "code",
   "execution_count": 94,
   "metadata": {},
   "outputs": [],
   "source": [
    "with rasterio.open(str(DATA_SRC / 'nasa_dt_indicator.tif'),\n",
    "                   'w',\n",
    "                   driver='GTiff',\n",
    "                   height=indicator.shape[0],\n",
    "                   width=indicator.shape[1],\n",
    "                   count=1,\n",
    "                   dtype=indicator.dtype,\n",
    "                   crs=common_crs,\n",
    "                   transform=pop_trns,\n",
    "                   compress='lzw') as new_dataset:\n",
    "    new_dataset.write(indicator, 1)"
   ]
  },
  {
   "cell_type": "code",
   "execution_count": null,
   "metadata": {
    "collapsed": true
   },
   "outputs": [],
   "source": [
    ""
   ]
  }
 ],
 "metadata": {
  "hide_input": false,
  "kernelspec": {
   "display_name": "Python [conda env:lancet]",
   "language": "python",
   "name": "conda-env-lancet-py"
  },
  "language_info": {
   "codemirror_mode": {
    "name": "ipython",
    "version": 3.0
   },
   "file_extension": ".py",
   "mimetype": "text/x-python",
   "name": "python",
   "nbconvert_exporter": "python",
   "pygments_lexer": "ipython3",
   "version": "3.6.1"
  },
  "notify_time": "30"
 },
 "nbformat": 4,
 "nbformat_minor": 0
}