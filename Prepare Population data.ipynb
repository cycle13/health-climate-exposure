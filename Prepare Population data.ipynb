{
 "cells": [
  {
   "cell_type": "markdown",
   "metadata": {},
   "source": [
    "# Pre-process NASA GWP data for use in the indicators\n",
    "# TODO Clean this up, use it to run the scripts from population tools\n",
    "\n",
    "- Reduce the resolution of the NASA population data to 1/8 of the , original to simplify and speed up analysis. Do this by summing the population total values from 4 adjacent grid squares, repeat 3 times.\n",
    "- Reduce the resolution of the corresponding water mask to the same resoultion as the population data\n",
    "- Linearly interpolate the 5-yearly NASA population data to each year and save as NetCDF file.\n",
    "- Add the water mask to the NetCDF file."
   ]
  },
  {
   "cell_type": "code",
   "execution_count": 1,
   "metadata": {
    "collapsed": true
   },
   "outputs": [],
   "source": [
    "%matplotlib inline\n",
    "\n",
    "import numpy as np\n",
    "import pandas as pd\n",
    "import rasterio\n",
    "import xarray as xr\n",
    "import matplotlib.pyplot as plt\n",
    "\n",
    "from affine import Affine\n",
    "from numba import jit\n",
    "from rasterio import features\n",
    "from rasterio.crs import CRS\n",
    "from rasterio.enums import Resampling\n",
    "from rasterio.warp import reproject\n",
    "\n",
    "import population_tools\n",
    "from config import POP_DATA_SRC, DATA_SRC\n"
   ]
  },
  {
   "cell_type": "code",
   "execution_count": 2,
   "metadata": {},
   "outputs": [],
   "source": [
    "N_ITERS_DEREZ = 3  # equivalent to 1/8th original resolution\n",
    "REZ_FIX = 'eightres' # Set the resolution postfix name\n",
    "\n",
    "POP_TYPE = 'count'\n",
    "_POPULATION_PATH_TEMPLATE = 'population_{year}_{resolution}.tif'\n",
    "_POP_SRC = POP_DATA_SRC / 'nasa_grid' / POP_TYPE\n",
    "_POP_ORIGINAL_FOLDER_TMPL = 'gpw-v4-population-{type}-adjusted-to-2015-unwpp-country-totals-{year}'\n",
    "_POP_ORIGINAL_TMPL = 'gpw-v4-population-{type}-adjusted-to-2015-unwpp-country-totals_{year}'"
   ]
  },
  {
   "cell_type": "markdown",
   "metadata": {},
   "source": [
    "# TODO include derez of population files here"
   ]
  },
  {
   "cell_type": "code",
   "execution_count": 3,
   "metadata": {},
   "outputs": [],
   "source": [
    "# TODO run the derez from here\n",
    "# population_tools.do_derez(how='sum')\n",
    "# population_tools.interp_to_netcdf()"
   ]
  },
  {
   "cell_type": "markdown",
   "metadata": {},
   "source": [
    "# Reduce the resolution of the water mask file"
   ]
  },
  {
   "cell_type": "code",
   "execution_count": 5,
   "metadata": {},
   "outputs": [],
   "source": [
    "def derez_water_mask(file_path, n_iters=1):\n",
    "    \"\"\"\n",
    "    Load water mask and invert such that land is true and water is false\n",
    "    Derez the water mask by performing 'or' of alternate rows\n",
    "    and columns such that any point where one square is water (false)\n",
    "    and the other square is land (true) the resulting point is considered as\n",
    "    land, since the population may be non-zero.\n",
    "    \n",
    "    This is a bit fancier than just performing a decimated read \n",
    "    (https://mapbox.github.io/rasterio/topics/resampling.html)\n",
    "    with the aim of avoiding dropping bits of the population\n",
    "    \"\"\"\n",
    "    with rasterio.open(str(file_path)) as pop:\n",
    "        print(pop.meta)\n",
    "        pop_meta = pop.meta\n",
    "        trns = pop.transform\n",
    "        population = pop.read_masks(1)\n",
    "\n",
    "        population = population.astype(bool)\n",
    "    for i in range(n_iters):\n",
    "        \n",
    "        first = population[::2, :]\n",
    "        second = population[1::2, :]\n",
    "        if second.shape[0] < first.shape[0]:\n",
    "            # missing a row, need to 'wrap'- just double the values from 'first' as an appoximation\n",
    "            second = np.vstack((second, first[-1, :]))\n",
    "        population = first | second\n",
    "        # Sum every other column\n",
    "        if second.shape[1] < first.shape[1]:\n",
    "            # missing a row, need to 'wrap'- just double the values from 'first' as an appoximation\n",
    "            second = np.hstack((second, first[:, -1]))\n",
    "        first = population[:, ::2]\n",
    "        second = population[:, 1::2]\n",
    "        # population = population[:, ::2] + population[:, 1::2]\n",
    "        population = first | second\n",
    "        \n",
    "        # Output affine scaled by 2\n",
    "        trns = Affine(trns.a * 2, trns.b, trns.c, trns.d, trns.e * 2, trns.f)\n",
    "        \n",
    "    return population, trns, pop_meta\n",
    "\n"
   ]
  },
  {
   "cell_type": "code",
   "execution_count": 34,
   "metadata": {},
   "outputs": [],
   "source": [
    "water_mask_input_file = POP_DATA_SRC / 'nasa_grid'/ 'gpw-v4-data-quality-indicators-water-mask' / 'gpw-v4-data-quality-indicators_water-mask.tif'\n",
    "\n",
    "water_mask_file = POP_DATA_SRC / f'water_mask_{REZ_FIX}.tif'\n"
   ]
  },
  {
   "cell_type": "code",
   "execution_count": null,
   "metadata": {},
   "outputs": [],
   "source": [
    "population, trns, pop_meta = derez_water_mask(water_mask_input_file, n_iters=4)\n",
    "save_geotiff(population, trns, pop_meta)"
   ]
  },
  {
   "cell_type": "markdown",
   "metadata": {},
   "source": [
    "# Combine the water mask with the population file\n",
    "\n",
    "- TODO no need to store the water mask tif since we merge with the population netcdf, could add directly to the population file without saving intermediate TIF file"
   ]
  },
  {
   "cell_type": "code",
   "execution_count": 3,
   "metadata": {
    "collapsed": true
   },
   "outputs": [],
   "source": [
    "population_file = POP_DATA_SRC / f'population_count_2000-2020_{REZ_FIX}.nc'\n",
    "water_mask_file = POP_DATA_SRC / 'nasa_grid' / f'water_mask_{REZ_FIX}.tif'\n",
    "\n",
    "population_output_file = POP_DATA_SRC / f'population_count_2000-2020_{REZ_FIX}_new.nc'"
   ]
  },
  {
   "cell_type": "code",
   "execution_count": 1,
   "metadata": {},
   "outputs": [],
   "source": [
    "\n",
    "def get_water_mask(target, file_path):\n",
    "    \"\"\"\n",
    "    Get the water mask on 0-360 lon range\n",
    "\n",
    "    Args:\n",
    "        target:\n",
    "\n",
    "    Returns:\n",
    "\n",
    "    \"\"\"\n",
    "\n",
    "    with rasterio.open(str(file_path)) as pop:\n",
    "        pop_mask = pop.read(1)\n",
    "\n",
    "\n",
    "        new_mask = np.empty(shape=(len(target.latitude),\n",
    "                                   len(target.longitude)))\n",
    "\n",
    "        new_aff = get_affine(target)\n",
    "        # Override xform to ensure -180 to 180 range\n",
    "        transform = Affine(new_aff.a, 0, -180, 0, new_aff.e, new_aff.f)\n",
    "        reproject(\n",
    "            pop_mask, new_mask,\n",
    "            src_transform=pop.transform,\n",
    "            dst_transform=transform,\n",
    "            src_crs=pop.crs,\n",
    "            dst_crs=pop.crs,\n",
    "            resample=Resampling.bilinear)\n",
    "\n",
    "    # Roll to fix -180 to 180 vs 0 to 360 convention\n",
    "\n",
    "    width = new_mask.shape[1]\n",
    "    new_mask = np.roll(new_mask, -width // 2, axis=1)\n",
    "    # TODO should this be as int or should we set 0 to nan\n",
    "    new_mask[new_mask == 0] = np.nan\n",
    "    return new_mask"
   ]
  },
  {
   "cell_type": "code",
   "execution_count": 4,
   "metadata": {},
   "outputs": [],
   "source": [
    "pop = xr.open_dataset(population_file)\n",
    "wat = get_water_mask(pop, water_mask_file)"
   ]
  },
  {
   "cell_type": "code",
   "execution_count": 6,
   "metadata": {},
   "outputs": [],
   "source": [
    "pop['water_mask'] = xr.DataArray(wat, coords=[pop.latitude, pop.longitude])"
   ]
  },
  {
   "cell_type": "code",
   "execution_count": 7,
   "metadata": {},
   "outputs": [],
   "source": [
    "pop.to_netcdf(population_output_file)"
   ]
  },
  {
   "cell_type": "code",
   "execution_count": null,
   "metadata": {},
   "outputs": [],
   "source": []
  }
 ],
 "metadata": {
  "hide_input": false,
  "kernelspec": {
   "display_name": "Python [conda env:lancet]",
   "language": "python",
   "name": "conda-env-lancet-py"
  },
  "language_info": {
   "codemirror_mode": {
    "name": "ipython",
    "version": 3
   },
   "file_extension": ".py",
   "mimetype": "text/x-python",
   "name": "python",
   "nbconvert_exporter": "python",
   "pygments_lexer": "ipython3",
   "version": "3.6.2"
  }
 },
 "nbformat": 4,
 "nbformat_minor": 2
}
