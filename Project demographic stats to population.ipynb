{
 "cells": [
  {
   "cell_type": "markdown",
   "metadata": {},
   "source": [
    "# Projecting demographics onto population\n",
    "\n",
    "For the population grids we have, project country-wise demographic information. For example, say we want to consider only population in a given age range, we want to apply the % of population in that age band to each population point.\n",
    "\n",
    "## Method\n",
    "\n",
    "- Load up demographic data from UN ESA WPP\n",
    "- Sum fields according to dimension of interest. At first will just look at population over 5 years old for the temperature exposure. Later consider other demographics as needed.\n",
    "- Join the calculated field to a world shapefile table (using geopandas) using the UN numerical country identifier.\n",
    "- Using rasterio, rasterise the vector layer into an image matching the population grid.\n",
    "- The resulting array can by used to multiply the outputs of the weather-population count projection.\n",
    "\n",
    "## TODO\n",
    "\n",
    "- Decide how to address demographics over time - do I want to have a grid for each year in the 2000-2015 range? Probably overkill, although for indicators related to old age, this might matter in places with rapidly aging populations (where even 15 years might be enough to see a meaningful change related to change in age structure). This would be more pronounced when extrapolating back further - I think I could extrapolate population grids roughly linearly back to 1990 without much trouble and the UN data covers that no problem. \n",
    "- For the Urban/Rural area (used in the labor productivity indicator), need to use a different demographics file and sum a bit more manually. HOWEVER I think there is actually a NASA grid file that does this already and might be more appropriate, since it would mask out the cities rather than just giving a national average. => Double checked, actually this does not seem to be the case. Just use the area indicators from Population Quinquennial"
   ]
  },
  {
   "cell_type": "code",
   "execution_count": 1,
   "metadata": {
    "collapsed": true
   },
   "outputs": [],
   "source": [
    "%matplotlib inline\n",
    "\n",
    "import numpy as np\n",
    "import pandas as pd\n",
    "import xarray as xr\n",
    "import geopandas as gpd\n",
    "import rasterio\n",
    "import matplotlib.pyplot as plt\n",
    "from rasterio import features\n",
    "from numba import jit\n",
    "from affine import Affine\n",
    "\n",
    "import population_tools\n",
    "from config import DATA_SRC, POP_DATA_SRC, HUMANS_SRC, COUNTRY_POLY_SHP"
   ]
  },
  {
   "cell_type": "markdown",
   "metadata": {},
   "source": [
    "## Demographic data\n",
    "\n",
    "For 'population over X age', use the stock indicators from https://esa.un.org/unpd/wpp/Download/Standard/ASCII/\n",
    "Description https://esa.un.org/unpd/wpp/DVD/Files/1_Indicators%20(Standard)/ASCII_FILES/WPP2015_DB02_Stock_Indicators.txt\n",
    "\n",
    "To get 'population over 5' need to combine columns 15-100 with "
   ]
  },
  {
   "cell_type": "code",
   "execution_count": 294,
   "metadata": {},
   "outputs": [
    {
     "data": {
      "text/html": [
       "<div>\n",
       "<table border=\"1\" class=\"dataframe\">\n",
       "  <thead>\n",
       "    <tr style=\"text-align: right;\">\n",
       "      <th></th>\n",
       "      <th>Location</th>\n",
       "      <th>VarID</th>\n",
       "      <th>Variant</th>\n",
       "      <th>Time</th>\n",
       "      <th>MidPeriod</th>\n",
       "      <th>PopTotal</th>\n",
       "      <th>PopMale</th>\n",
       "      <th>PopFemale</th>\n",
       "      <th>TDepR1564</th>\n",
       "      <th>TDepR2064</th>\n",
       "      <th>...</th>\n",
       "      <th>pFemale_25_100</th>\n",
       "      <th>pFemale_50_100</th>\n",
       "      <th>pFemale_60_100</th>\n",
       "      <th>pFemale_65_100</th>\n",
       "      <th>pFemale_70_100</th>\n",
       "      <th>pFemale_75_100</th>\n",
       "      <th>pFemale_80_100</th>\n",
       "      <th>pFemale_85_100</th>\n",
       "      <th>pFemale_90_100</th>\n",
       "      <th>pPopFemale</th>\n",
       "    </tr>\n",
       "    <tr>\n",
       "      <th>LocID</th>\n",
       "      <th></th>\n",
       "      <th></th>\n",
       "      <th></th>\n",
       "      <th></th>\n",
       "      <th></th>\n",
       "      <th></th>\n",
       "      <th></th>\n",
       "      <th></th>\n",
       "      <th></th>\n",
       "      <th></th>\n",
       "      <th></th>\n",
       "      <th></th>\n",
       "      <th></th>\n",
       "      <th></th>\n",
       "      <th></th>\n",
       "      <th></th>\n",
       "      <th></th>\n",
       "      <th></th>\n",
       "      <th></th>\n",
       "      <th></th>\n",
       "      <th></th>\n",
       "    </tr>\n",
       "  </thead>\n",
       "  <tbody>\n",
       "    <tr>\n",
       "      <th>4</th>\n",
       "      <td>Afghanistan</td>\n",
       "      <td>2</td>\n",
       "      <td>Medium</td>\n",
       "      <td>1950</td>\n",
       "      <td>1950.5</td>\n",
       "      <td>7752.118</td>\n",
       "      <td>4099.241</td>\n",
       "      <td>3652.877</td>\n",
       "      <td>78.24</td>\n",
       "      <td>117.42</td>\n",
       "      <td>...</td>\n",
       "      <td>38.13</td>\n",
       "      <td>10.48</td>\n",
       "      <td>4.65</td>\n",
       "      <td>2.65</td>\n",
       "      <td>1.28</td>\n",
       "      <td>0.48</td>\n",
       "      <td>0.13</td>\n",
       "      <td>NaN</td>\n",
       "      <td>NaN</td>\n",
       "      <td>100.0</td>\n",
       "    </tr>\n",
       "    <tr>\n",
       "      <th>4</th>\n",
       "      <td>Afghanistan</td>\n",
       "      <td>2</td>\n",
       "      <td>Medium</td>\n",
       "      <td>1955</td>\n",
       "      <td>1955.5</td>\n",
       "      <td>8270.024</td>\n",
       "      <td>4319.041</td>\n",
       "      <td>3950.983</td>\n",
       "      <td>79.53</td>\n",
       "      <td>119.91</td>\n",
       "      <td>...</td>\n",
       "      <td>37.86</td>\n",
       "      <td>10.29</td>\n",
       "      <td>4.60</td>\n",
       "      <td>2.68</td>\n",
       "      <td>1.34</td>\n",
       "      <td>0.53</td>\n",
       "      <td>0.15</td>\n",
       "      <td>NaN</td>\n",
       "      <td>NaN</td>\n",
       "      <td>100.0</td>\n",
       "    </tr>\n",
       "    <tr>\n",
       "      <th>4</th>\n",
       "      <td>Afghanistan</td>\n",
       "      <td>2</td>\n",
       "      <td>Medium</td>\n",
       "      <td>1960</td>\n",
       "      <td>1960.5</td>\n",
       "      <td>8994.793</td>\n",
       "      <td>4649.713</td>\n",
       "      <td>4345.080</td>\n",
       "      <td>81.72</td>\n",
       "      <td>123.32</td>\n",
       "      <td>...</td>\n",
       "      <td>37.47</td>\n",
       "      <td>10.10</td>\n",
       "      <td>4.54</td>\n",
       "      <td>2.66</td>\n",
       "      <td>1.36</td>\n",
       "      <td>0.56</td>\n",
       "      <td>0.17</td>\n",
       "      <td>NaN</td>\n",
       "      <td>NaN</td>\n",
       "      <td>100.0</td>\n",
       "    </tr>\n",
       "    <tr>\n",
       "      <th>4</th>\n",
       "      <td>Afghanistan</td>\n",
       "      <td>2</td>\n",
       "      <td>Medium</td>\n",
       "      <td>1965</td>\n",
       "      <td>1965.5</td>\n",
       "      <td>9935.358</td>\n",
       "      <td>5096.485</td>\n",
       "      <td>4838.873</td>\n",
       "      <td>83.96</td>\n",
       "      <td>127.32</td>\n",
       "      <td>...</td>\n",
       "      <td>36.99</td>\n",
       "      <td>9.90</td>\n",
       "      <td>4.47</td>\n",
       "      <td>2.64</td>\n",
       "      <td>1.37</td>\n",
       "      <td>0.58</td>\n",
       "      <td>0.19</td>\n",
       "      <td>NaN</td>\n",
       "      <td>NaN</td>\n",
       "      <td>100.0</td>\n",
       "    </tr>\n",
       "    <tr>\n",
       "      <th>4</th>\n",
       "      <td>Afghanistan</td>\n",
       "      <td>2</td>\n",
       "      <td>Medium</td>\n",
       "      <td>1970</td>\n",
       "      <td>1970.5</td>\n",
       "      <td>11121.097</td>\n",
       "      <td>5674.218</td>\n",
       "      <td>5446.879</td>\n",
       "      <td>88.13</td>\n",
       "      <td>131.35</td>\n",
       "      <td>...</td>\n",
       "      <td>36.46</td>\n",
       "      <td>9.71</td>\n",
       "      <td>4.41</td>\n",
       "      <td>2.62</td>\n",
       "      <td>1.37</td>\n",
       "      <td>0.59</td>\n",
       "      <td>0.20</td>\n",
       "      <td>NaN</td>\n",
       "      <td>NaN</td>\n",
       "      <td>100.0</td>\n",
       "    </tr>\n",
       "  </tbody>\n",
       "</table>\n",
       "<p>5 rows × 201 columns</p>\n",
       "</div>"
      ],
      "text/plain": [
       "          Location  VarID Variant  Time  MidPeriod   PopTotal   PopMale  \\\n",
       "LocID                                                                     \n",
       "4      Afghanistan      2  Medium  1950     1950.5   7752.118  4099.241   \n",
       "4      Afghanistan      2  Medium  1955     1955.5   8270.024  4319.041   \n",
       "4      Afghanistan      2  Medium  1960     1960.5   8994.793  4649.713   \n",
       "4      Afghanistan      2  Medium  1965     1965.5   9935.358  5096.485   \n",
       "4      Afghanistan      2  Medium  1970     1970.5  11121.097  5674.218   \n",
       "\n",
       "       PopFemale  TDepR1564  TDepR2064     ...      pFemale_25_100  \\\n",
       "LocID                                      ...                       \n",
       "4       3652.877      78.24     117.42     ...               38.13   \n",
       "4       3950.983      79.53     119.91     ...               37.86   \n",
       "4       4345.080      81.72     123.32     ...               37.47   \n",
       "4       4838.873      83.96     127.32     ...               36.99   \n",
       "4       5446.879      88.13     131.35     ...               36.46   \n",
       "\n",
       "       pFemale_50_100  pFemale_60_100  pFemale_65_100  pFemale_70_100  \\\n",
       "LocID                                                                   \n",
       "4               10.48            4.65            2.65            1.28   \n",
       "4               10.29            4.60            2.68            1.34   \n",
       "4               10.10            4.54            2.66            1.36   \n",
       "4                9.90            4.47            2.64            1.37   \n",
       "4                9.71            4.41            2.62            1.37   \n",
       "\n",
       "       pFemale_75_100  pFemale_80_100  pFemale_85_100  pFemale_90_100  \\\n",
       "LocID                                                                   \n",
       "4                0.48            0.13             NaN             NaN   \n",
       "4                0.53            0.15             NaN             NaN   \n",
       "4                0.56            0.17             NaN             NaN   \n",
       "4                0.58            0.19             NaN             NaN   \n",
       "4                0.59            0.20             NaN             NaN   \n",
       "\n",
       "       pPopFemale  \n",
       "LocID              \n",
       "4           100.0  \n",
       "4           100.0  \n",
       "4           100.0  \n",
       "4           100.0  \n",
       "4           100.0  \n",
       "\n",
       "[5 rows x 201 columns]"
      ]
     },
     "execution_count": 294,
     "metadata": {},
     "output_type": "execute_result"
    }
   ],
   "source": [
    "# un_demographics = pd.read_csv(POP_DATA_SRC / 'UN' / 'WPP2015_INT_F2B_Annual_Population_Indicators_Percentage.csv')\n",
    "# un_demographics = pd.read_csv(POP_DATA_SRC / 'UN' / 'WPP2015_INT_F3_Population_Annual_Single_Medium.csv')\n",
    "\n",
    "\n",
    "# un_demographics = pd.read_csv(POP_DATA_SRC / 'UN' / 'WPP2015_DB03_Population_Quinquennial.csv')\n",
    "un_demographics = pd.read_csv(POP_DATA_SRC / 'UN' / 'WPP2015_DB02_Stock_Indicators.csv')\n",
    "un_demographics = un_demographics.set_index('LocID')\n",
    "un_demographics.head()"
   ]
  },
  {
   "cell_type": "markdown",
   "metadata": {},
   "source": [
    "### Select a year or range of years. (2005 for now)"
   ]
  },
  {
   "cell_type": "code",
   "execution_count": null,
   "metadata": {
    "collapsed": true
   },
   "outputs": [],
   "source": [
    "year = 2005"
   ]
  },
  {
   "cell_type": "code",
   "execution_count": 295,
   "metadata": {
    "collapsed": true
   },
   "outputs": [],
   "source": [
    "un_demographics = un_demographics[un_demographics.Time == year]"
   ]
  },
  {
   "cell_type": "code",
   "execution_count": 296,
   "metadata": {},
   "outputs": [],
   "source": [
    "pct_over_5 = un_demographics.pPopTot_15_100 + un_demographics.pPopTot_5_14\n",
    "pct_over_5.name = 'frac_over_5'"
   ]
  },
  {
   "cell_type": "markdown",
   "metadata": {},
   "source": [
    "## Load the population data"
   ]
  },
  {
   "cell_type": "code",
   "execution_count": 91,
   "metadata": {
    "collapsed": true
   },
   "outputs": [],
   "source": [
    "population_file = POP_DATA_SRC / 'population_count_2000-2020.nc'\n",
    "pop_data = xr.open_dataset(str(population_file))"
   ]
  },
  {
   "cell_type": "markdown",
   "metadata": {},
   "source": [
    "## Load countries shapefile\n",
    "\n",
    "After some experimenting, found that the Natural Earth dataset seems to be up to date and reliable, and has a more open process for creation and issues which makes it easier to keep track. Some tweaks needed to adjust for missing country code fields and turn the index into integers.\n"
   ]
  },
  {
   "cell_type": "code",
   "execution_count": 326,
   "metadata": {},
   "outputs": [],
   "source": [
    "country_shapefile = DATA_SRC / 'GIS' / 'world'/ 'ne_50m_admin_0_countries' / 'ne_50m_admin_0_countries.shp'\n",
    "\n",
    "# COUNTRY_POLY_SHP\n",
    "gpd_countries = gpd.read_file(str(country_shapefile))\n",
    "\n",
    "# Remove missing UN A3 code fields, convert to int and set as index\n",
    "gpd_countries.loc[gpd_countries.un_a3 == '-099', 'un_a3'] = np.nan\n",
    "gpd_countries.un_a3 = gpd_countries.un_a3.astype(float)\n",
    "gpd_countries = gpd_countries[np.isfinite(gpd_countries.un_a3)]\n",
    "gpd_countries.un_a3 = gpd_countries.un_a3.astype(int)\n",
    "gpd_countries = gpd_countries.set_index('un_a3')\n"
   ]
  },
  {
   "cell_type": "code",
   "execution_count": 328,
   "metadata": {},
   "outputs": [],
   "source": [
    "gpd_countries = gpd_countries.join(pct_over_5)"
   ]
  },
  {
   "cell_type": "code",
   "execution_count": 311,
   "metadata": {
    "collapsed": true
   },
   "outputs": [],
   "source": [
    "pop_affine = population_tools.get_affine(pop_data)"
   ]
  },
  {
   "cell_type": "code",
   "execution_count": 331,
   "metadata": {
    "collapsed": true
   },
   "outputs": [],
   "source": [
    "gpd_countries.geometry = gpd_countries.translate(xoff=180)"
   ]
  },
  {
   "cell_type": "code",
   "execution_count": 332,
   "metadata": {},
   "outputs": [],
   "source": [
    "pop_affine = population_tools.get_affine(pop_data)\n",
    "raster = features.rasterize(\n",
    "    ((r.geometry, r.frac_over_5) for _, r in gpd_countries.iterrows()),\n",
    "    out_shape=pop_data.population.shape[:2], \n",
    "    transform=pop_affine\n",
    ")"
   ]
  },
  {
   "cell_type": "code",
   "execution_count": 333,
   "metadata": {},
   "outputs": [
    {
     "data": {
      "text/plain": [
       "<matplotlib.colorbar.Colorbar at 0x2193f0470>"
      ]
     },
     "execution_count": 333,
     "metadata": {},
     "output_type": "execute_result"
    },
    {
     "data": {
      "image/png": "[encoded data removed]",
      "text/plain": [
       "<matplotlib.figure.Figure at 0x1783878d0>"
      ]
     },
     "metadata": {
      "image/png": {
       "height": 239,
       "width": 362
      }
     },
     "output_type": "display_data"
    }
   ],
   "source": [
    "plt.imshow(raster, interpolation='nearest')\n",
    "plt.colorbar()"
   ]
  }
 ],
 "metadata": {
  "hide_input": false,
  "kernelspec": {
   "display_name": "Python [conda env:lancet]",
   "language": "python",
   "name": "conda-env-lancet-py"
  },
  "language_info": {
   "codemirror_mode": {
    "name": "ipython",
    "version": 3
   },
   "file_extension": ".py",
   "mimetype": "text/x-python",
   "name": "python",
   "nbconvert_exporter": "python",
   "pygments_lexer": "ipython3",
   "version": "3.6.1"
  },
  "notify_time": "30"
 },
 "nbformat": 4,
 "nbformat_minor": 2
}
