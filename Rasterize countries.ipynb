{
 "cells": [
  {
   "cell_type": "markdown",
   "metadata": {},
   "source": [
    "# Rasterize the country polygons onto the population grid\n",
    "\n",
    "> NOTE for future editions, the new netcdf grid version of the population file should include country identifiers already at the right resolution -> no need to rasterize separately for our modified population grid.\n",
    "\n",
    "Project and rasterize the country polygons onto the population file grid, so that it can be used as a grid mask when doing the country specific calculations."
   ]
  },
  {
   "cell_type": "code",
   "execution_count": 1,
   "metadata": {},
   "outputs": [],
   "source": [
    "%matplotlib inline\n",
    "\n",
    "import os\n",
    "\n",
    "from pathlib import Path\n",
    "from datetime import date\n",
    "\n",
    "import rasterio\n",
    "from rasterio import features\n",
    "import numpy as np\n",
    "import pandas as pd\n",
    "import xarray as xr\n",
    "import matplotlib.pyplot as plt\n",
    "import cartopy.crs as ccrs\n",
    "import geopandas as gpd\n",
    "import affine\n",
    "\n",
    "from tqdm import tqdm_notebook\n",
    "from shapely.geometry import Point\n",
    "from descartes import PolygonPatch\n",
    "\n",
    "import population_tools\n",
    "\n",
    "from config import (DATA_SRC, POP_DATA_SRC, WEATHER_SRC)"
   ]
  },
  {
   "cell_type": "code",
   "execution_count": 28,
   "metadata": {},
   "outputs": [],
   "source": [
    "RESULTS_FOLDER = DATA_SRC/ 'lancet/countries_rasters/'\n",
    "\n",
    "COUNTRY_SHAPEFILE = DATA_SRC / 'GIS' / 'world'/ 'ne_50m_admin_0_countries' / 'ne_50m_admin_0_countries.shp'\n",
    "\n",
    "POP_FILE = POP_DATA_SRC / 'population_count_2000-2020_eightres.nc'\n",
    "\n",
    "# Define the countries that are in the European Union\n",
    "# Don't forget to update post-Brexit >_<\n",
    "COUNTRY_CODES_EU = ['AT',  'BE', 'BG', 'CY', 'CZ', 'DK', 'EE',\n",
    "                    'FI', 'FR', 'DE', 'GR', 'HU', 'IE', 'IT', 'LV',\n",
    "                    'LT', 'LU', 'MT', 'NL', 'PL', 'PT', 'RO', 'SK', \n",
    "                    'SI', 'ES', 'SE', 'GB']\n",
    "\n",
    "\n",
    "# LIMIT to the following countries for now\n",
    "# SELECTED_COUNTRIES = ['IND', 'USA', 'GBR', 'FRA', 'SWE', 'AUS', 'BRA', 'CHN', 'CAN']\n",
    "# SELECTED_COUNTRIES = ['IN', 'US', 'GB', 'FR', 'SW', 'AU', 'BR', 'CN', 'CA']"
   ]
  },
  {
   "cell_type": "code",
   "execution_count": 29,
   "metadata": {},
   "outputs": [],
   "source": [
    "# Load a country shapefile for rasterising\n",
    "COUNTRIES = gpd.read_file(str(COUNTRY_SHAPEFILE))\n",
    "# Translate to match raster coordinates\n",
    "COUNTRIES.geometry = COUNTRIES.translate(xoff=180)\n",
    "\n",
    "# Remove missing UN A3 code fields, convert to int and set as index\n",
    "COUNTRIES.loc[COUNTRIES.un_a3 == '-099', 'un_a3'] = np.nan\n",
    "COUNTRIES.un_a3 = COUNTRIES.un_a3.astype(float)\n",
    "COUNTRIES = COUNTRIES[np.isfinite(COUNTRIES.un_a3)]\n",
    "COUNTRIES.un_a3 = COUNTRIES.un_a3.astype(int)\n",
    "COUNTRIES = COUNTRIES.set_index('un_a3')"
   ]
  },
  {
   "cell_type": "code",
   "execution_count": 85,
   "metadata": {},
   "outputs": [],
   "source": [
    "def rasterize_and_save_country(country_row, ref, out_folder, water_mask=None):\n",
    "    # Identify country by commonly used 2-letter code.\n",
    "    iso_a2 = country_row.iso_a2\n",
    "\n",
    "    affine = population_tools.get_affine(ref)\n",
    "\n",
    "    raster = features.rasterize(\n",
    "        [(country_row.geometry, 1)],\n",
    "        out_shape=ref.shape[:2],\n",
    "        transform=affine,\n",
    "        all_touched=True\n",
    "    )\n",
    "    # Roll the result to fix affine oddity\n",
    "    raster = np.roll(raster, -raster.shape[1] // 2, axis=1)\n",
    "    raster = raster * water_mask.squeeze().values\n",
    "    raster.shape = (*raster.shape, 1)\n",
    "    raster = xr.DataArray(raster, coords=[ref.latitude, ref.longitude, [iso_a2]], \n",
    "                        dims=['latitude', 'longitude', 'iso_a2'], name='country_mask')\n",
    "\n",
    "    raster.to_netcdf(out_folder / f'country_{iso_a2}.nc')\n",
    "\n",
    "    \n",
    "# Initial method assigned the country ID code to each corresponding cell.\n",
    "# However you have the issue of cells on the border - which country to assign to?\n",
    "# Having all the different numbers also makes it harder to use the data as a boolean mask \n",
    "# (needs extra transform step) and to merge countries together.\n",
    "# Instead create one grid per country and save as MF Dataset\n",
    "\n",
    "# def rasterize_and_save_countries(pop, country_table, out_folder):           \n",
    "#     countries = country_table[['geometry']].copy()\n",
    "#     countries['iso_a3'] = country_table.index\n",
    "    \n",
    "#     raster = population_tools.rasterize_data(pop.population, countries, 'iso_a3')\n",
    "#     raster = raster * pop.water_mask.squeeze().values\n",
    "# #     raster.shape = (*raster.shape, 1)\n",
    "#     raster = xr.DataArray(raster, coords=[pop.latitude, pop.longitude], \n",
    "#                         dims=['latitude', 'longitude'], name='country_id')\n",
    "#     raster.to_netcdf(str(out_folder / 'country_all.nc'))\n",
    "\n",
    "# with population_tools.load_masked_population(POP_FILE) as pop_file:\n",
    "#     rasterize_and_save_countries(pop_file, COUNTRIES, RESULTS_FOLDER)"
   ]
  },
  {
   "cell_type": "code",
   "execution_count": 68,
   "metadata": {},
   "outputs": [
    {
     "data": {
      "application/vnd.jupyter.widget-view+json": {
       "model_id": "510516159a0f489da57f18b62b6fb92e",
       "version_major": 2,
       "version_minor": 0
      },
      "text/plain": [
       "HBox(children=(IntProgress(value=0, max=229), HTML(value='')))"
      ]
     },
     "metadata": {},
     "output_type": "display_data"
    },
    {
     "name": "stdout",
     "output_type": "stream",
     "text": [
      "\n"
     ]
    }
   ],
   "source": [
    "with population_tools.load_masked_population(POP_FILE) as pop_file:    \n",
    "    for idx, row in tqdm_notebook(COUNTRIES.iterrows(), total=len(COUNTRIES)):\n",
    "        rasterize_and_save_country(row, pop_file.population,\n",
    "                                       RESULTS_FOLDER, pop_file.water_mask)"
   ]
  },
  {
   "cell_type": "markdown",
   "metadata": {},
   "source": [
    "#### Also rasterize at the resolution of the climate data"
   ]
  },
  {
   "cell_type": "code",
   "execution_count": 32,
   "metadata": {},
   "outputs": [],
   "source": [
    "CLIMATOLOGY_DAILY_FILE = WEATHER_SRC / 'ecmwf' / 'climatology_daily_tmin_quantiles.nc'\n",
    "\n",
    "RESULTS_FOLDER_CLIM = DATA_SRC/ 'lancet/countries_climate_rasters/'\n",
    "RESULTS_FOLDER_CLIM.mkdir(exist_ok=True)"
   ]
  },
  {
   "cell_type": "code",
   "execution_count": 40,
   "metadata": {},
   "outputs": [
    {
     "data": {
      "application/vnd.jupyter.widget-view+json": {
       "model_id": "bda6bbf429354b32a1fc576099c75c9e",
       "version_major": 2,
       "version_minor": 0
      },
      "text/plain": [
       "HBox(children=(IntProgress(value=0, max=229), HTML(value='')))"
      ]
     },
     "metadata": {},
     "output_type": "display_data"
    },
    {
     "name": "stdout",
     "output_type": "stream",
     "text": [
      "\n"
     ]
    }
   ],
   "source": [
    "def rasterize_to_climate_and_save_country(country_row, ref, out_folder):\n",
    "    # Identify country by commonly used 2-letter code.\n",
    "    iso_a2 = country_row.iso_a2\n",
    "\n",
    "    affine = population_tools.get_affine(ref)\n",
    "\n",
    "    raster = features.rasterize(\n",
    "        [(country_row.geometry, 1)],\n",
    "        out_shape=ref.shape[:2],\n",
    "        transform=affine,\n",
    "        all_touched=True\n",
    "    )\n",
    "    # Roll the result to fix affine oddity\n",
    "    raster = np.roll(raster, -raster.shape[1] // 2, axis=1)\n",
    "    \n",
    "    raster.shape = (*raster.shape, 1)\n",
    "    raster = xr.DataArray(raster, coords=[ref.latitude, ref.longitude, [iso_a2]], \n",
    "                        dims=['latitude', 'longitude', 'iso_a2'], name='country_mask')\n",
    "\n",
    "    raster.to_netcdf(out_folder / f'country_{iso_a2}.nc')\n",
    "    return raster\n",
    "\n",
    "    \n",
    "with xr.open_dataset(CLIMATOLOGY_DAILY_FILE) as ref_file:  \n",
    "    \n",
    "    ref = ref_file.sel(quantile=0.99, drop=True).temperature_2m\n",
    "    \n",
    "    for idx, row in tqdm_notebook(COUNTRIES.iterrows(), total=len(COUNTRIES)):\n",
    "        r = rasterize_to_climate_and_save_country(row, ref,\n",
    "                                       RESULTS_FOLDER_CLIM)"
   ]
  },
  {
   "cell_type": "markdown",
   "metadata": {},
   "source": [
    "# Add the EU28 to the dataset as if it was a separate country\n",
    "\n",
    "- Open the existing countries\n",
    "- Select the EU countries by their ISO A2 code\n",
    "- Flatten (using `any()` to select all points in iso_a2 dimension that are not null)\n",
    "- Apply water mask\n",
    "- Apply a simple circular mask to exclude overseas territories\n",
    "- Save to results folder"
   ]
  },
  {
   "cell_type": "code",
   "execution_count": 26,
   "metadata": {},
   "outputs": [],
   "source": [
    "iso_a2 = 'EU'\n",
    "out_file = RESULTS_FOLDER / f'country_{iso_a2}.nc'\n",
    "try:\n",
    "    os.remove(out_file)\n",
    "except FileNotFoundError:\n",
    "    pass\n",
    "\n",
    "with population_tools.load_masked_population(POP_FILE) as pop, \\\n",
    "      xr.open_mfdataset(str(RESULTS_FOLDER / 'country_*.nc')) as COUNTRIES_RASTER:\n",
    "\n",
    "    # Create a simple circular mask over the EU which will exclude overseas territories, notably French Guyana\n",
    "    # Create a circle around the 'centre of the EU https://en.wikipedia.org/wiki/Geographical_midpoint_of_Europe'\n",
    "    # Rasterize the circle and use it to multiply the combined EU raster\n",
    "    affine = population_tools.get_affine(pop.population)\n",
    "\n",
    "    eu_mask = features.rasterize(\n",
    "        [(Point(180+9.2477694, 50.1172861).buffer(30), 1)],\n",
    "        out_shape=pop.population.shape[:2],\n",
    "        transform=affine,\n",
    "        all_touched=True\n",
    "    )\n",
    "    eu_mask = np.roll(eu_mask, -eu_mask.shape[1] // 2, axis=1)\n",
    "   \n",
    "    raster = (COUNTRIES_RASTER.sel(iso_a2=COUNTRY_CODES_EU)\n",
    "                          .country_mask\n",
    "                          .any(dim='iso_a2'))\n",
    "    \n",
    "    raster = raster *eu_mask * pop.water_mask.squeeze()\n",
    "    \n",
    "    raster = raster.expand_dims('iso_a2').transpose('latitude', 'longitude', 'iso_a2')\n",
    "    raster = xr.DataArray(raster, coords=[pop.latitude, pop.longitude, [iso_a2]], \n",
    "                        dims=['latitude', 'longitude', 'iso_a2'], name='country_mask')\n",
    "    \n",
    "    raster.to_netcdf(out_file)"
   ]
  },
  {
   "cell_type": "code",
   "execution_count": 18,
   "metadata": {},
   "outputs": [
    {
     "data": {
      "text/plain": [
       "<matplotlib.collections.QuadMesh at 0x7f33400482b0>"
      ]
     },
     "execution_count": 18,
     "metadata": {},
     "output_type": "execute_result"
    },
    {
     "data": {
      "image/png": "[encoded data removed]",
      "text/plain": [
       "<Figure size 432x288 with 2 Axes>"
      ]
     },
     "metadata": {},
     "output_type": "display_data"
    }
   ],
   "source": [
    "raster.plot()"
   ]
  },
  {
   "cell_type": "code",
   "execution_count": 44,
   "metadata": {},
   "outputs": [],
   "source": [
    "# Repeat for the climate resolution data\n",
    "iso_a2 = 'EU'\n",
    "out_file = RESULTS_FOLDER_CLIM / f'country_{iso_a2}.nc'\n",
    "try:\n",
    "    os.remove(out_file)\n",
    "except FileNotFoundError:\n",
    "    pass\n",
    "\n",
    "with xr.open_dataset(CLIMATOLOGY_DAILY_FILE) as ref_file, \\\n",
    "      xr.open_mfdataset(str(RESULTS_FOLDER_CLIM / 'country_*.nc')) as COUNTRIES_RASTER:\n",
    "\n",
    "    ref = ref_file.sel(quantile=0.99, drop=True).temperature_2m\n",
    "    \n",
    "    # Create a simple circular mask over the EU which will exclude overseas territories, notably French Guyana\n",
    "    # Create a circle around the 'centre of the EU https://en.wikipedia.org/wiki/Geographical_midpoint_of_Europe'\n",
    "    # Rasterize the circle and use it to multiply the combined EU raster\n",
    "    affine = population_tools.get_affine(ref)\n",
    "\n",
    "    eu_mask = features.rasterize(\n",
    "        [(Point(180+9.2477694, 50.1172861).buffer(30), 1)],\n",
    "        out_shape=ref.shape[:2],\n",
    "        transform=affine,\n",
    "        all_touched=True\n",
    "    )\n",
    "    eu_mask = np.roll(eu_mask, -eu_mask.shape[1] // 2, axis=1)\n",
    "   \n",
    "    raster = (COUNTRIES_RASTER.sel(iso_a2=COUNTRY_CODES_EU)\n",
    "                          .country_mask\n",
    "                          .any(dim='iso_a2'))\n",
    "    \n",
    "    raster = raster * eu_mask\n",
    "    \n",
    "    raster = raster.expand_dims('iso_a2').transpose('latitude', 'longitude', 'iso_a2')\n",
    "    raster = xr.DataArray(raster, coords=[ref.latitude, ref.longitude, [iso_a2]], \n",
    "                        dims=['latitude', 'longitude', 'iso_a2'], name='country_mask')\n",
    "    \n",
    "    raster.to_netcdf(out_file)"
   ]
  },
  {
   "cell_type": "markdown",
   "metadata": {},
   "source": [
    "### Working used to figure out what mask to use to select only mainland EU"
   ]
  },
  {
   "cell_type": "code",
   "execution_count": 22,
   "metadata": {},
   "outputs": [],
   "source": [
    "eu = COUNTRIES[COUNTRIES.iso_a2.isin(COUNTRY_CODES_EU)]\n",
    "eu_clip = eu.drop('geometry', axis=1)\n",
    "\n",
    "# buffer by 30degrees around the EU centre point.\n",
    "eu_clip['geometry'] = eu.intersection(Point(180+9.2477694, 50.1172861).buffer(40))"
   ]
  },
  {
   "cell_type": "code",
   "execution_count": 25,
   "metadata": {},
   "outputs": [
    {
     "data": {
      "text/plain": [
       "<matplotlib.patches.PathPatch at 0x7f3310078908>"
      ]
     },
     "execution_count": 25,
     "metadata": {},
     "output_type": "execute_result"
    },
    {
     "data": {
      "image/png": "[encoded data removed]",
      "text/plain": [
       "<Figure size 432x288 with 1 Axes>"
      ]
     },
     "metadata": {},
     "output_type": "display_data"
    }
   ],
   "source": [
    "# Show that this clips out French Guyana\n",
    "ax = eu.plot()\n",
    "ax.add_patch(PolygonPatch( Point(180+9.2477694, 50.1172861).buffer(30) , fc='C3', alpha=0.5))"
   ]
  },
  {
   "cell_type": "markdown",
   "metadata": {},
   "source": [
    "## Process EU from NUTS file\n",
    "\n",
    "- Not currently used\n"
   ]
  },
  {
   "cell_type": "code",
   "execution_count": 69,
   "metadata": {},
   "outputs": [],
   "source": [
    "# eu_nuts = gpd.read_file(str(DATA_SRC / 'GIS' / 'NUTS_2013_10M_SH' / 'data' / 'NUTS_RG_10M_2013.shp'))\n",
    "# eu_nuts = eu_nuts[eu_nuts.STAT_LEVL_ == 0]\n",
    "\n",
    "# # IMPORTANT! The EU country code is NOT always the same as the UN ISO code\n",
    "# eu_nuts['iso_a2'] = eu_nuts.NUTS_ID\n",
    "\n",
    "# EU_RESULTS_FOLDER = DATA_SRC/ 'lancet/eu_countries_rasters/'\n",
    "# EU_RESULTS_FOLDER.mkdir(exist_ok=True)"
   ]
  },
  {
   "cell_type": "code",
   "execution_count": 11,
   "metadata": {},
   "outputs": [],
   "source": [
    "# with population_tools.load_masked_population(POP_FILE) as pop_file:    \n",
    "#     for idx, row in tqdm_notebook(eu_nuts.iterrows(), total=len(eu_nuts)):\n",
    "#         rasterize_and_save_country(row, pop_file,\n",
    "#                                        EU_RESULTS_FOLDER)\n"
   ]
  },
  {
   "cell_type": "code",
   "execution_count": null,
   "metadata": {},
   "outputs": [],
   "source": []
  }
 ],
 "metadata": {
  "kernelspec": {
   "display_name": "Python (Lancet)",
   "language": "python",
   "name": "lancet"
  },
  "language_info": {
   "codemirror_mode": {
    "name": "ipython",
    "version": 3
   },
   "file_extension": ".py",
   "mimetype": "text/x-python",
   "name": "python",
   "nbconvert_exporter": "python",
   "pygments_lexer": "ipython3",
   "version": "3.6.5"
  }
 },
 "nbformat": 4,
 "nbformat_minor": 2
}
