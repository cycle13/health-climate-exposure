{
 "cells": [
  {
   "cell_type": "code",
   "execution_count": 1,
   "metadata": {},
   "outputs": [],
   "source": [
    "import numpy as np\n",
    "from importlib import reload\n",
    "\n",
    "from drought_indices import thornthwaite, indices, test_indices\n"
   ]
  },
  {
   "cell_type": "code",
   "execution_count": 12,
   "metadata": {},
   "outputs": [
    {
     "name": "stderr",
     "output_type": "stream",
     "text": [
      "/Users/jonathanchambers/Documents/Lancet/health-climate-exposure/drought_indices/indices.py:441: RuntimeWarning: invalid value encountered in less\n",
      "  data_start_year)\n"
     ]
    },
    {
     "name": "stdout",
     "output_type": "stream",
     "text": [
      "204 ms ± 17.8 ms per loop (mean ± std. dev. of 7 runs, 1 loop each)\n"
     ]
    }
   ],
   "source": [
    "%%timeit\n",
    "month_scale = 6\n",
    "computed_spei = indices.spei_pearson(test_indices.IndicesTestCase.fixture_precips_mm,\n",
    "                                     month_scale,\n",
    "                                     1895,\n",
    "                                     temps_celsius=test_indices.IndicesTestCase.fixture_temps_celsius,\n",
    "                                     latitude_degrees=test_indices.IndicesTestCase.fixture_latitude_degrees)"
   ]
  },
  {
   "cell_type": "code",
   "execution_count": 11,
   "metadata": {},
   "outputs": [
    {
     "name": "stderr",
     "output_type": "stream",
     "text": [
      "/Users/jonathanchambers/Documents/Lancet/health-climate-exposure/drought_indices/indices.py:441: RuntimeWarning: invalid value encountered in less\n",
      "  data_start_year)\n"
     ]
    },
    {
     "name": "stdout",
     "output_type": "stream",
     "text": [
      "1.26 ms ± 126 µs per loop (mean ± std. dev. of 7 runs, 1 loop each)\n"
     ]
    },
    {
     "name": "stderr",
     "output_type": "stream",
     "text": [
      "/Users/jonathanchambers/miniconda3/envs/lancet/lib/python3.6/site-packages/scipy/stats/_distn_infrastructure.py:879: RuntimeWarning: invalid value encountered in greater\n",
      "  return (self.a < x) & (x < self.b)\n",
      "/Users/jonathanchambers/miniconda3/envs/lancet/lib/python3.6/site-packages/scipy/stats/_distn_infrastructure.py:879: RuntimeWarning: invalid value encountered in less\n",
      "  return (self.a < x) & (x < self.b)\n",
      "/Users/jonathanchambers/miniconda3/envs/lancet/lib/python3.6/site-packages/scipy/stats/_distn_infrastructure.py:1738: RuntimeWarning: invalid value encountered in greater_equal\n",
      "  cond2 = (x >= self.b) & cond0\n",
      "/Users/jonathanchambers/miniconda3/envs/lancet/lib/python3.6/site-packages/scipy/stats/_distn_infrastructure.py:1904: RuntimeWarning: invalid value encountered in greater\n",
      "  cond1 = (0 < q) & (q < 1)\n",
      "/Users/jonathanchambers/miniconda3/envs/lancet/lib/python3.6/site-packages/scipy/stats/_distn_infrastructure.py:1904: RuntimeWarning: invalid value encountered in less\n",
      "  cond1 = (0 < q) & (q < 1)\n"
     ]
    }
   ],
   "source": [
    "%%timeit\n",
    "month_scale = 6\n",
    "computed_spei = indices.spei_gamma(test_indices.IndicesTestCase.fixture_precips_mm,\n",
    "                                           month_scale,\n",
    "                                           data_start_year=1895,\n",
    "                                           temps_celsius=test_indices.IndicesTestCase.fixture_temps_celsius,\n",
    "                                           latitude_degrees=test_indices.IndicesTestCase.fixture_latitude_degrees)"
   ]
  },
  {
   "cell_type": "code",
   "execution_count": null,
   "metadata": {},
   "outputs": [],
   "source": []
  }
 ],
 "metadata": {
  "kernelspec": {
   "display_name": "Python [conda env:lancet]",
   "language": "python",
   "name": "conda-env-lancet-py"
  },
  "language_info": {
   "codemirror_mode": {
    "name": "ipython",
    "version": 3
   },
   "file_extension": ".py",
   "mimetype": "text/x-python",
   "name": "python",
   "nbconvert_exporter": "python",
   "pygments_lexer": "ipython3",
   "version": "3.6.2"
  }
 },
 "nbformat": 4,
 "nbformat_minor": 2
}
