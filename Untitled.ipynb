{
 "cells": [
  {
   "cell_type": "code",
   "execution_count": 13,
   "metadata": {
    "collapsed": true
   },
   "outputs": [],
   "source": [
    "import concurrent.futures\n",
    "import numpy as np\n",
    "\n",
    "from numba import jit\n",
    "from scipy import interpolate\n",
    "\n",
    "import xarray as xr\n",
    "\n",
    "import weather_ecmwf\n",
    "from config import CLIMATOLOGY_FILE, WEATHER_FILE, DATA_SRC\n",
    "\n",
    "\n",
    "def do_resample(all_met_data, grid_lat_eq_mesh, grid_lon_eq_mesh, plat, plon, out_shape):\n",
    "    output_data = np.empty((out_shape))\n",
    "    print('resampling each slice of data')\n",
    "    # TODO: this could be parallel...\n",
    "    for i in range(out_shape[2]):\n",
    "        met_data = all_met_data[:, :, i]\n",
    "        met_resamp = resample_slice(grid_lat_eq_mesh, grid_lon_eq_mesh, met_data, plat, plon)\n",
    "        output_data[:, :, i] = met_resamp\n",
    "\n",
    "    return output_data\n",
    "\n",
    "@jit\n",
    "def resample_slice(weather_slice, new_lon_mesh, new_lat_mesh, plon, plat):\n",
    "    original_bspline = interpolate.RectBivariateSpline(plat, plon, weather_slice)\n",
    "    resamp = original_bspline(new_lat_mesh.ravel(), new_lon_mesh.ravel(), grid=False)\n",
    "    resamp = resamp.reshape(new_lon_mesh.shape)\n",
    "    return resamp\n",
    "\n",
    "\n",
    "@jit\n",
    "def resample():\n",
    "    era_climatology = weather_ecmwf.climatology_dataset(CLIMATOLOGY_FILE)\n",
    "    era_weather = weather_ecmwf.weather_dataset(WEATHER_FILE)\n",
    "    plon = np.sort(era_climatology.longitude)\n",
    "    plat = np.sort(era_climatology.latitude)\n",
    "\n",
    "    lon_grid, lat_grid = np.meshgrid(era_weather.longitude.values, era_weather.latitude.values)\n",
    "\n",
    "    out = np.empty((len(era_climatology.time),\n",
    "                    len(era_weather.latitude), len(era_weather.longitude)),\n",
    "                   dtype=float)\n",
    "\n",
    "    out = xr.DataArray(out, coords={'time': era_climatology.time,\n",
    "                                    'longitude': np.sort(era_weather.longitude),\n",
    "                                    'latitude': np.sort(era_weather.latitude)\n",
    "                                    }, dims=['time', 'latitude', 'longitude'])\n",
    "    for i, t in enumerate(era_climatology.time):\n",
    "        time_slice = era_climatology.temperature_2m.sel(time=t)\n",
    "        resamp = resample_slice(time_slice, lon_grid, lat_grid, plon, plat)\n",
    "        out.loc[t, : ,:] = resamp\n",
    "    \n",
    "\n",
    "    ds = xr.Dataset({'temperature_2m': out},\n",
    "                    coords={'longitude': out.longitude,\n",
    "                            'latitude': out.latitude,\n",
    "                            'time': out.time\n",
    "                            }\n",
    "                    )\n",
    "    return ds\n",
    "\n",
    "\n"
   ]
  },
  {
   "cell_type": "code",
   "execution_count": 14,
   "metadata": {},
   "outputs": [],
   "source": [
    "ds = resample()"
   ]
  },
  {
   "cell_type": "code",
   "execution_count": 16,
   "metadata": {},
   "outputs": [
    {
     "data": {
      "text/plain": [
       "<xarray.DataArray 'longitude' ()>\n",
       "array(359.25)"
      ]
     },
     "execution_count": 16,
     "metadata": {},
     "output_type": "execute_result"
    }
   ],
   "source": [
    "ds.longitude.max()\n"
   ]
  },
  {
   "cell_type": "code",
   "execution_count": 17,
   "metadata": {
    "collapsed": true
   },
   "outputs": [],
   "source": [
    "ds.to_netcdf(str(DATA_SRC / 'weather' / 'ecmwf' / 'era_climatology_resamp.nc'),\n",
    "                 encoding={'temperature_2m': {'zlib':True}}\n",
    "                 )"
   ]
  },
  {
   "cell_type": "code",
   "execution_count": null,
   "metadata": {
    "collapsed": true
   },
   "outputs": [],
   "source": []
  }
 ],
 "metadata": {
  "hide_input": false,
  "kernelspec": {
   "display_name": "Python [conda env:lancet]",
   "language": "python",
   "name": "conda-env-lancet-py"
  },
  "language_info": {
   "codemirror_mode": {
    "name": "ipython",
    "version": 3
   },
   "file_extension": ".py",
   "mimetype": "text/x-python",
   "name": "python",
   "nbconvert_exporter": "python",
   "pygments_lexer": "ipython3",
   "version": "3.6.1"
  },
  "notify_time": "30"
 },
 "nbformat": 4,
 "nbformat_minor": 2
}
